{
 "cells": [
  {
   "cell_type": "markdown",
   "id": "f46f4a19",
   "metadata": {},
   "source": [
    "# 3. Write a Python program for sorting a list of elements using selection sort algorithm:\n",
    "\n",
    "a. Assume two lists: Sorted list- Initially empty and Unsorted List-Given input list.\n",
    "\n",
    "b. In the first iteration, find the smallest element in the unsorted list and place it in the sorted\n",
    "\n",
    "list. \n",
    "\n",
    "c.In the second iteration, find the smallest element in the unsorted list and place it in the\n",
    "\n",
    "correct position by comparing with the element in the sorted list.\n",
    "d. In the third iteration, again find the smallest element in the unsorted list and place it in the\n",
    "\n",
    "correct position by comparing with the elements in the sorted list. \n",
    "e. This process continues till the unsorted list becomes empty.\n",
    "\n",
    "f. Display the sorted list."
   ]
  },
  {
   "cell_type": "code",
   "execution_count": 22,
   "id": "e2b6693d",
   "metadata": {},
   "outputs": [
    {
     "name": "stdout",
     "output_type": "stream",
     "text": [
      "Unsorted list: [64, 25, 12, 22, 11]\n",
      "Sorted list: [11, 12, 22, 25, 64]\n"
     ]
    }
   ],
   "source": [
    "def selection_sort(arr):\n",
    "    sorted_list = []\n",
    "\n",
    "    while len(arr) > 0:\n",
    "        \n",
    "        min_index = 0\n",
    "        for i in range(1, len(arr)):\n",
    "            if arr[i] < arr[min_index]:\n",
    "                min_index = i\n",
    "\n",
    "       \n",
    "        sorted_list.append(arr.pop(min_index))\n",
    "\n",
    "    return sorted_list\n",
    "\n",
    "\n",
    "if __name__ == \"__main__\":\n",
    "    input_list = [64, 25, 12, 22, 11]\n",
    "    print(\"Unsorted list:\", input_list)\n",
    "    \n",
    "    sorted_list = selection_sort(input_list)\n",
    "    \n",
    "    print(\"Sorted list:\", sorted_list)\n"
   ]
  },
  {
   "cell_type": "markdown",
   "id": "824ef8ea",
   "metadata": {},
   "source": [
    "# 5. Write a Python program that performs merge sort on a list of numbers: \n",
    "    \n",
    "    a.Divide: If the given array has zero or one element, return.\n",
    "\n",
    "1. Otherwise\n",
    "\n",
    "ii. Divide the input list in to two halves each containing half of the\n",
    "\n",
    "elements. L.e. left half and right half. \n",
    "\n",
    "b. Conquer: Recursively sort the two lists (left half and right half).\n",
    "\n",
    "      a. Call the merge sort on left half.\n",
    "\n",
    "       b. Call the merge sort on right half.\n",
    "\n",
    "c. Combine: Combine the elements back in the input list by merging the two sorted lists into a sorted sequence."
   ]
  },
  {
   "cell_type": "code",
   "execution_count": 21,
   "id": "e66180a0",
   "metadata": {},
   "outputs": [
    {
     "name": "stdout",
     "output_type": "stream",
     "text": [
      "Unsorted list: [12, 11, 13, 5, 6, 7]\n",
      "Sorted list: [5, 6, 7, 11, 12, 13]\n"
     ]
    }
   ],
   "source": [
    "def merge_sort(arr):\n",
    "    if len(arr) > 1:\n",
    "        \n",
    "        mid = len(arr) // 2\n",
    "        left_half = arr[:mid]\n",
    "        right_half = arr[mid:]\n",
    "\n",
    "        \n",
    "        merge_sort(left_half)\n",
    "        merge_sort(right_half)\n",
    "\n",
    "        \n",
    "        i = j = k = 0\n",
    "\n",
    "        while i < len(left_half) and j < len(right_half):\n",
    "            if left_half[i] < right_half[j]:\n",
    "                arr[k] = left_half[i]\n",
    "                i += 1\n",
    "            else:\n",
    "                arr[k] = right_half[j]\n",
    "                j += 1\n",
    "            k += 1\n",
    "\n",
    "        while i < len(left_half):\n",
    "            arr[k] = left_half[i]\n",
    "            i += 1\n",
    "            k += 1\n",
    "\n",
    "        while j < len(right_half):\n",
    "            arr[k] = right_half[j]\n",
    "            j += 1\n",
    "            k += 1\n",
    "\n",
    "    input_list = [12, 11, 13, 5, 6, 7]\n",
    "    print(\"Unsorted list:\", input_list)\n",
    "    merge_sort(input_list)\n",
    "    print(\"Sorted list:\", input_list)\n"
   ]
  },
  {
   "cell_type": "code",
   "execution_count": null,
   "id": "e0fdc4c7",
   "metadata": {},
   "outputs": [],
   "source": []
  }
 ],
 "metadata": {
  "kernelspec": {
   "display_name": "Python 3 (ipykernel)",
   "language": "python",
   "name": "python3"
  },
  "language_info": {
   "codemirror_mode": {
    "name": "ipython",
    "version": 3
   },
   "file_extension": ".py",
   "mimetype": "text/x-python",
   "name": "python",
   "nbconvert_exporter": "python",
   "pygments_lexer": "ipython3",
   "version": "3.11.4"
  }
 },
 "nbformat": 4,
 "nbformat_minor": 5
}
