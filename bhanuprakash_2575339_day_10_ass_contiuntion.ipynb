{
 "cells": [
  {
   "cell_type": "code",
   "execution_count": 3,
   "id": "4d478450",
   "metadata": {},
   "outputs": [
    {
     "data": {
      "text/html": [
       "<div>\n",
       "<style scoped>\n",
       "    .dataframe tbody tr th:only-of-type {\n",
       "        vertical-align: middle;\n",
       "    }\n",
       "\n",
       "    .dataframe tbody tr th {\n",
       "        vertical-align: top;\n",
       "    }\n",
       "\n",
       "    .dataframe thead th {\n",
       "        text-align: right;\n",
       "    }\n",
       "</style>\n",
       "<table border=\"1\" class=\"dataframe\">\n",
       "  <thead>\n",
       "    <tr style=\"text-align: right;\">\n",
       "      <th></th>\n",
       "      <th>title</th>\n",
       "      <th>year</th>\n",
       "      <th>name</th>\n",
       "      <th>type</th>\n",
       "      <th>character</th>\n",
       "      <th>n</th>\n",
       "    </tr>\n",
       "  </thead>\n",
       "  <tbody>\n",
       "    <tr>\n",
       "      <th>0</th>\n",
       "      <td>Closet Monster</td>\n",
       "      <td>2015</td>\n",
       "      <td>Buffy #1</td>\n",
       "      <td>actor</td>\n",
       "      <td>Buffy 4</td>\n",
       "      <td>31.0</td>\n",
       "    </tr>\n",
       "    <tr>\n",
       "      <th>1</th>\n",
       "      <td>Suuri illusioni</td>\n",
       "      <td>1985</td>\n",
       "      <td>Homo $</td>\n",
       "      <td>actor</td>\n",
       "      <td>Guests</td>\n",
       "      <td>22.0</td>\n",
       "    </tr>\n",
       "    <tr>\n",
       "      <th>2</th>\n",
       "      <td>Battle of the Sexes</td>\n",
       "      <td>2017</td>\n",
       "      <td>$hutter</td>\n",
       "      <td>actor</td>\n",
       "      <td>Bobby Riggs Fan</td>\n",
       "      <td>10.0</td>\n",
       "    </tr>\n",
       "    <tr>\n",
       "      <th>3</th>\n",
       "      <td>Secret in Their Eyes</td>\n",
       "      <td>2015</td>\n",
       "      <td>$hutter</td>\n",
       "      <td>actor</td>\n",
       "      <td>2002 Dodger Fan</td>\n",
       "      <td>NaN</td>\n",
       "    </tr>\n",
       "    <tr>\n",
       "      <th>4</th>\n",
       "      <td>Steve Jobs</td>\n",
       "      <td>2015</td>\n",
       "      <td>$hutter</td>\n",
       "      <td>actor</td>\n",
       "      <td>1988 Opera House Patron</td>\n",
       "      <td>NaN</td>\n",
       "    </tr>\n",
       "  </tbody>\n",
       "</table>\n",
       "</div>"
      ],
      "text/plain": [
       "                  title  year      name   type                character     n\n",
       "0        Closet Monster  2015  Buffy #1  actor                  Buffy 4  31.0\n",
       "1       Suuri illusioni  1985    Homo $  actor                   Guests  22.0\n",
       "2   Battle of the Sexes  2017   $hutter  actor          Bobby Riggs Fan  10.0\n",
       "3  Secret in Their Eyes  2015   $hutter  actor          2002 Dodger Fan   NaN\n",
       "4            Steve Jobs  2015   $hutter  actor  1988 Opera House Patron   NaN"
      ]
     },
     "execution_count": 3,
     "metadata": {},
     "output_type": "execute_result"
    }
   ],
   "source": [
    "%matplotlib inline\n",
    "import pandas as pd\n",
    "\n",
    "\n",
    "\n",
    "cast = pd.read_csv('cast.csv')\n",
    "cast.head()\n"
   ]
  },
  {
   "cell_type": "code",
   "execution_count": 4,
   "id": "a5542c3a",
   "metadata": {},
   "outputs": [
    {
     "data": {
      "text/html": [
       "<div>\n",
       "<style scoped>\n",
       "    .dataframe tbody tr th:only-of-type {\n",
       "        vertical-align: middle;\n",
       "    }\n",
       "\n",
       "    .dataframe tbody tr th {\n",
       "        vertical-align: top;\n",
       "    }\n",
       "\n",
       "    .dataframe thead th {\n",
       "        text-align: right;\n",
       "    }\n",
       "</style>\n",
       "<table border=\"1\" class=\"dataframe\">\n",
       "  <thead>\n",
       "    <tr style=\"text-align: right;\">\n",
       "      <th></th>\n",
       "      <th>title</th>\n",
       "      <th>year</th>\n",
       "    </tr>\n",
       "  </thead>\n",
       "  <tbody>\n",
       "    <tr>\n",
       "      <th>0</th>\n",
       "      <td>Tasveer Mere Sanam</td>\n",
       "      <td>1996</td>\n",
       "    </tr>\n",
       "    <tr>\n",
       "      <th>1</th>\n",
       "      <td>Only You</td>\n",
       "      <td>1994</td>\n",
       "    </tr>\n",
       "    <tr>\n",
       "      <th>2</th>\n",
       "      <td>El pueblo del terror</td>\n",
       "      <td>1970</td>\n",
       "    </tr>\n",
       "    <tr>\n",
       "      <th>3</th>\n",
       "      <td>Machine</td>\n",
       "      <td>2007</td>\n",
       "    </tr>\n",
       "    <tr>\n",
       "      <th>4</th>\n",
       "      <td>MARy</td>\n",
       "      <td>2008</td>\n",
       "    </tr>\n",
       "    <tr>\n",
       "      <th>...</th>\n",
       "      <td>...</td>\n",
       "      <td>...</td>\n",
       "    </tr>\n",
       "    <tr>\n",
       "      <th>244909</th>\n",
       "      <td>Black Butterfly in a Colorful World</td>\n",
       "      <td>2018</td>\n",
       "    </tr>\n",
       "    <tr>\n",
       "      <th>244910</th>\n",
       "      <td>Hua fei hua wu chun man cheng</td>\n",
       "      <td>1980</td>\n",
       "    </tr>\n",
       "    <tr>\n",
       "      <th>244911</th>\n",
       "      <td>Nippon dabi katsukyu</td>\n",
       "      <td>1970</td>\n",
       "    </tr>\n",
       "    <tr>\n",
       "      <th>244912</th>\n",
       "      <td>Under Siege 2: Dark Territory</td>\n",
       "      <td>1995</td>\n",
       "    </tr>\n",
       "    <tr>\n",
       "      <th>244913</th>\n",
       "      <td>She Must Be Seeing Things</td>\n",
       "      <td>1987</td>\n",
       "    </tr>\n",
       "  </tbody>\n",
       "</table>\n",
       "<p>244914 rows × 2 columns</p>\n",
       "</div>"
      ],
      "text/plain": [
       "                                      title  year\n",
       "0                        Tasveer Mere Sanam  1996\n",
       "1                                  Only You  1994\n",
       "2                      El pueblo del terror  1970\n",
       "3                                   Machine  2007\n",
       "4                                      MARy  2008\n",
       "...                                     ...   ...\n",
       "244909  Black Butterfly in a Colorful World  2018\n",
       "244910        Hua fei hua wu chun man cheng  1980\n",
       "244911                 Nippon dabi katsukyu  1970\n",
       "244912        Under Siege 2: Dark Territory  1995\n",
       "244913            She Must Be Seeing Things  1987\n",
       "\n",
       "[244914 rows x 2 columns]"
      ]
     },
     "execution_count": 4,
     "metadata": {},
     "output_type": "execute_result"
    }
   ],
   "source": [
    "titles = pd.read_csv('titles.csv')\n",
    "titles"
   ]
  },
  {
   "cell_type": "markdown",
   "id": "bdc6ddc0",
   "metadata": {},
   "source": [
    "# 11. How many roles were there in the movie \"Inception\""
   ]
  },
  {
   "cell_type": "code",
   "execution_count": 7,
   "id": "9fe6b024",
   "metadata": {},
   "outputs": [
    {
     "name": "stdout",
     "output_type": "stream",
     "text": [
      "Total number of roles in the movie 'Inception': 78\n"
     ]
    }
   ],
   "source": [
    "inception_cast = cast[cast['title'] == 'Inception']\n",
    "num_roles_in_inception = inception_cast.shape[0]\n",
    "print(f\"Total number of roles in the movie 'Inception': {num_roles_in_inception}\")\n"
   ]
  },
  {
   "cell_type": "markdown",
   "id": "27a2eddc",
   "metadata": {},
   "source": [
    "# 12.How many roles in the movie \"Inception\" are NOT rankesd by an \"n\" value"
   ]
  },
  {
   "cell_type": "code",
   "execution_count": 8,
   "id": "48e1a31e",
   "metadata": {},
   "outputs": [
    {
     "name": "stdout",
     "output_type": "stream",
     "text": [
      "Number of roles in the movie 'Inception' without an 'n' value: 27\n"
     ]
    }
   ],
   "source": [
    "inception_cast = cast[(cast['title'] == 'Inception') & cast['n'].isna()]\n",
    "num_roles_without_rank_in_inception = inception_cast.shape[0]\n",
    "print(f\"Number of roles in the movie 'Inception' without an 'n' value: {num_roles_without_rank_in_inception}\")\n"
   ]
  },
  {
   "cell_type": "markdown",
   "id": "117536d3",
   "metadata": {},
   "source": [
    "# 13.But how many roles in  the movie \"inception\"  did receive an \"n\" value"
   ]
  },
  {
   "cell_type": "code",
   "execution_count": 9,
   "id": "80b87cfe",
   "metadata": {},
   "outputs": [
    {
     "name": "stdout",
     "output_type": "stream",
     "text": [
      "Number of roles in the movie 'Inception' with an 'n' value: 51\n"
     ]
    }
   ],
   "source": [
    "inception_cast_with_rank = cast[(cast['title'] == 'Inception') & cast['n'].notna()]\n",
    "num_roles_with_rank_in_inception = inception_cast_with_rank.shape[0]\n",
    "print(f\"Number of roles in the movie 'Inception' with an 'n' value: {num_roles_with_rank_in_inception}\")\n"
   ]
  },
  {
   "cell_type": "markdown",
   "id": "74ff559b",
   "metadata": {},
   "source": [
    "# 14.Display the cast of \"North by Northwest\" in their correct \"n\" value order , ignoring roles that did not earn numeric \"n\" value"
   ]
  },
  {
   "cell_type": "code",
   "execution_count": 10,
   "id": "55cf4247",
   "metadata": {},
   "outputs": [
    {
     "name": "stdout",
     "output_type": "stream",
     "text": [
      "                         name     n\n",
      "871426             Cary Grant   1.0\n",
      "3518333       Eva Marie Saint   2.0\n",
      "1457165           James Mason   3.0\n",
      "3157232   Jessie Royce Landis   4.0\n",
      "356707         Leo G. Carroll   5.0\n",
      "3048272  Josephine Hutchinson   6.0\n",
      "1695173           Philip Ober   7.0\n",
      "1275337         Martin Landau   8.0\n",
      "2447081         Adam Williams   9.0\n",
      "1811387          Edward Platt  10.0\n",
      "665768      Robert Ellenstein  11.0\n",
      "2295714          Les Tremayne  12.0\n",
      "464736        Philip Coolidge  13.0\n",
      "1508344         Patrick McVey  14.0\n",
      "206471           Edward Binns  15.0\n",
      "1384780             Ken Lynch  16.0\n"
     ]
    }
   ],
   "source": [
    "\n",
    "north_by_northwest_cast = cast[(cast['title'] == 'North by Northwest') & cast['n'].notna()]\n",
    "\n",
    "\n",
    "cast_sorted_by_n_value = north_by_northwest_cast.sort_values(by='n')\n",
    "\n",
    "\n",
    "print(cast_sorted_by_n_value[['name', 'n']])\n"
   ]
  },
  {
   "cell_type": "markdown",
   "id": "5c634d24",
   "metadata": {},
   "source": [
    "# 15.Display the entire cast , in \"n\" order, of the 1972 film \"Sleuth\""
   ]
  },
  {
   "cell_type": "code",
   "execution_count": 11,
   "id": "b3ead109",
   "metadata": {},
   "outputs": [
    {
     "name": "stdout",
     "output_type": "stream",
     "text": [
      "                       name    n\n",
      "1705394    Laurence Olivier  1.0\n",
      "326773        Michael Caine  2.0\n",
      "373876       Alec Cawthorne  3.0\n",
      "1465483  John (II) Matthews  4.0\n",
      "2724553  Eve (III) Channing  5.0\n",
      "1448690        Teddy Martin  6.0\n"
     ]
    }
   ],
   "source": [
    "\n",
    "sleuth_1972_cast = cast[(cast['title'] == 'Sleuth') & (cast['year'] == 1972) & cast['n'].notna()]\n",
    "\n",
    "\n",
    "cast_sorted_by_n_value = sleuth_1972_cast.sort_values(by='n')\n",
    "\n",
    "\n",
    "print(cast_sorted_by_n_value[['name', 'n']])\n"
   ]
  },
  {
   "cell_type": "markdown",
   "id": "b7266bf2",
   "metadata": {},
   "source": [
    "# 16.now display the entire cast, in \"n\" order of the 2007 version of \"sleuth\"\n"
   ]
  },
  {
   "cell_type": "code",
   "execution_count": 12,
   "id": "ef676afe",
   "metadata": {},
   "outputs": [
    {
     "name": "stdout",
     "output_type": "stream",
     "text": [
      "                  name    n\n",
      "326774   Michael Caine  1.0\n",
      "1293634       Jude Law  2.0\n",
      "1805907  Harold Pinter  3.0\n"
     ]
    }
   ],
   "source": [
    "\n",
    "sleuth_2007_cast = cast[(cast['title'] == 'Sleuth') & (cast['year'] == 2007) & cast['n'].notna()]\n",
    "\n",
    "\n",
    "cast_sorted_by_n_value = sleuth_2007_cast.sort_values(by='n')\n",
    "\n",
    "\n",
    "print(cast_sorted_by_n_value[['name', 'n']])\n"
   ]
  },
  {
   "cell_type": "markdown",
   "id": "e15ae06d",
   "metadata": {},
   "source": [
    "# 17. How many roles were credited in the silent 1921 vesrion of Hamlet"
   ]
  },
  {
   "cell_type": "code",
   "execution_count": 13,
   "id": "452e465e",
   "metadata": {},
   "outputs": [
    {
     "name": "stdout",
     "output_type": "stream",
     "text": [
      "Number of credited roles in the silent 1921 version of 'Hamlet': 9\n"
     ]
    }
   ],
   "source": [
    "\n",
    "hamlet_1921_cast = cast[(cast['title'] == 'Hamlet') & (cast['year'] == 1921)]\n",
    "\n",
    "\n",
    "num_credited_roles = hamlet_1921_cast.shape[0]\n",
    "\n",
    "print(f\"Number of credited roles in the silent 1921 version of 'Hamlet': {num_credited_roles}\")\n"
   ]
  },
  {
   "cell_type": "markdown",
   "id": "7505a778",
   "metadata": {},
   "source": [
    "# 18.How may roles were credited in Branagh's 1996 Hamlet"
   ]
  },
  {
   "cell_type": "code",
   "execution_count": 14,
   "id": "63292166",
   "metadata": {},
   "outputs": [
    {
     "name": "stdout",
     "output_type": "stream",
     "text": [
      "Number of credited roles in Kenneth Branagh's 1996 version of 'Hamlet': 54\n"
     ]
    }
   ],
   "source": [
    "\n",
    "hamlet_1996_cast = cast[(cast['title'] == 'Hamlet') & (cast['year'] == 1996)]\n",
    "\n",
    "\n",
    "num_credited_roles = hamlet_1996_cast.shape[0]\n",
    "\n",
    "print(f\"Number of credited roles in Kenneth Branagh's 1996 version of 'Hamlet': {num_credited_roles}\")\n"
   ]
  },
  {
   "cell_type": "markdown",
   "id": "200c6b41",
   "metadata": {},
   "source": [
    "# 19.How many \"Halmet\"\" roles have been listed in all film credits through history "
   ]
  },
  {
   "cell_type": "code",
   "execution_count": 15,
   "id": "076700e7",
   "metadata": {},
   "outputs": [
    {
     "name": "stdout",
     "output_type": "stream",
     "text": [
      "Number of 'Hamlet' roles listed in all film credits through history: 342\n"
     ]
    }
   ],
   "source": [
    "\n",
    "hamlet_roles = cast[cast['title'] == 'Hamlet']\n",
    "\n",
    "num_hamlet_roles = hamlet_roles.shape[0]\n",
    "\n",
    "print(f\"Number of 'Hamlet' roles listed in all film credits through history: {num_hamlet_roles}\")\n"
   ]
  },
  {
   "cell_type": "markdown",
   "id": "1234220c",
   "metadata": {},
   "source": [
    "# 20.how many people have played an \"Ophelia\""
   ]
  },
  {
   "cell_type": "code",
   "execution_count": 16,
   "id": "2f5175bc",
   "metadata": {},
   "outputs": [
    {
     "name": "stdout",
     "output_type": "stream",
     "text": [
      "Number of people who have played the role of 'Ophelia': 115\n"
     ]
    }
   ],
   "source": [
    "\n",
    "ophelia_roles = cast[cast['character'] == 'Ophelia']\n",
    "\n",
    "num_ophelia_actors = ophelia_roles['name'].nunique()\n",
    "\n",
    "print(f\"Number of people who have played the role of 'Ophelia': {num_ophelia_actors}\")\n"
   ]
  },
  {
   "cell_type": "markdown",
   "id": "2824a3f8",
   "metadata": {},
   "source": [
    "# 21. how many people have played a role called \"The dude\""
   ]
  },
  {
   "cell_type": "code",
   "execution_count": 17,
   "id": "5e6de0e7",
   "metadata": {},
   "outputs": [
    {
     "name": "stdout",
     "output_type": "stream",
     "text": [
      "Number of people who have played a role called 'The Dude': 19\n"
     ]
    }
   ],
   "source": [
    "\n",
    "the_dude_roles = cast[cast['character'] == 'The Dude']\n",
    "\n",
    "\n",
    "num_the_dude_actors = the_dude_roles['name'].nunique()\n",
    "\n",
    "print(f\"Number of people who have played a role called 'The Dude': {num_the_dude_actors}\")\n"
   ]
  },
  {
   "cell_type": "markdown",
   "id": "8ca514c8",
   "metadata": {},
   "source": [
    "# 22.How many people have played a role called \"stranger\""
   ]
  },
  {
   "cell_type": "code",
   "execution_count": 18,
   "id": "7b3fe72e",
   "metadata": {},
   "outputs": [
    {
     "name": "stdout",
     "output_type": "stream",
     "text": [
      "Number of people who have played a role called 'stranger': 0\n"
     ]
    }
   ],
   "source": [
    "\n",
    "stranger_roles = cast[cast['character'] == 'stranger']\n",
    "\n",
    "\n",
    "num_stranger_actors = stranger_roles['name'].nunique()\n",
    "\n",
    "print(f\"Number of people who have played a role called 'stranger': {num_stranger_actors}\")\n"
   ]
  },
  {
   "cell_type": "markdown",
   "id": "740de144",
   "metadata": {},
   "source": [
    "# 23.How many roles has Sidney Poitier played throughout his carrer"
   ]
  },
  {
   "cell_type": "code",
   "execution_count": 19,
   "id": "45a00cde",
   "metadata": {},
   "outputs": [
    {
     "name": "stdout",
     "output_type": "stream",
     "text": [
      "Number of roles played by Sidney Poitier throughout his career: 43\n"
     ]
    }
   ],
   "source": [
    "\n",
    "sidney_poitier_roles = cast[cast['name'] == 'Sidney Poitier']\n",
    "\n",
    "\n",
    "num_sidney_poitier_roles = sidney_poitier_roles.shape[0]\n",
    "\n",
    "print(f\"Number of roles played by Sidney Poitier throughout his career: {num_sidney_poitier_roles}\")\n"
   ]
  },
  {
   "cell_type": "markdown",
   "id": "f46eb888",
   "metadata": {},
   "source": [
    "# 24.How many roles has Judi Dench played"
   ]
  },
  {
   "cell_type": "code",
   "execution_count": 20,
   "id": "3c53b5f6",
   "metadata": {},
   "outputs": [
    {
     "name": "stdout",
     "output_type": "stream",
     "text": [
      "Number of roles played by Judi Dench: 55\n"
     ]
    }
   ],
   "source": [
    "\n",
    "judi_dench_roles = cast[cast['name'] == 'Judi Dench']\n",
    "\n",
    "\n",
    "num_judi_dench_roles = judi_dench_roles.shape[0]\n",
    "\n",
    "print(f\"Number of roles played by Judi Dench: {num_judi_dench_roles}\")\n"
   ]
  },
  {
   "cell_type": "markdown",
   "id": "b2d3fd4f",
   "metadata": {},
   "source": [
    "# 25. List the supporting roles (having n=2) played by Cary Grant in the 1940s ,in order by year"
   ]
  },
  {
   "cell_type": "code",
   "execution_count": 21,
   "id": "68c595c1",
   "metadata": {},
   "outputs": [
    {
     "name": "stdout",
     "output_type": "stream",
     "text": [
      "                   title  year\n",
      "871423  My Favorite Wife  1940\n",
      "871433    Penny Serenade  1941\n"
     ]
    }
   ],
   "source": [
    "\n",
    "cary_grant_supporting_roles_1940s = cast[(cast['name'] == 'Cary Grant') & (cast['n'] == 2) & (cast['year'] >= 1940) & (cast['year'] <= 1949)]\n",
    "\n",
    "\n",
    "supporting_roles_sorted_by_year = cary_grant_supporting_roles_1940s.sort_values(by='year')\n",
    "\n",
    "print(supporting_roles_sorted_by_year[['title', 'year']])\n"
   ]
  },
  {
   "cell_type": "markdown",
   "id": "4e49501a",
   "metadata": {},
   "source": [
    "# 26. List the leading  roles that by Cary Grant played  in the 1940s ,in order by year"
   ]
  },
  {
   "cell_type": "code",
   "execution_count": 22,
   "id": "24146b78",
   "metadata": {},
   "outputs": [
    {
     "name": "stdout",
     "output_type": "stream",
     "text": [
      "                                       title  year\n",
      "871448               The Howards of Virginia  1940\n",
      "871407                       His Girl Friday  1940\n",
      "871450                The Philadelphia Story  1940\n",
      "871438                             Suspicion  1941\n",
      "871452                  The Talk of the Town  1942\n",
      "871429                 Once Upon a Honeymoon  1942\n",
      "871398                     Destination Tokyo  1943\n",
      "871422                             Mr. Lucky  1943\n",
      "871430                      Once Upon a Time  1944\n",
      "871390                  Arsenic and Old Lace  1944\n",
      "871425             None But the Lonely Heart  1944\n",
      "871424                         Night and Day  1946\n",
      "871427                             Notorious  1946\n",
      "871444      The Bachelor and the Bobby-Soxer  1947\n",
      "871445                     The Bishop's Wife  1947\n",
      "871421  Mr. Blandings Builds His Dream House  1948\n",
      "871402          Every Girl Should Be Married  1948\n",
      "871411                I Was a Male War Bride  1949\n"
     ]
    }
   ],
   "source": [
    "\n",
    "cary_grant_leading_roles_1940s = cast[(cast['name'] == 'Cary Grant') & (cast['n'] == 1) & (cast['year'] >= 1940) & (cast['year'] <= 1949)]\n",
    "\n",
    "\n",
    "leading_roles_sorted_by_year = cary_grant_leading_roles_1940s.sort_values(by='year')\n",
    "\n",
    "\n",
    "print(leading_roles_sorted_by_year[['title', 'year']])\n"
   ]
  },
  {
   "cell_type": "markdown",
   "id": "e7c074c0",
   "metadata": {},
   "source": [
    "# 27.How many roles were available for actors in the 1950s"
   ]
  },
  {
   "cell_type": "code",
   "execution_count": 23,
   "id": "80ae967e",
   "metadata": {},
   "outputs": [
    {
     "name": "stdout",
     "output_type": "stream",
     "text": [
      "Number of roles available for actors in the 1950s: 215471\n"
     ]
    }
   ],
   "source": [
    "\n",
    "roles_in_1950s = cast[(cast['year'] >= 1950) & (cast['year'] <= 1959)]\n",
    "\n",
    "\n",
    "num_roles_in_1950s = roles_in_1950s.shape[0]\n",
    "\n",
    "print(f\"Number of roles available for actors in the 1950s: {num_roles_in_1950s}\")\n"
   ]
  },
  {
   "cell_type": "markdown",
   "id": "e3dfe5d7",
   "metadata": {},
   "source": [
    "# 28.How many leading roles (n=1) were available from the beginnig of film history through 1980"
   ]
  },
  {
   "cell_type": "code",
   "execution_count": 24,
   "id": "d3d62dbf",
   "metadata": {},
   "outputs": [
    {
     "name": "stdout",
     "output_type": "stream",
     "text": [
      "Number of leading roles (n=1) available from the beginning of film history through 1980: 65140\n"
     ]
    }
   ],
   "source": [
    "\n",
    "leading_roles_until_1980 = cast[(cast['n'] == 1) & (cast['year'] <= 1980)]\n",
    "\n",
    "\n",
    "num_leading_roles_until_1980 = leading_roles_until_1980.shape[0]\n",
    "\n",
    "print(f\"Number of leading roles (n=1) available from the beginning of film history through 1980: {num_leading_roles_until_1980}\")\n"
   ]
  },
  {
   "cell_type": "markdown",
   "id": "3192d8d2",
   "metadata": {},
   "source": [
    "# 29.How many non leading roles were available from the beginnig of film history through 1980"
   ]
  },
  {
   "cell_type": "code",
   "execution_count": 25,
   "id": "668a5cdc",
   "metadata": {},
   "outputs": [
    {
     "name": "stdout",
     "output_type": "stream",
     "text": [
      "Number of non-leading roles (n is not equal to 1) available from the beginning of film history through 1980: 1117667\n"
     ]
    }
   ],
   "source": [
    "\n",
    "non_leading_roles_until_1980 = cast[(cast['n'] != 1) & (cast['year'] <= 1980)]\n",
    "\n",
    "\n",
    "num_non_leading_roles_until_1980 = non_leading_roles_until_1980.shape[0]\n",
    "\n",
    "print(f\"Number of non-leading roles (n is not equal to 1) available from the beginning of film history through 1980: {num_non_leading_roles_until_1980}\")\n",
    "\n"
   ]
  },
  {
   "cell_type": "markdown",
   "id": "3b5473d4",
   "metadata": {},
   "source": [
    "# 30.How many roles through 1980 were minor enough that they did not warrant a numeric \"n\" rank"
   ]
  },
  {
   "cell_type": "code",
   "execution_count": 26,
   "id": "cf424b66",
   "metadata": {},
   "outputs": [
    {
     "name": "stdout",
     "output_type": "stream",
     "text": [
      "Number of roles through 1980 without a numeric 'n' rank: 448347\n"
     ]
    }
   ],
   "source": [
    "\n",
    "roles_without_n_rank_until_1980 = cast[(cast['n'].isna()) & (cast['year'] <= 1980)]\n",
    "\n",
    "\n",
    "num_roles_without_n_rank_until_1980 = roles_without_n_rank_until_1980.shape[0]\n",
    "\n",
    "print(f\"Number of roles through 1980 without a numeric 'n' rank: {num_roles_without_n_rank_until_1980}\")\n"
   ]
  },
  {
   "cell_type": "code",
   "execution_count": null,
   "id": "6303c6d9",
   "metadata": {},
   "outputs": [],
   "source": []
  }
 ],
 "metadata": {
  "kernelspec": {
   "display_name": "Python 3 (ipykernel)",
   "language": "python",
   "name": "python3"
  },
  "language_info": {
   "codemirror_mode": {
    "name": "ipython",
    "version": 3
   },
   "file_extension": ".py",
   "mimetype": "text/x-python",
   "name": "python",
   "nbconvert_exporter": "python",
   "pygments_lexer": "ipython3",
   "version": "3.11.4"
  }
 },
 "nbformat": 4,
 "nbformat_minor": 5
}
