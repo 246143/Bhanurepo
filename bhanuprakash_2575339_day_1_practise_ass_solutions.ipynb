{
 "cells": [
  {
   "cell_type": "markdown",
   "id": "ac7a77ff",
   "metadata": {},
   "source": [
    "# 1.Manipulate using alist.\n",
    "i)To add new elements to the end of thelist\n",
    "ii)To reverse elements in thelist.\n",
    "iii)To display the same list of elements multipletimes. iv)To concatenate twolist v)To sort the elements in the list in ascendingorder."
   ]
  },
  {
   "cell_type": "code",
   "execution_count": 1,
   "id": "435390b7",
   "metadata": {},
   "outputs": [
    {
     "data": {
      "text/plain": [
       "[246, 143, 246143, 'hello']"
      ]
     },
     "execution_count": 1,
     "metadata": {},
     "output_type": "execute_result"
    }
   ],
   "source": [
    "lst = [246,143,246143, 'hello']\n",
    "lst\n"
   ]
  },
  {
   "cell_type": "code",
   "execution_count": 2,
   "id": "1ebb6604",
   "metadata": {},
   "outputs": [
    {
     "data": {
      "text/plain": [
       "[246, 143, 246143, 'hello', 1234678]"
      ]
     },
     "execution_count": 2,
     "metadata": {},
     "output_type": "execute_result"
    }
   ],
   "source": [
    "# i)To add new elements to the end of thelist\n",
    "lst.append (1234678)\n",
    "lst\n"
   ]
  },
  {
   "cell_type": "code",
   "execution_count": 3,
   "id": "d22d922d",
   "metadata": {},
   "outputs": [
    {
     "ename": "AttributeError",
     "evalue": "'list' object has no attribute 'revrese'",
     "output_type": "error",
     "traceback": [
      "\u001b[1;31m---------------------------------------------------------------------------\u001b[0m",
      "\u001b[1;31mAttributeError\u001b[0m                            Traceback (most recent call last)",
      "Cell \u001b[1;32mIn[3], line 2\u001b[0m\n\u001b[0;32m      1\u001b[0m \u001b[38;5;66;03m# ii)To reverse elements in thelist.\u001b[39;00m\n\u001b[1;32m----> 2\u001b[0m lst\u001b[38;5;241m.\u001b[39mrevrese()\n",
      "\u001b[1;31mAttributeError\u001b[0m: 'list' object has no attribute 'revrese'"
     ]
    }
   ],
   "source": [
    "# ii)To reverse elements in thelist.\n",
    "lst.revrese()\n"
   ]
  },
  {
   "cell_type": "code",
   "execution_count": 4,
   "id": "60c3a997",
   "metadata": {},
   "outputs": [
    {
     "data": {
      "text/plain": [
       "[246, 143, 246143, 'hello', 1234678]"
      ]
     },
     "execution_count": 4,
     "metadata": {},
     "output_type": "execute_result"
    }
   ],
   "source": [
    "lst\n"
   ]
  },
  {
   "cell_type": "code",
   "execution_count": 5,
   "id": "dcb611e2",
   "metadata": {},
   "outputs": [],
   "source": [
    "lst.reverse()\n"
   ]
  },
  {
   "cell_type": "code",
   "execution_count": 6,
   "id": "a32e87f1",
   "metadata": {},
   "outputs": [
    {
     "data": {
      "text/plain": [
       "[1234678, 'hello', 246143, 143, 246]"
      ]
     },
     "execution_count": 6,
     "metadata": {},
     "output_type": "execute_result"
    }
   ],
   "source": [
    "lst\n"
   ]
  },
  {
   "cell_type": "code",
   "execution_count": 7,
   "id": "1165aecc",
   "metadata": {},
   "outputs": [
    {
     "data": {
      "text/plain": [
       "[1234678, 'hello', 246143, 143, 246, 1234678, 'hello', 246143, 143, 246]"
      ]
     },
     "execution_count": 7,
     "metadata": {},
     "output_type": "execute_result"
    }
   ],
   "source": [
    "lst * 2\n"
   ]
  },
  {
   "cell_type": "code",
   "execution_count": 10,
   "id": "1f4d38c3",
   "metadata": {},
   "outputs": [
    {
     "data": {
      "text/plain": [
       "[1234678, 'hello', 246143, 143, 246]"
      ]
     },
     "execution_count": 10,
     "metadata": {},
     "output_type": "execute_result"
    }
   ],
   "source": [
    "lst * 2\n",
    "lst\n",
    "\n"
   ]
  },
  {
   "cell_type": "code",
   "execution_count": 11,
   "id": "8ea27f82",
   "metadata": {},
   "outputs": [],
   "source": [
    "lst1 =[123, 'mphasis', 246129 ]\n",
    "lst2 = [234, 25.52, 'jupyter']\n"
   ]
  },
  {
   "cell_type": "code",
   "execution_count": 12,
   "id": "b21503c6",
   "metadata": {},
   "outputs": [
    {
     "data": {
      "text/plain": [
       "[123, 'mphasis', 246129]"
      ]
     },
     "execution_count": 12,
     "metadata": {},
     "output_type": "execute_result"
    }
   ],
   "source": [
    "lst1"
   ]
  },
  {
   "cell_type": "code",
   "execution_count": 13,
   "id": "cc906e92",
   "metadata": {},
   "outputs": [
    {
     "data": {
      "text/plain": [
       "[234, 25.52, 'jupyter']"
      ]
     },
     "execution_count": 13,
     "metadata": {},
     "output_type": "execute_result"
    }
   ],
   "source": [
    "lst2"
   ]
  },
  {
   "cell_type": "code",
   "execution_count": 14,
   "id": "5a31e243",
   "metadata": {},
   "outputs": [
    {
     "data": {
      "text/plain": [
       "[123, 'mphasis', 246129, 234, 25.52, 'jupyter']"
      ]
     },
     "execution_count": 14,
     "metadata": {},
     "output_type": "execute_result"
    }
   ],
   "source": [
    "lst1 + lst2"
   ]
  },
  {
   "cell_type": "code",
   "execution_count": 15,
   "id": "f1063279",
   "metadata": {},
   "outputs": [
    {
     "ename": "TypeError",
     "evalue": "'<' not supported between instances of 'str' and 'float'",
     "output_type": "error",
     "traceback": [
      "\u001b[1;31m---------------------------------------------------------------------------\u001b[0m",
      "\u001b[1;31mTypeError\u001b[0m                                 Traceback (most recent call last)",
      "Cell \u001b[1;32mIn[15], line 1\u001b[0m\n\u001b[1;32m----> 1\u001b[0m lst2\u001b[38;5;241m.\u001b[39msort()\n",
      "\u001b[1;31mTypeError\u001b[0m: '<' not supported between instances of 'str' and 'float'"
     ]
    }
   ],
   "source": [
    "lst2.sort()"
   ]
  },
  {
   "cell_type": "code",
   "execution_count": 16,
   "id": "3aca5eeb",
   "metadata": {},
   "outputs": [
    {
     "data": {
      "text/plain": [
       "[1234678, 'hello', 246143, 143, 246]"
      ]
     },
     "execution_count": 16,
     "metadata": {},
     "output_type": "execute_result"
    }
   ],
   "source": [
    "lst"
   ]
  },
  {
   "cell_type": "code",
   "execution_count": 17,
   "id": "8daf708f",
   "metadata": {},
   "outputs": [
    {
     "ename": "TypeError",
     "evalue": "'<' not supported between instances of 'str' and 'int'",
     "output_type": "error",
     "traceback": [
      "\u001b[1;31m---------------------------------------------------------------------------\u001b[0m",
      "\u001b[1;31mTypeError\u001b[0m                                 Traceback (most recent call last)",
      "Cell \u001b[1;32mIn[17], line 1\u001b[0m\n\u001b[1;32m----> 1\u001b[0m lst\u001b[38;5;241m.\u001b[39msort()\n",
      "\u001b[1;31mTypeError\u001b[0m: '<' not supported between instances of 'str' and 'int'"
     ]
    }
   ],
   "source": [
    "lst.sort()"
   ]
  },
  {
   "cell_type": "code",
   "execution_count": 18,
   "id": "56ec90f7",
   "metadata": {},
   "outputs": [],
   "source": [
    "lst3 = [9,2,5,41,52]\n"
   ]
  },
  {
   "cell_type": "code",
   "execution_count": 19,
   "id": "0479fbf0",
   "metadata": {},
   "outputs": [
    {
     "data": {
      "text/plain": [
       "[9, 2, 5, 41, 52]"
      ]
     },
     "execution_count": 19,
     "metadata": {},
     "output_type": "execute_result"
    }
   ],
   "source": [
    "lst3\n"
   ]
  },
  {
   "cell_type": "code",
   "execution_count": 20,
   "id": "1f3ddc85",
   "metadata": {},
   "outputs": [],
   "source": [
    "lst3.sort()"
   ]
  },
  {
   "cell_type": "code",
   "execution_count": 21,
   "id": "9c4dc707",
   "metadata": {},
   "outputs": [
    {
     "data": {
      "text/plain": [
       "[2, 5, 9, 41, 52]"
      ]
     },
     "execution_count": 21,
     "metadata": {},
     "output_type": "execute_result"
    }
   ],
   "source": [
    "lst3"
   ]
  },
  {
   "cell_type": "code",
   "execution_count": 22,
   "id": "14f04902",
   "metadata": {},
   "outputs": [],
   "source": [
    "lst4 =['mphasis', 'jupyter', 'abc']"
   ]
  },
  {
   "cell_type": "code",
   "execution_count": 23,
   "id": "94ba1b82",
   "metadata": {},
   "outputs": [
    {
     "data": {
      "text/plain": [
       "['mphasis', 'jupyter', 'abc']"
      ]
     },
     "execution_count": 23,
     "metadata": {},
     "output_type": "execute_result"
    }
   ],
   "source": [
    "lst4\n"
   ]
  },
  {
   "cell_type": "code",
   "execution_count": 24,
   "id": "81170083",
   "metadata": {},
   "outputs": [],
   "source": [
    "lst4.sort()\n"
   ]
  },
  {
   "cell_type": "code",
   "execution_count": 25,
   "id": "c10e37d3",
   "metadata": {},
   "outputs": [
    {
     "data": {
      "text/plain": [
       "['abc', 'jupyter', 'mphasis']"
      ]
     },
     "execution_count": 25,
     "metadata": {},
     "output_type": "execute_result"
    }
   ],
   "source": [
    "lst4"
   ]
  },
  {
   "cell_type": "markdown",
   "id": "f32e11b5",
   "metadata": {},
   "source": [
    "# 2.Write a Python program to do in the tuples.\n",
    "i) Manipulate using tuples.\n",
    "ii)To add new elements to the end of thetuples\n",
    "iii)To reverse elements in thelist\n",
    "iv)To display the elements of the same tuple multipletimes. v)To concatenate twotuples vi)To sort the elements in the list in ascendingorder."
   ]
  },
  {
   "cell_type": "code",
   "execution_count": 27,
   "id": "90bb0e8f",
   "metadata": {},
   "outputs": [],
   "source": [
    "tup = (246143, 53.3912, 'mphasis')\n"
   ]
  },
  {
   "cell_type": "code",
   "execution_count": 28,
   "id": "e3d1d0a9",
   "metadata": {},
   "outputs": [
    {
     "data": {
      "text/plain": [
       "(246143, 53.3912, 'mphasis')"
      ]
     },
     "execution_count": 28,
     "metadata": {},
     "output_type": "execute_result"
    }
   ],
   "source": [
    "tup\n"
   ]
  },
  {
   "cell_type": "code",
   "execution_count": 29,
   "id": "ac2cb0c9",
   "metadata": {},
   "outputs": [
    {
     "ename": "AttributeError",
     "evalue": "'tuple' object has no attribute 'append'",
     "output_type": "error",
     "traceback": [
      "\u001b[1;31m---------------------------------------------------------------------------\u001b[0m",
      "\u001b[1;31mAttributeError\u001b[0m                            Traceback (most recent call last)",
      "Cell \u001b[1;32mIn[29], line 3\u001b[0m\n\u001b[0;32m      1\u001b[0m \u001b[38;5;66;03m# To add new elements to the end of thetuples\u001b[39;00m\n\u001b[1;32m----> 3\u001b[0m tup\u001b[38;5;241m.\u001b[39mappend(\u001b[38;5;241m10\u001b[39m)\n",
      "\u001b[1;31mAttributeError\u001b[0m: 'tuple' object has no attribute 'append'"
     ]
    }
   ],
   "source": [
    "# ii)To add new elements to the end of thetuples\n",
    "\n",
    "tup.append(10)\n"
   ]
  },
  {
   "cell_type": "code",
   "execution_count": 30,
   "id": "af1e1d20",
   "metadata": {},
   "outputs": [
    {
     "data": {
      "text/plain": [
       "246143"
      ]
     },
     "execution_count": 30,
     "metadata": {},
     "output_type": "execute_result"
    }
   ],
   "source": [
    "tup[0]"
   ]
  },
  {
   "cell_type": "code",
   "execution_count": 31,
   "id": "ced81204",
   "metadata": {},
   "outputs": [
    {
     "ename": "TypeError",
     "evalue": "'tuple' object does not support item assignment",
     "output_type": "error",
     "traceback": [
      "\u001b[1;31m---------------------------------------------------------------------------\u001b[0m",
      "\u001b[1;31mTypeError\u001b[0m                                 Traceback (most recent call last)",
      "Cell \u001b[1;32mIn[31], line 1\u001b[0m\n\u001b[1;32m----> 1\u001b[0m tup[\u001b[38;5;241m0\u001b[39m]\u001b[38;5;241m=\u001b[39m\u001b[38;5;241m1123\u001b[39m\n",
      "\u001b[1;31mTypeError\u001b[0m: 'tuple' object does not support item assignment"
     ]
    }
   ],
   "source": [
    "tup[0]=1123\n"
   ]
  },
  {
   "cell_type": "code",
   "execution_count": 32,
   "id": "3f0483fe",
   "metadata": {},
   "outputs": [
    {
     "ename": "TypeError",
     "evalue": "'tuple' object does not support item assignment",
     "output_type": "error",
     "traceback": [
      "\u001b[1;31m---------------------------------------------------------------------------\u001b[0m",
      "\u001b[1;31mTypeError\u001b[0m                                 Traceback (most recent call last)",
      "Cell \u001b[1;32mIn[32], line 1\u001b[0m\n\u001b[1;32m----> 1\u001b[0m tup[\u001b[38;5;241m20\u001b[39m]\u001b[38;5;241m=\u001b[39m\u001b[38;5;241m20\u001b[39m\n",
      "\u001b[1;31mTypeError\u001b[0m: 'tuple' object does not support item assignment"
     ]
    }
   ],
   "source": [
    "tup[20]=20\n"
   ]
  },
  {
   "cell_type": "code",
   "execution_count": 33,
   "id": "f5334b97",
   "metadata": {},
   "outputs": [
    {
     "data": {
      "text/plain": [
       "3"
      ]
     },
     "execution_count": 33,
     "metadata": {},
     "output_type": "execute_result"
    }
   ],
   "source": [
    "len(tup)\n"
   ]
  },
  {
   "cell_type": "code",
   "execution_count": 34,
   "id": "58784fb6",
   "metadata": {},
   "outputs": [
    {
     "ename": "AttributeError",
     "evalue": "'tuple' object has no attribute 'reverse'",
     "output_type": "error",
     "traceback": [
      "\u001b[1;31m---------------------------------------------------------------------------\u001b[0m",
      "\u001b[1;31mAttributeError\u001b[0m                            Traceback (most recent call last)",
      "Cell \u001b[1;32mIn[34], line 1\u001b[0m\n\u001b[1;32m----> 1\u001b[0m tup\u001b[38;5;241m.\u001b[39mreverse()\n",
      "\u001b[1;31mAttributeError\u001b[0m: 'tuple' object has no attribute 'reverse'"
     ]
    }
   ],
   "source": [
    "# iii)To reverse elements in thelist\n",
    "tup.reverse()\n"
   ]
  },
  {
   "cell_type": "code",
   "execution_count": 35,
   "id": "0fba9f78",
   "metadata": {},
   "outputs": [
    {
     "data": {
      "text/plain": [
       "(246143, 53.3912, 'mphasis', 246143, 53.3912, 'mphasis')"
      ]
     },
     "execution_count": 35,
     "metadata": {},
     "output_type": "execute_result"
    }
   ],
   "source": [
    "\n",
    "# iv)To display the elements of the same tuple multipletimes\n",
    "\n",
    "\n",
    "tup * 2\n"
   ]
  },
  {
   "cell_type": "code",
   "execution_count": 36,
   "id": "2f6a8573",
   "metadata": {},
   "outputs": [],
   "source": [
    "tup1 = (253)\n",
    "tup2 = (556)\n"
   ]
  },
  {
   "cell_type": "code",
   "execution_count": 37,
   "id": "84fa4c02",
   "metadata": {},
   "outputs": [
    {
     "data": {
      "text/plain": [
       "253"
      ]
     },
     "execution_count": 37,
     "metadata": {},
     "output_type": "execute_result"
    }
   ],
   "source": [
    "tup1\n"
   ]
  },
  {
   "cell_type": "code",
   "execution_count": 38,
   "id": "0aad0ad6",
   "metadata": {},
   "outputs": [
    {
     "data": {
      "text/plain": [
       "556"
      ]
     },
     "execution_count": 38,
     "metadata": {},
     "output_type": "execute_result"
    }
   ],
   "source": [
    "tup2\n"
   ]
  },
  {
   "cell_type": "code",
   "execution_count": 39,
   "id": "85b990f8",
   "metadata": {},
   "outputs": [
    {
     "data": {
      "text/plain": [
       "809"
      ]
     },
     "execution_count": 39,
     "metadata": {},
     "output_type": "execute_result"
    }
   ],
   "source": [
    "# v)To concatenate twotuples \n",
    "\n",
    "tup1 + tup2\n"
   ]
  },
  {
   "cell_type": "code",
   "execution_count": 40,
   "id": "c6a5f310",
   "metadata": {},
   "outputs": [],
   "source": [
    "tup3=('sri', 246, 'danger')\n"
   ]
  },
  {
   "cell_type": "code",
   "execution_count": 41,
   "id": "5214d445",
   "metadata": {},
   "outputs": [
    {
     "data": {
      "text/plain": [
       "('sri', 246, 'danger')"
      ]
     },
     "execution_count": 41,
     "metadata": {},
     "output_type": "execute_result"
    }
   ],
   "source": [
    "tup3\n"
   ]
  },
  {
   "cell_type": "code",
   "execution_count": 42,
   "id": "a1fd56ee",
   "metadata": {},
   "outputs": [],
   "source": [
    "tup4 = ('pavan', 225, 'global')\n"
   ]
  },
  {
   "cell_type": "code",
   "execution_count": 44,
   "id": "6702b781",
   "metadata": {},
   "outputs": [
    {
     "data": {
      "text/plain": [
       "('sri', 246, 'danger', 'pavan', 225, 'global')"
      ]
     },
     "execution_count": 44,
     "metadata": {},
     "output_type": "execute_result"
    }
   ],
   "source": [
    "tup3 + tup4\n"
   ]
  },
  {
   "cell_type": "code",
   "execution_count": 45,
   "id": "4ae03581",
   "metadata": {},
   "outputs": [
    {
     "ename": "AttributeError",
     "evalue": "'tuple' object has no attribute 'sort'",
     "output_type": "error",
     "traceback": [
      "\u001b[1;31m---------------------------------------------------------------------------\u001b[0m",
      "\u001b[1;31mAttributeError\u001b[0m                            Traceback (most recent call last)",
      "Cell \u001b[1;32mIn[45], line 1\u001b[0m\n\u001b[1;32m----> 1\u001b[0m tup3\u001b[38;5;241m.\u001b[39msort()\n",
      "\u001b[1;31mAttributeError\u001b[0m: 'tuple' object has no attribute 'sort'"
     ]
    }
   ],
   "source": [
    "tup3.sort()\n"
   ]
  },
  {
   "cell_type": "code",
   "execution_count": 46,
   "id": "4bce5474",
   "metadata": {},
   "outputs": [
    {
     "ename": "AttributeError",
     "evalue": "'tuple' object has no attribute 'sort'",
     "output_type": "error",
     "traceback": [
      "\u001b[1;31m---------------------------------------------------------------------------\u001b[0m",
      "\u001b[1;31mAttributeError\u001b[0m                            Traceback (most recent call last)",
      "Cell \u001b[1;32mIn[46], line 1\u001b[0m\n\u001b[1;32m----> 1\u001b[0m tup\u001b[38;5;241m.\u001b[39msort()\n",
      "\u001b[1;31mAttributeError\u001b[0m: 'tuple' object has no attribute 'sort'"
     ]
    }
   ],
   "source": [
    "tup.sort()\n"
   ]
  },
  {
   "cell_type": "code",
   "execution_count": 47,
   "id": "fae0c5fe",
   "metadata": {},
   "outputs": [],
   "source": [
    "tup5=('b', 'c', 'l', 'd')\n"
   ]
  },
  {
   "cell_type": "code",
   "execution_count": 48,
   "id": "b34283f9",
   "metadata": {},
   "outputs": [
    {
     "data": {
      "text/plain": [
       "('b', 'c', 'l', 'd')"
      ]
     },
     "execution_count": 48,
     "metadata": {},
     "output_type": "execute_result"
    }
   ],
   "source": [
    "tup5\n"
   ]
  },
  {
   "cell_type": "code",
   "execution_count": 49,
   "id": "ca46f6e2",
   "metadata": {},
   "outputs": [
    {
     "ename": "AttributeError",
     "evalue": "'tuple' object has no attribute 'sort'",
     "output_type": "error",
     "traceback": [
      "\u001b[1;31m---------------------------------------------------------------------------\u001b[0m",
      "\u001b[1;31mAttributeError\u001b[0m                            Traceback (most recent call last)",
      "Cell \u001b[1;32mIn[49], line 1\u001b[0m\n\u001b[1;32m----> 1\u001b[0m tup5\u001b[38;5;241m.\u001b[39msort()\n",
      "\u001b[1;31mAttributeError\u001b[0m: 'tuple' object has no attribute 'sort'"
     ]
    }
   ],
   "source": [
    "tup5.sort()\n",
    "\n"
   ]
  },
  {
   "cell_type": "code",
   "execution_count": 50,
   "id": "d79813c2",
   "metadata": {},
   "outputs": [
    {
     "data": {
      "text/plain": [
       "('b', 'c', 'l', 'd')"
      ]
     },
     "execution_count": 50,
     "metadata": {},
     "output_type": "execute_result"
    }
   ],
   "source": [
    "tup5\n"
   ]
  },
  {
   "cell_type": "markdown",
   "id": "a5072db7",
   "metadata": {},
   "source": [
    "# 3.Write a python program to implement the following usinglist.\n",
    "\n",
    "i)Create a list with integers (minimum 10numbers)\n",
    "ii)How to display the last number in thelist\n",
    "iii)Command for displaying the values from the list[0:4] iv)Command for displaying the values from the list[2:] v)Command for displaying the values from the list [:6]."
   ]
  },
  {
   "cell_type": "code",
   "execution_count": 53,
   "id": "9a647cb5",
   "metadata": {},
   "outputs": [
    {
     "data": {
      "text/plain": [
       "[2446, 246, 14, 3, 143, 6, 4, 7, 9, 2]"
      ]
     },
     "execution_count": 53,
     "metadata": {},
     "output_type": "execute_result"
    }
   ],
   "source": [
    "# i)Create a list with integers (minimum 10numbers)\n",
    "b=[2446,246,14,143,6,4,7,,2]\n"
   ]
  },
  {
   "cell_type": "code",
   "execution_count": 54,
   "id": "682bd387",
   "metadata": {},
   "outputs": [
    {
     "data": {
      "text/plain": [
       "[2446, 246, 14, 3, 143, 6, 4, 7, 9, 2]"
      ]
     },
     "execution_count": 54,
     "metadata": {},
     "output_type": "execute_result"
    }
   ],
   "source": [
    "b\n"
   ]
  },
  {
   "cell_type": "code",
   "execution_count": 55,
   "id": "1b50b155",
   "metadata": {},
   "outputs": [
    {
     "ename": "TypeError",
     "evalue": "'list' object is not callable",
     "output_type": "error",
     "traceback": [
      "\u001b[1;31m---------------------------------------------------------------------------\u001b[0m",
      "\u001b[1;31mTypeError\u001b[0m                                 Traceback (most recent call last)",
      "Cell \u001b[1;32mIn[55], line 1\u001b[0m\n\u001b[1;32m----> 1\u001b[0m b(\u001b[38;5;241m-\u001b[39m\u001b[38;5;241m1\u001b[39m)\n",
      "\u001b[1;31mTypeError\u001b[0m: 'list' object is not callable"
     ]
    }
   ],
   "source": [
    "b(-1)\n"
   ]
  },
  {
   "cell_type": "code",
   "execution_count": 56,
   "id": "c195b5c5",
   "metadata": {},
   "outputs": [
    {
     "ename": "TypeError",
     "evalue": "'list' object is not callable",
     "output_type": "error",
     "traceback": [
      "\u001b[1;31m---------------------------------------------------------------------------\u001b[0m",
      "\u001b[1;31mTypeError\u001b[0m                                 Traceback (most recent call last)",
      "Cell \u001b[1;32mIn[56], line 1\u001b[0m\n\u001b[1;32m----> 1\u001b[0m b([\u001b[38;5;241m-\u001b[39m\u001b[38;5;241m1\u001b[39m])\n",
      "\u001b[1;31mTypeError\u001b[0m: 'list' object is not callable"
     ]
    }
   ],
   "source": [
    "b([-1])"
   ]
  },
  {
   "cell_type": "code",
   "execution_count": 57,
   "id": "6c0050fd",
   "metadata": {},
   "outputs": [
    {
     "ename": "TypeError",
     "evalue": "'list' object is not callable",
     "output_type": "error",
     "traceback": [
      "\u001b[1;31m---------------------------------------------------------------------------\u001b[0m",
      "\u001b[1;31mTypeError\u001b[0m                                 Traceback (most recent call last)",
      "Cell \u001b[1;32mIn[57], line 1\u001b[0m\n\u001b[1;32m----> 1\u001b[0m b(\u001b[38;5;241m0\u001b[39m)\n",
      "\u001b[1;31mTypeError\u001b[0m: 'list' object is not callable"
     ]
    }
   ],
   "source": [
    "b(0)\n"
   ]
  },
  {
   "cell_type": "code",
   "execution_count": 58,
   "id": "d1d6c012",
   "metadata": {},
   "outputs": [
    {
     "data": {
      "text/plain": [
       "2446"
      ]
     },
     "execution_count": 58,
     "metadata": {},
     "output_type": "execute_result"
    }
   ],
   "source": [
    "b[0]"
   ]
  },
  {
   "cell_type": "code",
   "execution_count": 59,
   "id": "3bd28761",
   "metadata": {},
   "outputs": [
    {
     "data": {
      "text/plain": [
       "[2446, 246, 14, 3, 143, 6, 4, 7, 9, 2]"
      ]
     },
     "execution_count": 59,
     "metadata": {},
     "output_type": "execute_result"
    }
   ],
   "source": [
    "b[::1]"
   ]
  },
  {
   "cell_type": "code",
   "execution_count": 60,
   "id": "d2f0b990",
   "metadata": {},
   "outputs": [
    {
     "data": {
      "text/plain": [
       "[2446, 246, 14, 3, 143, 6, 4, 7, 9]"
      ]
     },
     "execution_count": 60,
     "metadata": {},
     "output_type": "execute_result"
    }
   ],
   "source": [
    "b[:-1]"
   ]
  },
  {
   "cell_type": "code",
   "execution_count": 61,
   "id": "fa4e74f6",
   "metadata": {},
   "outputs": [
    {
     "data": {
      "text/plain": [
       "2"
      ]
     },
     "execution_count": 61,
     "metadata": {},
     "output_type": "execute_result"
    }
   ],
   "source": [
    " # ii)How to display the last number in thelist\n",
    "b[-1]\n"
   ]
  },
  {
   "cell_type": "code",
   "execution_count": 62,
   "id": "99aa0aef",
   "metadata": {},
   "outputs": [
    {
     "data": {
      "text/plain": [
       "[2446, 246, 14, 3]"
      ]
     },
     "execution_count": 62,
     "metadata": {},
     "output_type": "execute_result"
    }
   ],
   "source": [
    "b[0:4]\n"
   ]
  },
  {
   "cell_type": "code",
   "execution_count": 63,
   "id": "a077e439",
   "metadata": {},
   "outputs": [],
   "source": [
    "subset = b[0:4]\n"
   ]
  },
  {
   "cell_type": "code",
   "execution_count": 64,
   "id": "a5a88d78",
   "metadata": {},
   "outputs": [
    {
     "data": {
      "text/plain": [
       "[2446, 246, 14, 3, 143, 6, 4, 7, 9, 2]"
      ]
     },
     "execution_count": 64,
     "metadata": {},
     "output_type": "execute_result"
    }
   ],
   "source": [
    "b\n"
   ]
  },
  {
   "cell_type": "code",
   "execution_count": 65,
   "id": "e3990c51",
   "metadata": {},
   "outputs": [],
   "source": [
    "subset = b[2:]\n"
   ]
  },
  {
   "cell_type": "code",
   "execution_count": 66,
   "id": "c689dcf7",
   "metadata": {},
   "outputs": [
    {
     "data": {
      "text/plain": [
       "[2446, 246, 14, 3, 143, 6, 4, 7, 9, 2]"
      ]
     },
     "execution_count": 66,
     "metadata": {},
     "output_type": "execute_result"
    }
   ],
   "source": [
    "b\n"
   ]
  },
  {
   "cell_type": "code",
   "execution_count": 67,
   "id": "dbb4d141",
   "metadata": {},
   "outputs": [
    {
     "data": {
      "text/plain": [
       "[14, 3, 143, 6, 4, 7, 9, 2]"
      ]
     },
     "execution_count": 67,
     "metadata": {},
     "output_type": "execute_result"
    }
   ],
   "source": [
    "b[2:]"
   ]
  },
  {
   "cell_type": "code",
   "execution_count": 69,
   "id": "1eeac8a7",
   "metadata": {},
   "outputs": [
    {
     "name": "stdout",
     "output_type": "stream",
     "text": [
      "values from index 0 to 4: [2446, 246, 14, 3]\n"
     ]
    }
   ],
   "source": [
    "# iii)Command for displaying the values from the list[0:4] \n",
    "subset = b[0:4]\n",
    "print(\"values from index 0 to 4:\", subset)"
   ]
  },
  {
   "cell_type": "code",
   "execution_count": 70,
   "id": "3bb6accf",
   "metadata": {},
   "outputs": [
    {
     "name": "stdout",
     "output_type": "stream",
     "text": [
      "values form index 2 to end [2446, 246, 14, 3]\n"
     ]
    }
   ],
   "source": [
    "\n",
    "subest = b[2:]\n",
    "print(\"values form index 2 to end\", subset)"
   ]
  },
  {
   "cell_type": "code",
   "execution_count": 72,
   "id": "90469fac",
   "metadata": {},
   "outputs": [
    {
     "name": "stdout",
     "output_type": "stream",
     "text": [
      "[14, 3, 143, 6, 4, 7, 9, 2]\n"
     ]
    }
   ],
   "source": [
    " #iv)Command for displaying the values from the list[2:]\n",
    "values = b[2:]\n",
    "print(values)\n"
   ]
  },
  {
   "cell_type": "code",
   "execution_count": null,
   "id": "d4be553f",
   "metadata": {},
   "outputs": [],
   "source": [
    "# v)Command for displaying the values from the list [:6].\n",
    "\n",
    " values = b[:6]\n",
    "print(values)\n"
   ]
  },
  {
   "cell_type": "code",
   "execution_count": 74,
   "id": "0a78fbd9",
   "metadata": {},
   "outputs": [
    {
     "name": "stdout",
     "output_type": "stream",
     "text": [
      "[2446, 246, 14, 3, 143, 6]\n"
     ]
    }
   ],
   "source": [
    "print (b[:6])\n"
   ]
  },
  {
   "cell_type": "markdown",
   "id": "8b927aa9",
   "metadata": {},
   "source": [
    "#  4.Write a Python program: tuple1 =(10,50,20,40,30)\n",
    "    i.To display the elements 10 and 50 fromtuple1\n",
    "    ii.To display the length of atuple1.\n",
    "    iii.To find the minimum element fromtuple1.\n",
    "    iv.To add all elements in thetuple1.\n",
    "    v.To display the same tuple1 multipletime"
   ]
  },
  {
   "cell_type": "code",
   "execution_count": 75,
   "id": "1d43415e",
   "metadata": {},
   "outputs": [],
   "source": [
    "tup1 = (10,50,20,40,30)\n"
   ]
  },
  {
   "cell_type": "code",
   "execution_count": 76,
   "id": "4f942fd5",
   "metadata": {},
   "outputs": [
    {
     "data": {
      "text/plain": [
       "(10, 50, 20, 40, 30)"
      ]
     },
     "execution_count": 76,
     "metadata": {},
     "output_type": "execute_result"
    }
   ],
   "source": [
    "tup1\n"
   ]
  },
  {
   "cell_type": "code",
   "execution_count": 77,
   "id": "3a8a4f16",
   "metadata": {},
   "outputs": [
    {
     "ename": "TypeError",
     "evalue": "tuple indices must be integers or slices, not tuple",
     "output_type": "error",
     "traceback": [
      "\u001b[1;31m---------------------------------------------------------------------------\u001b[0m",
      "\u001b[1;31mTypeError\u001b[0m                                 Traceback (most recent call last)",
      "Cell \u001b[1;32mIn[77], line 4\u001b[0m\n\u001b[0;32m      1\u001b[0m \u001b[38;5;66;03m# i.To display the elements 10 and 50 fromtuple1\u001b[39;00m\n\u001b[1;32m----> 4\u001b[0m tup1[\u001b[38;5;241m0\u001b[39m,\u001b[38;5;241m1\u001b[39m]\n",
      "\u001b[1;31mTypeError\u001b[0m: tuple indices must be integers or slices, not tuple"
     ]
    }
   ],
   "source": [
    " # i.To display the elements 10 and 50 fromtuple1\n",
    "    \n",
    "    \n",
    "tup1[0,1]\n",
    "\n",
    "    "
   ]
  },
  {
   "cell_type": "code",
   "execution_count": 79,
   "id": "1d2b1ab5",
   "metadata": {},
   "outputs": [
    {
     "data": {
      "text/plain": [
       "(10, 50)"
      ]
     },
     "execution_count": 79,
     "metadata": {},
     "output_type": "execute_result"
    }
   ],
   "source": [
    "tup1[0], tup1[1]\n"
   ]
  },
  {
   "cell_type": "code",
   "execution_count": 80,
   "id": "909b81b6",
   "metadata": {},
   "outputs": [
    {
     "data": {
      "text/plain": [
       "5"
      ]
     },
     "execution_count": 80,
     "metadata": {},
     "output_type": "execute_result"
    }
   ],
   "source": [
    " # ii.To display the length of atuple1.\n",
    "    \n",
    "len(tup1)\n"
   ]
  },
  {
   "cell_type": "code",
   "execution_count": 81,
   "id": "0c8f6149",
   "metadata": {},
   "outputs": [
    {
     "data": {
      "text/plain": [
       "10"
      ]
     },
     "execution_count": 81,
     "metadata": {},
     "output_type": "execute_result"
    }
   ],
   "source": [
    "# iii.To find the minimum element fromtuple1.\n",
    "\n",
    "min(tup1)\n"
   ]
  },
  {
   "cell_type": "code",
   "execution_count": 82,
   "id": "58cd130b",
   "metadata": {},
   "outputs": [
    {
     "data": {
      "text/plain": [
       "150"
      ]
     },
     "execution_count": 82,
     "metadata": {},
     "output_type": "execute_result"
    }
   ],
   "source": [
    "# iv.To add all elements in thetuple1.\n",
    "\n",
    "sum(tup1)\n"
   ]
  },
  {
   "cell_type": "code",
   "execution_count": 84,
   "id": "d103ba15",
   "metadata": {},
   "outputs": [
    {
     "data": {
      "text/plain": [
       "(10,\n",
       " 50,\n",
       " 20,\n",
       " 40,\n",
       " 30,\n",
       " 10,\n",
       " 50,\n",
       " 20,\n",
       " 40,\n",
       " 30,\n",
       " 10,\n",
       " 50,\n",
       " 20,\n",
       " 40,\n",
       " 30,\n",
       " 10,\n",
       " 50,\n",
       " 20,\n",
       " 40,\n",
       " 30,\n",
       " 10,\n",
       " 50,\n",
       " 20,\n",
       " 40,\n",
       " 30)"
      ]
     },
     "execution_count": 84,
     "metadata": {},
     "output_type": "execute_result"
    }
   ],
   "source": [
    "# v.To display the same tuple1 multipletime\n",
    "\n",
    "tup1 * 5\n"
   ]
  },
  {
   "cell_type": "markdown",
   "id": "bcd48cff",
   "metadata": {},
   "source": [
    "# 5. Write a Pythonprogram:\n",
    "    i.To calculate the length of astring\n",
    "    ii.To reverse words in astring\n",
    "    iii.To display the same string multipletimes\n",
    "    iv.To concatenate twostrings\n",
    "    v.Str1=” South India”, using string slicing to display“India”"
   ]
  },
  {
   "cell_type": "code",
   "execution_count": 85,
   "id": "1c91069e",
   "metadata": {},
   "outputs": [],
   "source": [
    "# i.To calculate the length of astring\n",
    "\n",
    "str=\"Mphasis Mla\"\n",
    "\n"
   ]
  },
  {
   "cell_type": "code",
   "execution_count": 86,
   "id": "bded0d0a",
   "metadata": {},
   "outputs": [
    {
     "data": {
      "text/plain": [
       "'Mphasis Mla'"
      ]
     },
     "execution_count": 86,
     "metadata": {},
     "output_type": "execute_result"
    }
   ],
   "source": [
    "str"
   ]
  },
  {
   "cell_type": "code",
   "execution_count": 87,
   "id": "9b153e0e",
   "metadata": {},
   "outputs": [
    {
     "data": {
      "text/plain": [
       "11"
      ]
     },
     "execution_count": 87,
     "metadata": {},
     "output_type": "execute_result"
    }
   ],
   "source": [
    "len(str)\n"
   ]
  },
  {
   "cell_type": "code",
   "execution_count": 88,
   "id": "8efab1f9",
   "metadata": {},
   "outputs": [
    {
     "ename": "AttributeError",
     "evalue": "'str' object has no attribute 'reverse'",
     "output_type": "error",
     "traceback": [
      "\u001b[1;31m---------------------------------------------------------------------------\u001b[0m",
      "\u001b[1;31mAttributeError\u001b[0m                            Traceback (most recent call last)",
      "Cell \u001b[1;32mIn[88], line 3\u001b[0m\n\u001b[0;32m      1\u001b[0m \u001b[38;5;66;03m# ii.To reverse words in astring\u001b[39;00m\n\u001b[1;32m----> 3\u001b[0m \u001b[38;5;28mstr\u001b[39m\u001b[38;5;241m.\u001b[39mreverse()\n",
      "\u001b[1;31mAttributeError\u001b[0m: 'str' object has no attribute 'reverse'"
     ]
    }
   ],
   "source": [
    "# ii.To reverse words in astring\n",
    "\n",
    "str.reverse()\n",
    "\n"
   ]
  },
  {
   "cell_type": "code",
   "execution_count": 92,
   "id": "374a5d67",
   "metadata": {},
   "outputs": [
    {
     "name": "stdout",
     "output_type": "stream",
     "text": [
      "reverse wordsin the string: Mla Mphasis\n"
     ]
    }
   ],
   "source": [
    "words = str.split()\n",
    "reversed_str = \" \".join(reversed(words))\n",
    "print(\"reverse wordsin the string:\", reversed_str)\n"
   ]
  },
  {
   "cell_type": "code",
   "execution_count": 93,
   "id": "071610ec",
   "metadata": {},
   "outputs": [
    {
     "data": {
      "text/plain": [
       "'Mphasis MlaMphasis Mla'"
      ]
     },
     "execution_count": 93,
     "metadata": {},
     "output_type": "execute_result"
    }
   ],
   "source": [
    "\n",
    "# iii.To display the same string multipletimes\n",
    "\n",
    "str * 2\n",
    "\n"
   ]
  },
  {
   "cell_type": "code",
   "execution_count": 94,
   "id": "5cc956e9",
   "metadata": {},
   "outputs": [],
   "source": [
    "# iv.To concatenate twostrings\n",
    "\n",
    "str1 = \"mphasis\"\n",
    "str2 = \"company\"\n"
   ]
  },
  {
   "cell_type": "code",
   "execution_count": 95,
   "id": "2884fcd1",
   "metadata": {},
   "outputs": [
    {
     "data": {
      "text/plain": [
       "'mphasis'"
      ]
     },
     "execution_count": 95,
     "metadata": {},
     "output_type": "execute_result"
    }
   ],
   "source": [
    "str1"
   ]
  },
  {
   "cell_type": "code",
   "execution_count": 96,
   "id": "c2259c52",
   "metadata": {},
   "outputs": [
    {
     "data": {
      "text/plain": [
       "'mphasiscompany'"
      ]
     },
     "execution_count": 96,
     "metadata": {},
     "output_type": "execute_result"
    }
   ],
   "source": [
    "str1 + str2\n"
   ]
  },
  {
   "cell_type": "code",
   "execution_count": 97,
   "id": "90b2fb37",
   "metadata": {},
   "outputs": [],
   "source": [
    "# v.Str1=” South India”, using string slicing to display“India”\n",
    "\n",
    "str3 = \"south india\"\n",
    "\n"
   ]
  },
  {
   "cell_type": "code",
   "execution_count": 98,
   "id": "78eb7b03",
   "metadata": {},
   "outputs": [
    {
     "data": {
      "text/plain": [
       "'south india'"
      ]
     },
     "execution_count": 98,
     "metadata": {},
     "output_type": "execute_result"
    }
   ],
   "source": [
    "str3"
   ]
  },
  {
   "cell_type": "code",
   "execution_count": 99,
   "id": "68fa87be",
   "metadata": {},
   "outputs": [
    {
     "data": {
      "text/plain": [
       "'india'"
      ]
     },
     "execution_count": 99,
     "metadata": {},
     "output_type": "execute_result"
    }
   ],
   "source": [
    "str3[6:]"
   ]
  },
  {
   "cell_type": "markdown",
   "id": "b49f9012",
   "metadata": {},
   "source": [
    "# 6.Perform the following:\n",
    "i) Creating theDictionary.\n",
    "ii)Accessing values and keys in theDictionary.\n",
    "iii)Updating the dictionary using afunction.\n",
    "iv)Clear and delete the dictionaryvalues."
   ]
  },
  {
   "cell_type": "code",
   "execution_count": 100,
   "id": "570c5cf8",
   "metadata": {},
   "outputs": [],
   "source": [
    "# i) Creating theDictionary.\n",
    "\n",
    "person ={'m_name': 'alexandra', 'f_name':'dadderio' , 'age':30, 'city':'USA'}\n"
   ]
  },
  {
   "cell_type": "code",
   "execution_count": 101,
   "id": "296425a5",
   "metadata": {},
   "outputs": [
    {
     "data": {
      "text/plain": [
       "{'m_name': 'alexandra', 'f_name': 'dadderio', 'age': 30, 'city': 'USA'}"
      ]
     },
     "execution_count": 101,
     "metadata": {},
     "output_type": "execute_result"
    }
   ],
   "source": [
    "person\n"
   ]
  },
  {
   "cell_type": "code",
   "execution_count": 102,
   "id": "b52e5ccb",
   "metadata": {},
   "outputs": [
    {
     "data": {
      "text/plain": [
       "'alexandra'"
      ]
     },
     "execution_count": 102,
     "metadata": {},
     "output_type": "execute_result"
    }
   ],
   "source": [
    "# ii)Accessing values and keys in theDictionary.\n",
    "\n",
    "person['m_name']\n"
   ]
  },
  {
   "cell_type": "code",
   "execution_count": 103,
   "id": "2b288d2b",
   "metadata": {},
   "outputs": [
    {
     "data": {
      "text/plain": [
       "dict_values(['alexandra', 'dadderio', 30, 'USA'])"
      ]
     },
     "execution_count": 103,
     "metadata": {},
     "output_type": "execute_result"
    }
   ],
   "source": [
    "person.values()\n"
   ]
  },
  {
   "cell_type": "code",
   "execution_count": 104,
   "id": "b3440164",
   "metadata": {},
   "outputs": [
    {
     "data": {
      "text/plain": [
       "dict_keys(['m_name', 'f_name', 'age', 'city'])"
      ]
     },
     "execution_count": 104,
     "metadata": {},
     "output_type": "execute_result"
    }
   ],
   "source": [
    "person.keys()"
   ]
  },
  {
   "cell_type": "code",
   "execution_count": 105,
   "id": "8fb16b6e",
   "metadata": {},
   "outputs": [],
   "source": [
    "# iii)Updating the dictionary using afunction.\n",
    "\n",
    "person.update({'age': 25})\n"
   ]
  },
  {
   "cell_type": "code",
   "execution_count": 106,
   "id": "1ff33803",
   "metadata": {},
   "outputs": [
    {
     "data": {
      "text/plain": [
       "{'m_name': 'alexandra', 'f_name': 'dadderio', 'age': 25, 'city': 'USA'}"
      ]
     },
     "execution_count": 106,
     "metadata": {},
     "output_type": "execute_result"
    }
   ],
   "source": [
    "person\n"
   ]
  },
  {
   "cell_type": "code",
   "execution_count": 107,
   "id": "ab33e6c2",
   "metadata": {},
   "outputs": [],
   "source": [
    "person.clear()\n"
   ]
  },
  {
   "cell_type": "code",
   "execution_count": 108,
   "id": "898035e1",
   "metadata": {},
   "outputs": [
    {
     "data": {
      "text/plain": [
       "{}"
      ]
     },
     "execution_count": 108,
     "metadata": {},
     "output_type": "execute_result"
    }
   ],
   "source": [
    "person"
   ]
  },
  {
   "cell_type": "code",
   "execution_count": 109,
   "id": "505813fd",
   "metadata": {},
   "outputs": [
    {
     "ename": "SyntaxError",
     "evalue": "cannot delete function call (58178199.py, line 1)",
     "output_type": "error",
     "traceback": [
      "\u001b[1;36m  Cell \u001b[1;32mIn[109], line 1\u001b[1;36m\u001b[0m\n\u001b[1;33m    del person('m_name')\u001b[0m\n\u001b[1;37m        ^\u001b[0m\n\u001b[1;31mSyntaxError\u001b[0m\u001b[1;31m:\u001b[0m cannot delete function call\n"
     ]
    }
   ],
   "source": [
    "del person('m_name')"
   ]
  },
  {
   "cell_type": "code",
   "execution_count": 111,
   "id": "2891b92d",
   "metadata": {},
   "outputs": [
    {
     "data": {
      "text/plain": [
       "{}"
      ]
     },
     "execution_count": 111,
     "metadata": {},
     "output_type": "execute_result"
    }
   ],
   "source": [
    "person\n",
    "\n"
   ]
  },
  {
   "cell_type": "markdown",
   "id": "ea4c8833",
   "metadata": {},
   "source": [
    "# 7.Python program to insert a number to any position in a list.\n"
   ]
  },
  {
   "cell_type": "code",
   "execution_count": 112,
   "id": "12fb4bf5",
   "metadata": {},
   "outputs": [],
   "source": [
    "list = [246,143,926,834,589]\n",
    "\n"
   ]
  },
  {
   "cell_type": "code",
   "execution_count": 113,
   "id": "b4f9ab8f",
   "metadata": {},
   "outputs": [
    {
     "data": {
      "text/plain": [
       "[246, 143, 926, 834, 589]"
      ]
     },
     "execution_count": 113,
     "metadata": {},
     "output_type": "execute_result"
    }
   ],
   "source": [
    "list\n"
   ]
  },
  {
   "cell_type": "code",
   "execution_count": 114,
   "id": "dc642c86",
   "metadata": {},
   "outputs": [
    {
     "ename": "TypeError",
     "evalue": "insert expected 2 arguments, got 1",
     "output_type": "error",
     "traceback": [
      "\u001b[1;31m---------------------------------------------------------------------------\u001b[0m",
      "\u001b[1;31mTypeError\u001b[0m                                 Traceback (most recent call last)",
      "Cell \u001b[1;32mIn[114], line 1\u001b[0m\n\u001b[1;32m----> 1\u001b[0m \u001b[38;5;28mlist\u001b[39m\u001b[38;5;241m.\u001b[39minsert(\u001b[38;5;241m222\u001b[39m)\n\u001b[0;32m      2\u001b[0m \u001b[38;5;28mlist\u001b[39m[\u001b[38;5;241m3\u001b[39m]\n\u001b[0;32m      3\u001b[0m \u001b[38;5;28mlist\u001b[39m\n",
      "\u001b[1;31mTypeError\u001b[0m: insert expected 2 arguments, got 1"
     ]
    }
   ],
   "source": [
    "list.insert(222)\n",
    "list[3]\n",
    "list"
   ]
  },
  {
   "cell_type": "code",
   "execution_count": 115,
   "id": "721143bd",
   "metadata": {},
   "outputs": [
    {
     "ename": "TypeError",
     "evalue": "'list' object cannot be interpreted as an integer",
     "output_type": "error",
     "traceback": [
      "\u001b[1;31m---------------------------------------------------------------------------\u001b[0m",
      "\u001b[1;31mTypeError\u001b[0m                                 Traceback (most recent call last)",
      "Cell \u001b[1;32mIn[115], line 1\u001b[0m\n\u001b[1;32m----> 1\u001b[0m \u001b[38;5;28mlist\u001b[39m\u001b[38;5;241m.\u001b[39minsert([\u001b[38;5;241m2\u001b[39m], \u001b[38;5;241m222\u001b[39m)\n\u001b[0;32m      2\u001b[0m \u001b[38;5;28mlist\u001b[39m\n",
      "\u001b[1;31mTypeError\u001b[0m: 'list' object cannot be interpreted as an integer"
     ]
    }
   ],
   "source": [
    "list.insert([2], 222)\n",
    "list"
   ]
  },
  {
   "cell_type": "code",
   "execution_count": 116,
   "id": "8247fcc7",
   "metadata": {},
   "outputs": [
    {
     "name": "stdout",
     "output_type": "stream",
     "text": [
      "[246, 143, 222, 926, 834, 589]\n"
     ]
    }
   ],
   "source": [
    "number_to_insert=222\n",
    "position =2\n",
    "list.insert(position, number_to_insert)\n",
    "print(list)"
   ]
  },
  {
   "cell_type": "markdown",
   "id": "36a8418c",
   "metadata": {},
   "source": [
    "# 8.Python program to delete an element from a list by index"
   ]
  },
  {
   "cell_type": "code",
   "execution_count": 117,
   "id": "57bd76b5",
   "metadata": {},
   "outputs": [
    {
     "data": {
      "text/plain": [
       "[222, 333, 444, 555]"
      ]
     },
     "execution_count": 117,
     "metadata": {},
     "output_type": "execute_result"
    }
   ],
   "source": [
    "list = [222,333,444,555]\n",
    "list\n"
   ]
  },
  {
   "cell_type": "code",
   "execution_count": 126,
   "id": "a1eefa6f",
   "metadata": {},
   "outputs": [
    {
     "data": {
      "text/plain": [
       "[222, 555]"
      ]
     },
     "execution_count": 126,
     "metadata": {},
     "output_type": "execute_result"
    }
   ],
   "source": [
    "del list[1]\n",
    "list\n"
   ]
  },
  {
   "cell_type": "code",
   "execution_count": 123,
   "id": "92a49c40",
   "metadata": {},
   "outputs": [
    {
     "ename": "SyntaxError",
     "evalue": "invalid syntax (1938972313.py, line 1)",
     "output_type": "error",
     "traceback": [
      "\u001b[1;36m  Cell \u001b[1;32mIn[123], line 1\u001b[1;36m\u001b[0m\n\u001b[1;33m    list pop([2])\u001b[0m\n\u001b[1;37m         ^\u001b[0m\n\u001b[1;31mSyntaxError\u001b[0m\u001b[1;31m:\u001b[0m invalid syntax\n"
     ]
    }
   ],
   "source": [
    "list pop([2])\n",
    "list"
   ]
  },
  {
   "cell_type": "code",
   "execution_count": 121,
   "id": "f56a2a3b",
   "metadata": {},
   "outputs": [
    {
     "data": {
      "text/plain": [
       "[222, 333, 555]"
      ]
     },
     "execution_count": 121,
     "metadata": {},
     "output_type": "execute_result"
    }
   ],
   "source": [
    "del list[2]\n",
    "list"
   ]
  },
  {
   "cell_type": "markdown",
   "id": "70538ff8",
   "metadata": {},
   "source": [
    "# 9.Write a program to display a number from 1 to 100."
   ]
  },
  {
   "cell_type": "code",
   "execution_count": 129,
   "id": "757b1ef4",
   "metadata": {},
   "outputs": [
    {
     "name": "stdout",
     "output_type": "stream",
     "text": [
      "1\n",
      "2\n",
      "3\n",
      "4\n",
      "5\n",
      "6\n",
      "7\n",
      "8\n",
      "9\n",
      "10\n",
      "11\n",
      "12\n",
      "13\n",
      "14\n",
      "15\n",
      "16\n",
      "17\n",
      "18\n",
      "19\n",
      "20\n",
      "21\n",
      "22\n",
      "23\n",
      "24\n",
      "25\n",
      "26\n",
      "27\n",
      "28\n",
      "29\n",
      "30\n",
      "31\n",
      "32\n",
      "33\n",
      "34\n",
      "35\n",
      "36\n",
      "37\n",
      "38\n",
      "39\n",
      "40\n",
      "41\n",
      "42\n",
      "43\n",
      "44\n",
      "45\n",
      "46\n",
      "47\n",
      "48\n",
      "49\n",
      "50\n",
      "51\n",
      "52\n",
      "53\n",
      "54\n",
      "55\n",
      "56\n",
      "57\n",
      "58\n",
      "59\n",
      "60\n",
      "61\n",
      "62\n",
      "63\n",
      "64\n",
      "65\n",
      "66\n",
      "67\n",
      "68\n",
      "69\n",
      "70\n",
      "71\n",
      "72\n",
      "73\n",
      "74\n",
      "75\n",
      "76\n",
      "77\n",
      "78\n",
      "79\n",
      "80\n",
      "81\n",
      "82\n",
      "83\n",
      "84\n",
      "85\n",
      "86\n",
      "87\n",
      "88\n",
      "89\n",
      "90\n",
      "91\n",
      "92\n",
      "93\n",
      "94\n",
      "95\n",
      "96\n",
      "97\n",
      "98\n",
      "99\n",
      "100\n"
     ]
    }
   ],
   "source": [
    "for i in range (1,101):\n",
    " print(i)\n"
   ]
  },
  {
   "cell_type": "markdown",
   "id": "f1386d04",
   "metadata": {},
   "source": [
    "# 10.Write a Python program to find the sum of all items in a tuple\n"
   ]
  },
  {
   "cell_type": "code",
   "execution_count": 130,
   "id": "d722d36c",
   "metadata": {},
   "outputs": [
    {
     "data": {
      "text/plain": [
       "1110"
      ]
     },
     "execution_count": 130,
     "metadata": {},
     "output_type": "execute_result"
    }
   ],
   "source": [
    "tuple = (111,222,333,444)\n",
    "sum(tuple)\n"
   ]
  },
  {
   "cell_type": "markdown",
   "id": "6210b2f9",
   "metadata": {},
   "source": [
    "# control strcuters:\n",
    "    \n",
    "1.Write a python program to find the first N Prime numbers.\n"
   ]
  },
  {
   "cell_type": "code",
   "execution_count": 143,
   "id": "c7b3ecd9",
   "metadata": {},
   "outputs": [],
   "source": [
    "def print_primes(n):\n",
    "    for num in range(2,n+1):\n",
    "        if num > 1:\n",
    "            for i in range(2, num):\n",
    "                if (num % i) == 0:\n",
    "                    break\n",
    "            else :\n",
    "                print(num)\n",
    "                \n",
    "    \n",
    "            "
   ]
  },
  {
   "cell_type": "markdown",
   "id": "14b46689",
   "metadata": {},
   "source": []
  },
  {
   "cell_type": "code",
   "execution_count": 144,
   "id": "1fc54838",
   "metadata": {},
   "outputs": [],
   "source": [
    "def print_primes(n):\n",
    "    for num in range(2,n+1):\n",
    "        if num > 1:\n",
    "            for i in range(2, num):\n",
    "                if (num % i) == 0:\n",
    "                    break\n",
    "            else :\n",
    "                print(num)\n",
    "\n",
    "                "
   ]
  },
  {
   "cell_type": "code",
   "execution_count": null,
   "id": "2333a980",
   "metadata": {},
   "outputs": [],
   "source": []
  },
  {
   "cell_type": "code",
   "execution_count": null,
   "id": "44559ad1",
   "metadata": {},
   "outputs": [],
   "source": [
    "  #3.Write a python program to search for a string in the given list."
   ]
  },
  {
   "cell_type": "code",
   "execution_count": 145,
   "id": "c6511f23",
   "metadata": {},
   "outputs": [],
   "source": [
    "def search_string_in_list(my_list, search_string):\n",
    "    for item in my_list:\n",
    "        if item == search_string:\n",
    "            return f\" '{search_string}' found in the list.\"\n",
    "        return f\" '{search_string}' not found in the list.\"\n",
    "    my_list = [\"apple\", \"banana\", \"cherry\"]\n",
    "    search_string = \"cherry\"\n",
    "    result = search_string_in_list(my_list, search_string)\n",
    "    print(result)\n",
    "    \n",
    "    \n",
    "    "
   ]
  },
  {
   "cell_type": "code",
   "execution_count": null,
   "id": "f946c44f",
   "metadata": {},
   "outputs": [],
   "source": [
    "list=[1,2,3]\n"
   ]
  },
  {
   "cell_type": "code",
   "execution_count": 142,
   "id": "da515dcf",
   "metadata": {},
   "outputs": [
    {
     "name": "stdout",
     "output_type": "stream",
     "text": [
      "[222, 555]\n"
     ]
    }
   ],
   "source": [
    "print(list)"
   ]
  },
  {
   "cell_type": "code",
   "execution_count": null,
   "id": "fd07aebf",
   "metadata": {},
   "outputs": [],
   "source": [
    "# 6.Write a python Program to print the table of any number\n",
    "\n",
    "\n"
   ]
  },
  {
   "cell_type": "code",
   "execution_count": 146,
   "id": "f696915e",
   "metadata": {},
   "outputs": [],
   "source": [
    "list1=[12,24,33333]\n"
   ]
  },
  {
   "cell_type": "code",
   "execution_count": 147,
   "id": "b35d4c36",
   "metadata": {},
   "outputs": [
    {
     "data": {
      "text/plain": [
       "[12, 24, 33333]"
      ]
     },
     "execution_count": 147,
     "metadata": {},
     "output_type": "execute_result"
    }
   ],
   "source": [
    "list1\n"
   ]
  },
  {
   "cell_type": "code",
   "execution_count": 149,
   "id": "30374463",
   "metadata": {},
   "outputs": [
    {
     "name": "stdout",
     "output_type": "stream",
     "text": [
      "enter the number:25\n",
      "multiplicaion table of 25\n",
      "25 x 1 = 25\n",
      "25 x 2 = 50\n",
      "25 x 3 = 75\n",
      "25 x 4 = 100\n",
      "25 x 5 = 125\n",
      "25 x 6 = 150\n",
      "25 x 7 = 175\n",
      "25 x 8 = 200\n",
      "25 x 9 = 225\n",
      "25 x 10 = 250\n"
     ]
    }
   ],
   "source": [
    "num= int(input(\"enter the number:\"))\n",
    "print(\"multiplicaion table of\", num)\n",
    "for i in range(1,11):\n",
    "    print(num, \"x\", i, \"=\", num * i)"
   ]
  },
  {
   "cell_type": "code",
   "execution_count": null,
   "id": "11b754b1",
   "metadata": {},
   "outputs": [],
   "source": [
    "# 9.Write a python program to take the temperature in Celsius and convert it to a Fahrenheit.\n",
    "\n",
    "\n"
   ]
  },
  {
   "cell_type": "code",
   "execution_count": 153,
   "id": "de7f8861",
   "metadata": {},
   "outputs": [
    {
     "name": "stdout",
     "output_type": "stream",
     "text": [
      "Enter temperature in celusis:37\n",
      "37.0 Celsius is: 98.6 Fahrenheit\n"
     ]
    }
   ],
   "source": [
    "celsius = float(input(\"Enter temperature in celusis:\"))\n",
    "fahrenheit = (celsius *9/5) + 32\n",
    "fahrenheit= round(fahrenheit,2)\n",
    "print(celsius, 'Celsius is:', fahrenheit, 'Fahrenheit')"
   ]
  },
  {
   "cell_type": "code",
   "execution_count": null,
   "id": "475af5e9",
   "metadata": {},
   "outputs": [],
   "source": [
    "# 10.Write  a  python  program  to  find  a  maximum  and  minimum  number  in  a  list  without  using  an inbulit function."
   ]
  },
  {
   "cell_type": "code",
   "execution_count": 154,
   "id": "690ad39f",
   "metadata": {},
   "outputs": [
    {
     "name": "stdout",
     "output_type": "stream",
     "text": [
      "largest number: 96\n",
      "smallest number: 10\n"
     ]
    }
   ],
   "source": [
    "numbers = [10,25,82,96]\n",
    "largest = max(numbers)\n",
    "smallest = min(numbers)\n",
    "print(\"largest number:\", largest)\n",
    "print(\"smallest number:\", smallest)"
   ]
  },
  {
   "cell_type": "code",
   "execution_count": null,
   "id": "644a22aa",
   "metadata": {},
   "outputs": [],
   "source": [
    "# 12.Write a program in python to print out the number of seconds in a year.\n"
   ]
  },
  {
   "cell_type": "code",
   "execution_count": 155,
   "id": "fd3deedb",
   "metadata": {},
   "outputs": [
    {
     "name": "stdout",
     "output_type": "stream",
     "text": [
      "53.69391534896999\n"
     ]
    }
   ],
   "source": [
    "import time\n",
    "seconds = time.time()\n",
    "years = seconds / 60/60/24/365.25\n",
    "print(years)"
   ]
  },
  {
   "cell_type": "code",
   "execution_count": null,
   "id": "63dd15d3",
   "metadata": {},
   "outputs": [],
   "source": []
  }
 ],
 "metadata": {
  "kernelspec": {
   "display_name": "Python 3 (ipykernel)",
   "language": "python",
   "name": "python3"
  },
  "language_info": {
   "codemirror_mode": {
    "name": "ipython",
    "version": 3
   },
   "file_extension": ".py",
   "mimetype": "text/x-python",
   "name": "python",
   "nbconvert_exporter": "python",
   "pygments_lexer": "ipython3",
   "version": "3.11.4"
  }
 },
 "nbformat": 4,
 "nbformat_minor": 5
}
