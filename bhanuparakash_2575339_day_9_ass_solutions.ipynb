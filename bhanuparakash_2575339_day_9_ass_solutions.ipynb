{
 "cells": [
  {
   "cell_type": "code",
   "execution_count": null,
   "id": "75305ac6",
   "metadata": {},
   "outputs": [],
   "source": []
  },
  {
   "cell_type": "code",
   "execution_count": 13,
   "id": "fe423c08",
   "metadata": {},
   "outputs": [
    {
     "data": {
      "text/plain": [
       "array([[0., 0., 0., 0., 0., 0., 0., 0., 0., 0., 0., 0., 0., 0., 0., 0.,\n",
       "        0., 0., 0., 0.],\n",
       "       [0., 0., 0., 0., 0., 0., 0., 0., 0., 0., 0., 0., 0., 0., 0., 0.,\n",
       "        0., 0., 0., 0.],\n",
       "       [0., 0., 0., 0., 0., 0., 0., 0., 0., 0., 0., 0., 0., 0., 0., 0.,\n",
       "        0., 0., 0., 0.],\n",
       "       [0., 0., 0., 0., 0., 0., 0., 0., 0., 0., 0., 0., 0., 0., 0., 0.,\n",
       "        0., 0., 0., 0.],\n",
       "       [0., 0., 0., 0., 0., 0., 0., 0., 0., 0., 0., 0., 0., 0., 0., 0.,\n",
       "        0., 0., 0., 0.]])"
      ]
     },
     "execution_count": 13,
     "metadata": {},
     "output_type": "execute_result"
    }
   ],
   "source": [
    "import numpy as np\n",
    "a=np.zeros((5,20))\n",
    "a"
   ]
  },
  {
   "cell_type": "code",
   "execution_count": 14,
   "id": "5f3d9f9d",
   "metadata": {},
   "outputs": [
    {
     "data": {
      "text/plain": [
       "array([[0., 0., 0., 0., 0., 0., 0., 0., 0., 0., 0., 0., 0., 0., 0., 0.,\n",
       "        0., 0., 0., 0.],\n",
       "       [0., 0., 0., 0., 0., 0., 0., 0., 0., 0., 0., 0., 0., 0., 0., 0.,\n",
       "        0., 0., 0., 0.],\n",
       "       [0., 0., 0., 0., 0., 0., 0., 0., 0., 0., 0., 0., 0., 0., 0., 0.,\n",
       "        0., 0., 0., 0.],\n",
       "       [0., 0., 0., 0., 0., 0., 0., 0., 0., 0., 0., 0., 0., 0., 0., 0.,\n",
       "        0., 0., 0., 0.],\n",
       "       [0., 0., 0., 0., 0., 0., 0., 0., 0., 0., 0., 0., 0., 0., 0., 0.,\n",
       "        0., 0., 0., 0.]])"
      ]
     },
     "execution_count": 14,
     "metadata": {},
     "output_type": "execute_result"
    }
   ],
   "source": [
    "import numpy as np\n",
    "a=np.zeros((5,20))\n",
    "a"
   ]
  },
  {
   "cell_type": "code",
   "execution_count": 15,
   "id": "9ca41544",
   "metadata": {},
   "outputs": [
    {
     "data": {
      "text/plain": [
       "array([[0., 0., 0., 0., 0., 0., 0., 0., 0., 0., 0., 0., 0., 0., 0., 0.,\n",
       "        0., 0., 0., 0.],\n",
       "       [0., 0., 0., 0., 0., 0., 0., 0., 0., 0., 0., 0., 0., 0., 0., 0.,\n",
       "        0., 0., 0., 0.],\n",
       "       [0., 0., 0., 0., 0., 0., 0., 0., 0., 0., 0., 0., 0., 0., 0., 0.,\n",
       "        0., 0., 0., 0.],\n",
       "       [0., 0., 0., 0., 0., 0., 0., 0., 0., 0., 0., 0., 0., 0., 0., 0.,\n",
       "        0., 0., 0., 0.],\n",
       "       [0., 0., 0., 0., 0., 0., 0., 0., 0., 0., 0., 0., 0., 0., 0., 0.,\n",
       "        0., 0., 0., 0.],\n",
       "       [0., 0., 0., 0., 0., 0., 0., 0., 0., 0., 0., 0., 0., 0., 0., 0.,\n",
       "        0., 0., 0., 0.],\n",
       "       [0., 0., 0., 0., 0., 0., 0., 0., 0., 0., 0., 0., 0., 0., 0., 0.,\n",
       "        0., 0., 0., 0.],\n",
       "       [0., 0., 0., 0., 0., 0., 0., 0., 0., 0., 0., 0., 0., 0., 0., 0.,\n",
       "        0., 0., 0., 0.]])"
      ]
     },
     "execution_count": 15,
     "metadata": {},
     "output_type": "execute_result"
    }
   ],
   "source": [
    "\n",
    "import numpy as np\n",
    "b=np.zeros((8,20))\n",
    "b\n"
   ]
  },
  {
   "cell_type": "markdown",
   "id": "3bafc676",
   "metadata": {},
   "source": [
    "# 1. Create a 3x3x3 array with random values\n",
    "\n",
    "\n"
   ]
  },
  {
   "cell_type": "code",
   "execution_count": 21,
   "id": "00253e3f",
   "metadata": {},
   "outputs": [
    {
     "name": "stdout",
     "output_type": "stream",
     "text": [
      "[[[0.49049244 0.82998948 0.74830322]\n",
      "  [0.17758594 0.85338865 0.66501397]\n",
      "  [0.00755989 0.86316089 0.50237876]]\n",
      "\n",
      " [[0.27666205 0.99164319 0.09753375]\n",
      "  [0.2026988  0.91089937 0.09352796]\n",
      "  [0.34223602 0.98131269 0.55369046]]\n",
      "\n",
      " [[0.18342242 0.52348977 0.5068997 ]\n",
      "  [0.82805466 0.56835706 0.65697136]\n",
      "  [0.41225428 0.63310698 0.09810823]]]\n"
     ]
    }
   ],
   "source": [
    "random_array = np.random.rand(3, 3, 3)\n",
    "\n",
    "print(random_array)\n"
   ]
  },
  {
   "cell_type": "markdown",
   "id": "c594874c",
   "metadata": {},
   "source": [
    "# 2. Create a 5x5 matrix with values 1,2,3,4 just below the diagonal\n"
   ]
  },
  {
   "cell_type": "code",
   "execution_count": 28,
   "id": "922d8eaa",
   "metadata": {},
   "outputs": [
    {
     "name": "stdout",
     "output_type": "stream",
     "text": [
      "[[0. 0. 0. 0. 0.]\n",
      " [1. 0. 0. 0. 0.]\n",
      " [0. 2. 0. 0. 0.]\n",
      " [0. 0. 3. 0. 0.]\n",
      " [0. 0. 0. 4. 0.]]\n"
     ]
    }
   ],
   "source": [
    "bb=np.zeros((5,5))\n",
    "\n",
    "np.fill_diagonal(bb[1:], [1,2,3,4])\n",
    "\n",
    "\n",
    "print(bb)"
   ]
  },
  {
   "cell_type": "markdown",
   "id": "8afccbc2",
   "metadata": {},
   "source": [
    "# 3.create a 8x8 matrix and fill it with a checkerboard pattern"
   ]
  },
  {
   "cell_type": "code",
   "execution_count": 36,
   "id": "0c38c493",
   "metadata": {},
   "outputs": [
    {
     "name": "stdout",
     "output_type": "stream",
     "text": [
      "[[2 0 2 0 2 0 2 0]\n",
      " [0 3 0 3 0 3 0 3]\n",
      " [2 0 2 0 2 0 2 0]\n",
      " [0 3 0 3 0 3 0 3]\n",
      " [2 0 2 0 2 0 2 0]\n",
      " [0 3 0 3 0 3 0 3]\n",
      " [2 0 2 0 2 0 2 0]\n",
      " [0 3 0 3 0 3 0 3]]\n"
     ]
    }
   ],
   "source": [
    "cc=np.zeros((8,8), dtype=int)\n",
    "\n",
    "cc[::2, ::2] =2\n",
    "cc[1::2, 1::2] = 3\n",
    "\n",
    "\n",
    "\n",
    "print(cc)\n"
   ]
  },
  {
   "cell_type": "markdown",
   "id": "0c7c6f01",
   "metadata": {},
   "source": [
    "# 4. Normalise a 5x5 random  matrix"
   ]
  },
  {
   "cell_type": "code",
   "execution_count": 43,
   "id": "28385b52",
   "metadata": {},
   "outputs": [
    {
     "name": "stdout",
     "output_type": "stream",
     "text": [
      "Original Matrix:\n",
      "[[0.00859582 0.33532741 0.92012087 0.35487148 0.52200881]\n",
      " [0.25347065 0.87479694 0.44865121 0.72890319 0.77595186]\n",
      " [0.78621761 0.76525222 0.59540932 0.04966728 0.83778754]\n",
      " [0.45293463 0.01317007 0.78069861 0.25631971 0.22605102]\n",
      " [0.62867403 0.98058469 0.93823125 0.1549071  0.43929491]]\n",
      "\n",
      "Normalized Matrix:\n",
      "[[-1.71173389 -0.6289541   1.30903586 -0.56418559 -0.0102969 ]\n",
      " [-0.90022523  1.15883355 -0.25340204  0.67534554  0.8312636 ]\n",
      " [ 0.86528403  0.79580527  0.23295041 -1.57562416  1.03618539]\n",
      " [-0.23920689 -1.69657494  0.84699419 -0.89078351 -0.99109316]\n",
      " [ 0.34318879  1.50941136  1.36905319 -1.22686222 -0.28440856]]\n"
     ]
    }
   ],
   "source": [
    "\n",
    "dd = np.random.rand(5, 5)\n",
    "\n",
    "mean = dd.mean()\n",
    "std_dev = dd.std()\n",
    "\n",
    "\n",
    "normalized_matrix = (dd - mean) / std_dev\n",
    "\n",
    "print(\"Original Matrix:\")\n",
    "print(dd)\n",
    "\n",
    "print(\"\\nNormalized Matrix:\")\n",
    "print(normalized_matrix)\n"
   ]
  },
  {
   "cell_type": "markdown",
   "id": "d43e58fa",
   "metadata": {},
   "source": [
    "# 5.How to find common values between two arrays "
   ]
  },
  {
   "cell_type": "code",
   "execution_count": 48,
   "id": "58dc6bea",
   "metadata": {},
   "outputs": [
    {
     "name": "stdout",
     "output_type": "stream",
     "text": [
      "[102 789]\n"
     ]
    }
   ],
   "source": [
    "\n",
    "\n",
    "\n",
    "e1 = np.array([10,102,568,546,789])\n",
    "e2 = np.array([259,205,468,458,789, 102])\n",
    "\n",
    "\n",
    "common_values = np.intersect1d(e1, e2)\n",
    "\n",
    "print(common_values)\n"
   ]
  },
  {
   "cell_type": "markdown",
   "id": "98504801",
   "metadata": {},
   "source": [
    "# 6. How to get the dates of yesterday, today and tommorow"
   ]
  },
  {
   "cell_type": "code",
   "execution_count": 49,
   "id": "a6922b4d",
   "metadata": {},
   "outputs": [
    {
     "name": "stdout",
     "output_type": "stream",
     "text": [
      "Yesterday: 2023-09-20\n",
      "Today: 2023-09-21\n",
      "Tomorrow: 2023-09-22\n"
     ]
    }
   ],
   "source": [
    "\n",
    "import datetime\n",
    "\n",
    "\n",
    "today = datetime.date.today()\n",
    "\n",
    "\n",
    "yesterday = today - datetime.timedelta(days=1)\n",
    "tomorrow = today + datetime.timedelta(days=1)\n",
    "\n",
    "print(\"Yesterday:\", yesterday)\n",
    "print(\"Today:\", today)\n",
    "print(\"Tomorrow:\", tomorrow)\n"
   ]
  },
  {
   "cell_type": "markdown",
   "id": "2f1e574b",
   "metadata": {},
   "source": [
    "# 7. Consider two random array A and B , check if they are equal "
   ]
  },
  {
   "cell_type": "markdown",
   "id": "3f411a41",
   "metadata": {},
   "source": [
    "# \n",
    "\n",
    "f1 = np.random.rand(5, 5)\n",
    "f2 = np.random.rand(6, 6)\n",
    "\n",
    "\n",
    "are_equal = np.array_equal(f1, f2)\n",
    "\n",
    "if are_equal:\n",
    "    print(\"Arrays f1 and f2 are equal.\")\n",
    "else:\n",
    "    print(\"Arrays f1 and f2 are not equal.\")\n"
   ]
  },
  {
   "cell_type": "markdown",
   "id": "a856d2a5",
   "metadata": {},
   "source": [
    "# 8. Create random vector of size 10 and replace the maximnum value by 0\n"
   ]
  },
  {
   "cell_type": "code",
   "execution_count": 60,
   "id": "860728fb",
   "metadata": {},
   "outputs": [
    {
     "name": "stdout",
     "output_type": "stream",
     "text": [
      "Random vector with the maximum value replaced by 0:\n",
      "[0.65946847 0.40574427 0.70205197 0.         0.83690278 0.20202443\n",
      " 0.8993854  0.77784961 0.18348534 0.81698755]\n"
     ]
    }
   ],
   "source": [
    "\n",
    "\n",
    "f3 = np.random.rand(10)\n",
    "\n",
    "\n",
    "max_index = np.argmax(f3)\n",
    "\n",
    "\n",
    "f3[max_index] = 0\n",
    "\n",
    "print(\"Random vector with the maximum value replaced by 0:\")\n",
    "print(f3)\n"
   ]
  },
  {
   "cell_type": "markdown",
   "id": "14764690",
   "metadata": {},
   "source": [
    "# 9.How to print the all values of an array."
   ]
  },
  {
   "cell_type": "code",
   "execution_count": 61,
   "id": "68dd346d",
   "metadata": {},
   "outputs": [
    {
     "name": "stdout",
     "output_type": "stream",
     "text": [
      "25\n",
      "5848\n",
      "596\n",
      "2597\n",
      "2317415\n"
     ]
    }
   ],
   "source": [
    "\n",
    "neelam_array = np.array([25,5848,596,2597,2317415])\n",
    "\n",
    "\n",
    "for value in neelam_array:\n",
    "    print(value)\n"
   ]
  },
  {
   "cell_type": "markdown",
   "id": "35b18251",
   "metadata": {},
   "source": [
    "# 10.Subtract the mean of each row of a matrix."
   ]
  },
  {
   "cell_type": "code",
   "execution_count": 63,
   "id": "39783f6a",
   "metadata": {},
   "outputs": [
    {
     "name": "stdout",
     "output_type": "stream",
     "text": [
      "Original Matrix:\n",
      "[[ 85 245  33]\n",
      " [ 98  54  76]\n",
      " [ 70  68  29]]\n",
      "\n",
      "Matrix with Row Means Subtracted:\n",
      "[[-36.         124.         -88.        ]\n",
      " [ 22.         -22.           0.        ]\n",
      " [ 14.33333333  12.33333333 -26.66666667]]\n"
     ]
    }
   ],
   "source": [
    "\n",
    "g= np.array([[85, 245, 33], [98, 54, 76],[70, 68, 29]])\n",
    "\n",
    "\n",
    "row_means = np.mean(g, axis=1, keepdims=True)\n",
    "\n",
    "\n",
    "normalized_matrix = g - row_means\n",
    "\n",
    "print(\"Original Matrix:\")\n",
    "print(g)\n",
    "\n",
    "print(\"\\nMatrix with Row Means Subtracted:\")\n",
    "print(normalized_matrix)\n"
   ]
  },
  {
   "cell_type": "markdown",
   "id": "a5fa6fc3",
   "metadata": {},
   "source": [
    "# 11. Consider a given vector, how to add 1 to each element indexed by a second vector (be careful with repeated indices)"
   ]
  },
  {
   "cell_type": "code",
   "execution_count": 67,
   "id": "5c22bfd0",
   "metadata": {},
   "outputs": [
    {
     "name": "stdout",
     "output_type": "stream",
     "text": [
      "p :\n",
      "[ 10  85 856 480 569]\n",
      "\n",
      "Index Vector:\n",
      "[1 3 3 4 0]\n",
      "\n",
      "Result Vector:\n",
      "[ 11  86 856 481 570]\n"
     ]
    }
   ],
   "source": [
    "p = np.array([10, 85, 856, 480, 569])\n",
    "\n",
    "\n",
    "index_vector = np.array([1, 3, 3, 4, 0])\n",
    "\n",
    "\n",
    "result_vector = p.copy()\n",
    "\n",
    "\n",
    "unique_indices = np.unique(index_vector)\n",
    "\n",
    "\n",
    "result_vector[unique_indices] += 1\n",
    "\n",
    "print(\"p :\")\n",
    "print(p)\n",
    "\n",
    "print(\"\\nIndex Vector:\")\n",
    "print(index_vector)\n",
    "\n",
    "print(\"\\nResult Vector:\")\n",
    "print(result_vector)\n"
   ]
  },
  {
   "cell_type": "markdown",
   "id": "1b2627c9",
   "metadata": {},
   "source": [
    "# 12. How to get the diagonal of a dot produt."
   ]
  },
  {
   "cell_type": "code",
   "execution_count": 68,
   "id": "09c3a346",
   "metadata": {},
   "outputs": [
    {
     "name": "stdout",
     "output_type": "stream",
     "text": [
      "Dot Product:\n",
      "[[ 30  24  18]\n",
      " [ 84  69  54]\n",
      " [138 114  90]]\n",
      "\n",
      "Diagonal Elements of the Dot Product:\n",
      "[30 69 90]\n"
     ]
    }
   ],
   "source": [
    "u = np.array([[1, 2, 3],\n",
    "              [4, 5, 6],\n",
    "              [7, 8, 9]])\n",
    "\n",
    "v = np.array([[9, 8, 7],\n",
    "              [6, 5, 4],\n",
    "              [3, 2, 1]])\n",
    "\n",
    "\n",
    "dot_product = np.dot(u, v)\n",
    "\n",
    "\n",
    "diagonal_elements = np.diag(dot_product)\n",
    "\n",
    "print(\"Dot Product:\")\n",
    "print(dot_product)\n",
    "\n",
    "print(\"\\nDiagonal Elements of the Dot Product:\")\n",
    "print(diagonal_elements)\n"
   ]
  },
  {
   "cell_type": "markdown",
   "id": "9262c9a8",
   "metadata": {},
   "source": [
    "# 13.How to find the most frequent value in an array."
   ]
  },
  {
   "cell_type": "code",
   "execution_count": 70,
   "id": "d4a2aa5a",
   "metadata": {},
   "outputs": [
    {
     "name": "stdout",
     "output_type": "stream",
     "text": [
      "Array: [ 24  28   2   5   8   4   5   5   6   9   7   4   5   5   9   8   1 222\n",
      "   7   4   8   7   7   8   5   7   9   5   5   4   2   8]\n",
      "Most frequent value: 5\n",
      "Frequency: 8\n"
     ]
    }
   ],
   "source": [
    "arr = np.array([24,28,2,5,8,4,5,5,6,9,7,4,5,5,9,8,1,222,7,4,8,7,7,8,5,7,9,5,5,4,2,8,])\n",
    "\n",
    "\n",
    "\n",
    "unique_values, counts = np.unique(arr, return_counts=True)\n",
    "\n",
    "\n",
    "max_count_index = np.argmax(counts)\n",
    "\n",
    "\n",
    "most_frequent_value = unique_values[max_count_index]\n",
    "\n",
    "print(\"Array:\", arr)\n",
    "print(\"Most frequent value:\", most_frequent_value)\n",
    "print(\"Frequency:\", counts[max_count_index])\n"
   ]
  },
  {
   "cell_type": "markdown",
   "id": "01346c7b",
   "metadata": {},
   "source": [
    "# 14.How to get the n largest values of ana array"
   ]
  },
  {
   "cell_type": "code",
   "execution_count": 72,
   "id": "6f6ee7f4",
   "metadata": {},
   "outputs": [
    {
     "name": "stdout",
     "output_type": "stream",
     "text": [
      "Array: [  45   25   55   88   44   66   88    7    5    4    6   58    4    1\n",
      "    2    5    7    8   55  411    2    6   54    7   55 9444    2]\n",
      "3 Largest Values: [  88  411 9444]\n"
     ]
    }
   ],
   "source": [
    "arr = np.array([45,25,55,88,44,66,88,7,5,4,6,58,4,1,2,5,7,8,55,411,2,6,54,7,55,9444,2])\n",
    "\n",
    "\n",
    "n = 3\n",
    "\n",
    "\n",
    "n_largest_values = np.partition(arr, -n)[-n:]\n",
    "\n",
    "print(\"Array:\", arr)\n",
    "print(f\"{n} Largest Values:\", n_largest_values)\n"
   ]
  },
  {
   "cell_type": "markdown",
   "id": "6e6b3af1",
   "metadata": {},
   "source": [
    "# 15.How to create a record array from a regular array"
   ]
  },
  {
   "cell_type": "code",
   "execution_count": 73,
   "id": "2a6cf4cd",
   "metadata": {},
   "outputs": [
    {
     "name": "stdout",
     "output_type": "stream",
     "text": [
      "Regular Array:\n",
      "[('govind', 35) ('pavan', 40) ('shrini', 42)]\n",
      "\n",
      "Record Array:\n",
      "(('govind', 35), ('pavan', 40), ('shrini', 42))\n"
     ]
    }
   ],
   "source": [
    "\n",
    "\n",
    "regular_array = np.array([(\"govind\", 35), (\"pavan\", 40), (\"shrini\", 42)],\n",
    "                         dtype=[('name', 'U10'), ('age', int)])\n",
    "\n",
    "\n",
    "record_array = np.rec.fromarrays(regular_array.T, names=\"name,age\")\n",
    "\n",
    "print(\"Regular Array:\")\n",
    "print(regular_array)\n",
    "\n",
    "print(\"\\nRecord Array:\")\n",
    "print(record_array)#\n"
   ]
  },
  {
   "cell_type": "markdown",
   "id": "c41c5772",
   "metadata": {},
   "source": [
    "# 16.How to swap two rows of an array"
   ]
  },
  {
   "cell_type": "code",
   "execution_count": 76,
   "id": "8393194b",
   "metadata": {},
   "outputs": [
    {
     "name": "stdout",
     "output_type": "stream",
     "text": [
      "Original Array:\n",
      "[[ 79  85  98]\n",
      " [ 48  95  86]\n",
      " [101  25  73]]\n"
     ]
    }
   ],
   "source": [
    "m = np.array([[101, 25, 73],[48, 95, 86],[79, 85, 98]])\n",
    "\n",
    "\n",
    "row1 = 0  \n",
    "row2 = 2  \n",
    "\n",
    "temp_row = m[row1].copy()  \n",
    "m[row1] = m[row2]  \n",
    "m[row2] = temp_row  \n",
    "\n",
    "print(\"Original Array:\")\n",
    "print(m)\n"
   ]
  },
  {
   "cell_type": "markdown",
   "id": "53fd756a",
   "metadata": {},
   "source": [
    "# 17. Write python code to reshape to the next dimension of numpy array"
   ]
  },
  {
   "cell_type": "code",
   "execution_count": 81,
   "id": "438d8c58",
   "metadata": {},
   "outputs": [
    {
     "name": "stdout",
     "output_type": "stream",
     "text": [
      "Original Array:\n",
      "[15 82 32 24 45 46]\n",
      "\n",
      "Reshaped Array:\n",
      "[[15 82 32]\n",
      " [24 45 46]]\n"
     ]
    }
   ],
   "source": [
    "\n",
    "original_array = np.array([15, 82, 32, 24, 45, 46])\n",
    "\n",
    "\n",
    "next_dimension_size = (2, 3)\n",
    "\n",
    "\n",
    "reshaped_array = original_array.reshape(next_dimension_size)\n",
    "\n",
    "print(\"Original Array:\")\n",
    "print(original_array)\n",
    "\n",
    "print(\"\\nReshaped Array:\")\n",
    "print(reshaped_array)\n"
   ]
  },
  {
   "cell_type": "code",
   "execution_count": null,
   "id": "5d27a5f3",
   "metadata": {},
   "outputs": [],
   "source": []
  }
 ],
 "metadata": {
  "kernelspec": {
   "display_name": "Python 3 (ipykernel)",
   "language": "python",
   "name": "python3"
  },
  "language_info": {
   "codemirror_mode": {
    "name": "ipython",
    "version": 3
   },
   "file_extension": ".py",
   "mimetype": "text/x-python",
   "name": "python",
   "nbconvert_exporter": "python",
   "pygments_lexer": "ipython3",
   "version": "3.11.4"
  }
 },
 "nbformat": 4,
 "nbformat_minor": 5
}
