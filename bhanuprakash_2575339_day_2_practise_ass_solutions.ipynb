{
 "cells": [
  {
   "cell_type": "markdown",
   "id": "77bec711",
   "metadata": {},
   "source": [
    "# 1. Write a Python Function to list even and odd numbers in a list.\n"
   ]
  },
  {
   "cell_type": "code",
   "execution_count": 21,
   "id": "40a79ddc",
   "metadata": {},
   "outputs": [],
   "source": [
    "def even(n):\n",
    "    for i in range(n):\n",
    "        if i%2==0:\n",
    "            print(i,end=' ')"
   ]
  },
  {
   "cell_type": "code",
   "execution_count": 16,
   "id": "409a1899",
   "metadata": {},
   "outputs": [
    {
     "name": "stdout",
     "output_type": "stream",
     "text": [
      "0 2 4 6 8 10 12 14 16 18 "
     ]
    }
   ],
   "source": [
    "a=even(20)\n",
    "a\n"
   ]
  },
  {
   "cell_type": "code",
   "execution_count": 25,
   "id": "c6ed1d20",
   "metadata": {},
   "outputs": [],
   "source": [
    "def odd(n):\n",
    "    for i in range(n):\n",
    "        if i % 2!=0:\n",
    "            print(i,end=' ')         "
   ]
  },
  {
   "cell_type": "code",
   "execution_count": 26,
   "id": "38c96d44",
   "metadata": {},
   "outputs": [
    {
     "name": "stdout",
     "output_type": "stream",
     "text": [
      "1 3 5 7 9 11 13 15 17 19 "
     ]
    }
   ],
   "source": [
    "b=odd(20)\n",
    "b"
   ]
  },
  {
   "cell_type": "markdown",
   "id": "13ff6dfe",
   "metadata": {},
   "source": [
    "# 8. Write a python function for finding factorial for the given number using recursive function\n"
   ]
  },
  {
   "cell_type": "code",
   "execution_count": 46,
   "id": "d6968871",
   "metadata": {},
   "outputs": [
    {
     "data": {
      "text/plain": [
       "4274883284060025564298013753389399649690343788366813724672000000000000"
      ]
     },
     "execution_count": 46,
     "metadata": {},
     "output_type": "execute_result"
    }
   ],
   "source": [
    "def fact(n):\n",
    "    if n==1:\n",
    "        return n\n",
    "    else:\n",
    "        return n* fact(n-1)\n",
    "    \n",
    "fact(53)\n"
   ]
  },
  {
   "cell_type": "markdown",
   "id": "8937b57e",
   "metadata": {},
   "source": [
    "# 9. Write a function for generating the fibanocci series using the function.\n"
   ]
  },
  {
   "cell_type": "code",
   "execution_count": 64,
   "id": "7267499c",
   "metadata": {},
   "outputs": [
    {
     "name": "stdout",
     "output_type": "stream",
     "text": [
      "0\n",
      "1\n",
      "1\n",
      "2\n",
      "3\n",
      "5\n",
      "8\n",
      "13\n",
      "21\n",
      "34\n",
      "55\n",
      "89\n",
      "144\n",
      "233\n",
      "377\n",
      "610\n",
      "987\n",
      "1597\n",
      "2584\n",
      "4181\n",
      "6765\n",
      "10946\n",
      "17711\n",
      "28657\n",
      "46368\n",
      "75025\n",
      "121393\n",
      "196418\n",
      "317811\n",
      "514229\n",
      "832040\n",
      "1346269\n",
      "2178309\n",
      "3524578\n",
      "5702887\n",
      "9227465\n",
      "14930352\n",
      "24157817\n",
      "39088169\n",
      "63245986\n",
      "102334155\n",
      "165580141\n",
      "267914296\n",
      "433494437\n",
      "701408733\n",
      "1134903170\n",
      "1836311903\n",
      "2971215073\n",
      "4807526976\n",
      "7778742049\n",
      "12586269025\n",
      "20365011074\n",
      "32951280099\n",
      "53316291173\n",
      "86267571272\n",
      "139583862445\n",
      "225851433717\n",
      "365435296162\n",
      "591286729879\n",
      "956722026041\n",
      "1548008755920\n",
      "2504730781961\n",
      "4052739537881\n",
      "6557470319842\n",
      "10610209857723\n",
      "17167680177565\n",
      "27777890035288\n",
      "44945570212853\n",
      "72723460248141\n",
      "117669030460994\n",
      "190392490709135\n",
      "308061521170129\n",
      "498454011879264\n",
      "806515533049393\n",
      "1304969544928657\n",
      "2111485077978050\n",
      "3416454622906707\n",
      "5527939700884757\n",
      "8944394323791464\n",
      "14472334024676221\n",
      "23416728348467685\n",
      "37889062373143906\n",
      "61305790721611591\n",
      "99194853094755497\n",
      "160500643816367088\n",
      "259695496911122585\n",
      "420196140727489673\n",
      "679891637638612258\n",
      "1100087778366101931\n",
      "1779979416004714189\n",
      "2880067194370816120\n",
      "4660046610375530309\n",
      "7540113804746346429\n",
      "12200160415121876738\n",
      "19740274219868223167\n",
      "31940434634990099905\n",
      "51680708854858323072\n",
      "83621143489848422977\n",
      "135301852344706746049\n",
      "218922995834555169026\n"
     ]
    }
   ],
   "source": [
    "def fib_Series(n):\n",
    "    n1 = 0\n",
    "    n2 = 1\n",
    "    if n == 1:\n",
    "        print(n1)\n",
    "    else:\n",
    "        print(n1)\n",
    "        print(n2)\n",
    "        for i in range(2,n):\n",
    "            t= n1 + n2\n",
    "            n1 = n2\n",
    "            n2 = t\n",
    "            print(t)\n",
    "fib_Series(100)            "
   ]
  },
  {
   "cell_type": "markdown",
   "id": "756a50c0",
   "metadata": {},
   "source": [
    "# 10 . python program to display the given integer in reverse order using the function without an inbuilt funtion.\n"
   ]
  },
  {
   "cell_type": "code",
   "execution_count": 178,
   "id": "7290b2f3",
   "metadata": {},
   "outputs": [
    {
     "name": "stdout",
     "output_type": "stream",
     "text": [
      "Enter an integer: 24\n",
      "Reversed integer: 42\n"
     ]
    }
   ],
   "source": [
    "def reverse_integer(n):\n",
    "    if n < 0:\n",
    "        is_negative = True\n",
    "        n = -n\n",
    "    else:\n",
    "        is_negative = False\n",
    "\n",
    "    reversed_num = 0\n",
    "    while n > 0:\n",
    "        digit = n % 10\n",
    "        reversed_num = reversed_num * 10 + digit\n",
    "        n //= 10\n",
    "\n",
    "    if is_negative:\n",
    "        reversed_num = -reversed_num\n",
    "\n",
    "    return reversed_num\n",
    "\n",
    "\n",
    "num = int(input(\"Enter an integer: \"))\n",
    "reversed_num = reverse_integer(num)\n",
    "\n",
    "print(f\"Reversed integer: {reversed_num}\")\n",
    "\n"
   ]
  },
  {
   "cell_type": "markdown",
   "id": "44c50cd6",
   "metadata": {},
   "source": [
    "# 11. Write a python function to display all integers within the range 200-300 whose sum of digits is an even number.\n"
   ]
  },
  {
   "cell_type": "code",
   "execution_count": 116,
   "id": "c092bfc1",
   "metadata": {},
   "outputs": [
    {
     "name": "stdout",
     "output_type": "stream",
     "text": [
      "200\n",
      "202\n",
      "204\n",
      "206\n",
      "208\n",
      "210\n",
      "212\n",
      "214\n",
      "216\n",
      "218\n",
      "220\n",
      "222\n",
      "224\n",
      "226\n",
      "228\n",
      "230\n",
      "232\n",
      "234\n",
      "236\n",
      "238\n",
      "240\n",
      "242\n",
      "244\n",
      "246\n",
      "248\n",
      "250\n",
      "252\n",
      "254\n",
      "256\n",
      "258\n",
      "260\n",
      "262\n",
      "264\n",
      "266\n",
      "268\n",
      "270\n",
      "272\n",
      "274\n",
      "276\n",
      "278\n",
      "280\n",
      "282\n",
      "284\n",
      "286\n",
      "288\n",
      "290\n",
      "292\n",
      "294\n",
      "296\n",
      "298\n",
      "300\n"
     ]
    }
   ],
   "source": [
    "def sum_of_digits_even():\n",
    "    for num in range(200,301):\n",
    "        if num % 2== 0:\n",
    "            print(num)\n",
    "sum_of_digits_even()            \n",
    "    \n",
    "    "
   ]
  },
  {
   "cell_type": "markdown",
   "id": "25bc4866",
   "metadata": {},
   "source": [
    "# 4.Write python program to compute the sum of all the multiples of 3 or 5 below 500."
   ]
  },
  {
   "cell_type": "code",
   "execution_count": 122,
   "id": "49aa6995",
   "metadata": {},
   "outputs": [
    {
     "name": "stdout",
     "output_type": "stream",
     "text": [
      "The sum of all multiples of 3 or 5 below 500 is: 57918\n"
     ]
    }
   ],
   "source": [
    "def sum_multiples_of_3_or_5(limit):\n",
    "    result = 0\n",
    "    for i in range(limit):\n",
    "        if i % 3 == 0 or i % 5 == 0:\n",
    "            result += i\n",
    "    return result\n",
    "result =  sum_multiples_of_3_or_5(500)\n",
    "print(\"The sum of all multiples of 3 or 5 below 500 is:\", result)"
   ]
  },
  {
   "cell_type": "markdown",
   "id": "daca1bcf",
   "metadata": {},
   "source": [
    "# 7. Write a python Function to count the numbers of vowels in a string.\n"
   ]
  },
  {
   "cell_type": "code",
   "execution_count": 136,
   "id": "85498e75",
   "metadata": {},
   "outputs": [
    {
     "name": "stdout",
     "output_type": "stream",
     "text": [
      "Number of vowels: 2\n"
     ]
    }
   ],
   "source": [
    "def count_vowels(string):\n",
    "    string = string.lower()\n",
    "    vowels = 'aeiou'\n",
    "    count  = 0\n",
    "    for char in string:\n",
    "        if char in vowels:\n",
    "            count += 1\n",
    "    return count\n",
    "input_string = \"Mphasis\"\n",
    "print(\"Number of vowels:\", count_vowels(input_string))"
   ]
  },
  {
   "cell_type": "markdown",
   "id": "f39b53c4",
   "metadata": {},
   "source": [
    "# 5. Write a python program to find first 'n' prime numbers from a list of given numbers\n"
   ]
  },
  {
   "cell_type": "code",
   "execution_count": 168,
   "id": "17192b9d",
   "metadata": {},
   "outputs": [
    {
     "name": "stdout",
     "output_type": "stream",
     "text": [
      "The first 3 prime numbers from the given list are:[]\n"
     ]
    }
   ],
   "source": [
    "def is_prime(num):\n",
    "    if num<=1:\n",
    "        return False\n",
    "    elif num == 2:\n",
    "        return True\n",
    "    elif num % 2 ==0:\n",
    "        return False\n",
    "    else:\n",
    "        for i in range(3, int(num**0.5) + 1, 2):\n",
    "            if num % i == 0:\n",
    "                return False\n",
    "            return True\n",
    "            \n",
    "def find_first_n_primes_from_list(numbers, n):\n",
    "    prime_numbers = []\n",
    "    for num in numbers:\n",
    "        if is_prime(num):\n",
    "            prime_numbers.append(num)\n",
    "        if len(prime_numbers) == n:\n",
    "            break\n",
    "    return prime_numbers\n",
    "given_numbers = [3,4,5,6,7,8,9,10]\n",
    "n= 3\n",
    "result = find_first_n_primes_from_list(given_numbers, n)\n",
    "print(f\"The first {n} prime numbers from the given list are:{result}\")\n"
   ]
  },
  {
   "cell_type": "markdown",
   "id": "807a5948",
   "metadata": {},
   "source": [
    "# 12.Write a python function to find the number of digits and sum of digits for a given integer.\n"
   ]
  },
  {
   "cell_type": "code",
   "execution_count": 187,
   "id": "e4fc9510",
   "metadata": {},
   "outputs": [
    {
     "name": "stdout",
     "output_type": "stream",
     "text": [
      "Number of digits: 19\n",
      "Sum of digits: 119\n"
     ]
    }
   ],
   "source": [
    "def count_digits_and_sum(number):\n",
    "    digit_count = 0\n",
    "    digit_sum = 0\n",
    "    number = abs(number)\n",
    "    \n",
    "\n",
    "    while number > 0:\n",
    "        \n",
    "        digit = number % 10\n",
    "        \n",
    "    \n",
    "        digit_count += 1\n",
    "        \n",
    "    \n",
    "        digit_sum += digit\n",
    "        \n",
    "        \n",
    "        number //= 10\n",
    "    \n",
    "    \n",
    "    return digit_count, digit_sum\n",
    "\n",
    "\n",
    "number = 2589758684269845698\n",
    "count, sum_of_digits = count_digits_and_sum(number)\n",
    "print(f\"Number of digits: {count}\")\n",
    "print(f\"Sum of digits: {sum_of_digits}\")\n"
   ]
  },
  {
   "cell_type": "markdown",
   "id": "b8e74895",
   "metadata": {},
   "source": [
    "# 2.To write a Python program to compute matrix mutliplication."
   ]
  },
  {
   "cell_type": "code",
   "execution_count": 177,
   "id": "bd192f50",
   "metadata": {},
   "outputs": [
    {
     "name": "stdout",
     "output_type": "stream",
     "text": [
      "[246, 1166]\n",
      "[301, 482]\n"
     ]
    }
   ],
   "source": [
    "def matrix_multiply(A, B):\n",
    "    if len(A[0]) != len(B):\n",
    "        raise ValueError(\"Number of columns in A must be equal to the number of rows in B\")\n",
    "\n",
    "    result = [[0 for _ in range(len(B[0]))] for _ in range(len(A))]\n",
    "\n",
    "    for i in range(len(A)):\n",
    "        for j in range(len(B[0])):\n",
    "            for k in range(len(B)):\n",
    "                result[i][j] += A[i][k] * B[k][j]\n",
    "\n",
    "    return result\n",
    "\n",
    "\n",
    "matrix_A = [[24, 5, 3], [4, 23, 6]]\n",
    "matrix_B = [[7, 45], [9, 10], [11, 12]]\n",
    "\n",
    "result = matrix_multiply(matrix_A, matrix_B)\n",
    "\n",
    "for row in result:\n",
    "    print(row)\n"
   ]
  },
  {
   "cell_type": "markdown",
   "id": "371b191c",
   "metadata": {},
   "source": [
    "# 2.Write and run a Python program that asks the user to enter 8 integers (one at a time), and then prints out how many of those integer es were even numbers. For example, if the user entered 19, 6, 9, 20, 13, 7, 6, and 1, then your program should print out 3 since 3 of those numbers were even\n"
   ]
  },
  {
   "cell_type": "code",
   "execution_count": 185,
   "id": "62a784e9",
   "metadata": {},
   "outputs": [
    {
     "name": "stdout",
     "output_type": "stream",
     "text": [
      "Enter integer 1: 5\n",
      "Enter integer 2: 2\n",
      "Enter integer 3: 5\n",
      "Enter integer 4: 8\n",
      "Enter integer 5: 9\n",
      "Enter integer 6: 7\n",
      "Enter integer 7: 5\n",
      "Enter integer 8: 6\n",
      "Number of even integers entered: 3\n"
     ]
    }
   ],
   "source": [
    "def count_even_numbers():\n",
    "    even_count = 0\n",
    "    for i in range(8):\n",
    "        num = int(input(f\"Enter integer {i + 1}: \"))\n",
    "        if num % 2 == 0:\n",
    "            even_count += 1\n",
    "\n",
    "    return even_count\n",
    "\n",
    "even_count = count_even_numbers()\n",
    "print(f\"Number of even integers entered: {even_count}\")\n"
   ]
  },
  {
   "cell_type": "markdown",
   "id": "6ded7772",
   "metadata": {},
   "source": [
    "# 3. Write a Python program where you take any positive integer n, if n is even, divide it by 2 to get n/ 2. If n is odd, multiply it by 3 and add 1 to obtain 3n + 1. Repeat the process until you reach 1.\n"
   ]
  },
  {
   "cell_type": "code",
   "execution_count": 181,
   "id": "6fe815f1",
   "metadata": {},
   "outputs": [
    {
     "name": "stdout",
     "output_type": "stream",
     "text": [
      "Enter a positive integer: 3\n",
      "10\n",
      "5\n",
      "16\n",
      "8\n",
      "4\n",
      "2\n",
      "1\n",
      "Number of steps to reach 1: 7\n"
     ]
    }
   ],
   "source": [
    "def collatz_sequence(n):\n",
    "    if n <= 0:\n",
    "        print(\"Please enter a positive integer.\")\n",
    "        return\n",
    "\n",
    "    steps = 0\n",
    "    while n != 1:\n",
    "        if n % 2 == 0:\n",
    "            n = n // 2\n",
    "        else:\n",
    "            n = 3 * n + 1\n",
    "        steps += 1\n",
    "        print(n)  \n",
    "\n",
    "    print(f\"Number of steps to reach 1: {steps}\")\n",
    "\n",
    "\n",
    "num = int(input(\"Enter a positive integer: \"))\n",
    "collatz_sequence(num)\n"
   ]
  },
  {
   "cell_type": "markdown",
   "id": "e7198ec2",
   "metadata": {},
   "source": [
    "# 13.Write functions called is_sorted that takes a list as a parameter and returns True if the list is sorted in ascending order and False otherwise and has_ duplicates that takes a list and returns True if there is any element that appears more than once. It should not modify the original list.\n"
   ]
  },
  {
   "cell_type": "code",
   "execution_count": null,
   "id": "4bc44850",
   "metadata": {},
   "outputs": [],
   "source": [
    "def is_sorted(arr):\n",
    "    for i in range(1, len(arr)):\n",
    "        if arr[i] < arr[i - 1]:\n",
    "            return False\n",
    "    return True\n",
    "\n",
    "def has_duplicates(arr):\n",
    "    seen = set()\n",
    "    for item in arr:\n",
    "        if item in seen:\n",
    "            return True\n",
    "        seen.add(item)\n",
    "    return False\n",
    "\n",
    "\n",
    "my_list = [1, 2, 3, 4, 5]\n",
    "print(is_sorted(my_list)) \n",
    "\n",
    "my_list_with_duplicates = [1, 2, 3, 4, 4, 5]\n",
    "print(has_duplicates(my_list_with_duplicates)) \n"
   ]
  },
  {
   "cell_type": "markdown",
   "id": "e2bab50e",
   "metadata": {},
   "source": [
    "# 14.Write functions called nested_sum that takes a list of integers and adds up the elements from all the nested lists and cumsum that takes a list of numbers and returns the cumulative sum; that is, a new list where the ith element is the sum of the first i + 1 elements from the original list."
   ]
  },
  {
   "cell_type": "code",
   "execution_count": 191,
   "id": "86595406",
   "metadata": {},
   "outputs": [
    {
     "name": "stdout",
     "output_type": "stream",
     "text": [
      "Sum of all elements in nested list: 92\n",
      "Cumulative sum of the list: [5, 12, 15, 19, 28]\n"
     ]
    }
   ],
   "source": [
    "def nested_sum(lst):\n",
    "    total = 0\n",
    "    for sublist in lst:\n",
    "        if isinstance(sublist, list):\n",
    "            total += nested_sum(sublist)\n",
    "        else:\n",
    "            total += sublist\n",
    "    return total\n",
    "\n",
    "def cumsum(numbers):\n",
    "    cumulative_sum = []\n",
    "    current_sum = 0\n",
    "    for num in numbers:\n",
    "        current_sum += num\n",
    "        cumulative_sum.append(current_sum)\n",
    "    return cumulative_sum\n",
    "\n",
    "nested_list = [4, 49, [3, 4, [5, 2]], 25]\n",
    "result_nested_sum = nested_sum(nested_list)\n",
    "print(f\"Sum of all elements in nested list: {result_nested_sum}\")\n",
    "\n",
    "numbers = [5, 7, 3, 4, 9]\n",
    "result_cumsum = cumsum(numbers)\n",
    "print(f\"Cumulative sum of the list: {result_cumsum}\")\n",
    "\n"
   ]
  },
  {
   "cell_type": "markdown",
   "id": "fa0686be",
   "metadata": {},
   "source": []
  },
  {
   "cell_type": "code",
   "execution_count": null,
   "id": "812347a2",
   "metadata": {},
   "outputs": [],
   "source": []
  }
 ],
 "metadata": {
  "kernelspec": {
   "display_name": "Python 3 (ipykernel)",
   "language": "python",
   "name": "python3"
  },
  "language_info": {
   "codemirror_mode": {
    "name": "ipython",
    "version": 3
   },
   "file_extension": ".py",
   "mimetype": "text/x-python",
   "name": "python",
   "nbconvert_exporter": "python",
   "pygments_lexer": "ipython3",
   "version": "3.11.4"
  }
 },
 "nbformat": 4,
 "nbformat_minor": 5
}
