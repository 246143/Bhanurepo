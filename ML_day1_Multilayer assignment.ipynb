{
 "cells": [
  {
   "cell_type": "code",
   "execution_count": 1,
   "id": "37291c27",
   "metadata": {},
   "outputs": [],
   "source": [
    "import numpy as np\n",
    "\n",
    "# Define the sigmoid activation function and its derivative\n",
    "def sigmoid(x):\n",
    "    return 1 / (1 + np.exp(-x))\n",
    "\n",
    "def sigmoid_derivative(x):\n",
    "    return x * (1 - x)\n",
    "\n",
    "# Define the MLP class\n",
    "class MLP:\n",
    "    def __init__(self, input_size, hidden_size, output_size):\n",
    "        # Initialize the weights with random values\n",
    "        self.input_size = input_size\n",
    "        self.hidden_size = hidden_size\n",
    "        self.output_size = output_size\n",
    "        self.weights_input_hidden = np.random.rand(input_size, hidden_size)\n",
    "        self.weights_hidden_output = np.random.rand(hidden_size, output_size)\n",
    "    \n",
    "    def forward(self, inputs):\n",
    "        # Forward propagation\n",
    "        self.hidden_layer_input = np.dot(inputs, self.weights_input_hidden)\n",
    "        self.hidden_layer_output = sigmoid(self.hidden_layer_input)\n",
    "        self.output_layer_input = np.dot(self.hidden_layer_output, self.weights_hidden_output)\n",
    "        self.output_layer_output = sigmoid(self.output_layer_input)\n",
    "        return self.output_layer_output\n",
    "\n",
    "    def backward(self, inputs, targets, learning_rate):\n",
    "        # Backpropagation\n",
    "        output_error = targets - self.output_layer_output\n",
    "        output_delta = output_error * sigmoid_derivative(self.output_layer_output)\n",
    "        \n",
    "        hidden_layer_error = output_delta.dot(self.weights_hidden_output.T)\n",
    "        hidden_layer_delta = hidden_layer_error * sigmoid_derivative(self.hidden_layer_output)\n",
    "        \n",
    "        # Update weights\n",
    "        self.weights_hidden_output += np.outer(self.hidden_layer_output, output_delta) * learning_rate\n",
    "        self.weights_input_hidden += np.outer(inputs, hidden_layer_delta) * learning_rate\n",
    "\n",
    "    def train(self, X, y, epochs, learning_rate):\n",
    "        for _ in range(epochs):\n",
    "            for i in range(len(X)):\n",
    "                inputs = X[i]\n",
    "                target = y[i]\n",
    "                output = self.forward(inputs)\n",
    "                self.backward(inputs, target, learning_rate)"
   ]
  },
  {
   "cell_type": "code",
   "execution_count": 2,
   "id": "3e764679",
   "metadata": {},
   "outputs": [
    {
     "name": "stdout",
     "output_type": "stream",
     "text": [
      "Input: [0 0], Predicted Output: [0.09825449]\n",
      "Input: [0 1], Predicted Output: [0.92532428]\n",
      "Input: [1 0], Predicted Output: [0.92236368]\n",
      "Input: [1 1], Predicted Output: [0.06076614]\n"
     ]
    }
   ],
   "source": [
    "# Example usage\n",
    "if __name__ == \"__main__\":\n",
    "    # Create a dataset (XOR problem)\n",
    "    X = np.array([[0, 0], [0, 1], [1, 0], [1, 1]])\n",
    "    y = np.array([[0], [1], [1], [0]])\n",
    "\n",
    "    # Create an MLP\n",
    "    mlp = MLP(2, 4, 1)\n",
    "\n",
    "    # Train the MLP\n",
    "    mlp.train(X, y, epochs=10000, learning_rate=0.1)\n",
    "\n",
    "    # Test the trained model\n",
    "    for i in range(len(X)):\n",
    "        inputs = X[i]\n",
    "        prediction = mlp.forward(inputs)\n",
    "        print(f\"Input: {inputs}, Predicted Output: {prediction}\")"
   ]
  },
  {
   "cell_type": "code",
   "execution_count": null,
   "id": "cf29b87d",
   "metadata": {},
   "outputs": [],
   "source": []
  }
 ],
 "metadata": {
  "kernelspec": {
   "display_name": "Python 3 (ipykernel)",
   "language": "python",
   "name": "python3"
  },
  "language_info": {
   "codemirror_mode": {
    "name": "ipython",
    "version": 3
   },
   "file_extension": ".py",
   "mimetype": "text/x-python",
   "name": "python",
   "nbconvert_exporter": "python",
   "pygments_lexer": "ipython3",
   "version": "3.11.5"
  }
 },
 "nbformat": 4,
 "nbformat_minor": 5
}
