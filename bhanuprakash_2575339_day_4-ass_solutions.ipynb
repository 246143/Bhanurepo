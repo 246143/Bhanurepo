{
 "cells": [
  {
   "cell_type": "markdown",
   "id": "74e27c77",
   "metadata": {},
   "source": [
    "# 1. Write a python program with Exception handling to input marks for five subjects Physics, Chemistry, Biology, Mathematics, and Computer. Calculate the percentage and grade according to the following:\n",
    "\n",
    "\n",
    "り Percentage>=90% : Grade A\n",
    "\n",
    "\n",
    "ii)Percentage>=80% : Grade B\n",
    "\n",
    "iii)Percentage>=70%: Grade C\n",
    "\n",
    "iv) Percentage >= 60%: Grade D\n",
    "\n",
    "v) Percentage >= 40%: Grade E\n",
    "\n",
    "vi) Percentage <40%: Grade F"
   ]
  },
  {
   "cell_type": "code",
   "execution_count": 27,
   "id": "d43078b1",
   "metadata": {},
   "outputs": [
    {
     "name": "stdout",
     "output_type": "stream",
     "text": [
      "Enter marks in Physics: 90\n",
      "Enter marks in Chemistry: 58\n",
      "Enter marks in Biology: 90\n",
      "Enter marks in Mathematics: 90\n",
      "Enter marks in Computer: 90\n",
      "Total Marks: 418.0\n",
      "Percentage: 83.60%\n",
      "Grade: B\n"
     ]
    }
   ],
   "source": [
    "try:\n",
    "    \n",
    "    physics = float(input(\"Enter marks in Physics: \"))\n",
    "    chemistry = float(input(\"Enter marks in Chemistry: \"))\n",
    "    biology = float(input(\"Enter marks in Biology: \"))\n",
    "    mathematics = float(input(\"Enter marks in Mathematics: \"))\n",
    "    computer = float(input(\"Enter marks in Computer: \"))\n",
    "\n",
    "    \n",
    "    total_marks = physics + chemistry + biology + mathematics + computer\n",
    "    percentage = (total_marks / 500) * 100\n",
    "    \n",
    "    if percentage > 90:\n",
    "        grade = 'A'\n",
    "    elif percentage > 80:\n",
    "        grade = 'B'\n",
    "    elif percentage > 70:\n",
    "        grade = 'C'\n",
    "    elif percentage > 60:\n",
    "        grade = 'D'\n",
    "    elif percentage > 40:\n",
    "        grade = 'E'\n",
    "    else :\n",
    "        percentage <40\n",
    "        grade = 'F'\n",
    "\n",
    "    print(f\"Total Marks: {total_marks}\")\n",
    "    print(f\"Percentage: {percentage:.2f}%\")\n",
    "    print(f\"Grade: {grade}\")\n",
    "\n",
    "except ValueError:\n",
    "    print(\"Invalid input. Please enter valid marks.\")\n",
    "except Exception as e:\n",
    "    print(f\"An error occurred: {e}\")\n"
   ]
  },
  {
   "cell_type": "code",
   "execution_count": null,
   "id": "0a1bb126",
   "metadata": {},
   "outputs": [],
   "source": [
    "# 2.Write a python program with Exception handling to input electricity unit charges and calculatethe total electricity bill according to the given condition:\n",
    "    \n",
    " #i)For the first 50 units Rs. 0.50/unit\n",
    "\n",
    "#ii)or the next 100 units Rs. 0.75/unit\n",
    "\n",
    "#iii)For the next 100 units Rs. 1.20/unit\n",
    "\n",
    "# iv) For units above 250 Rs. 1.50/unit\n",
    "\n",
    "# v)An additional surcharge of 20% is added to the bill.\n",
    "\n",
    "\n",
    "\n",
    "\n",
    "\n",
    "\n",
    "\n",
    "\n",
    "try:\n",
    "    \n",
    "    units = float(input(\"Enter electricity unit charges: \"))\n",
    "\n",
    "    if units <= 50:\n",
    "        bill = units * 0.50\n",
    "    elif units <= 150:\n",
    "        bill = (50 * 0.50) + ((units - 50) * 0.75)\n",
    "    elif units <= 250:\n",
    "        bill = (50 * 0.50) + (100 * 0.75) + ((units - 150) * 1.20)\n",
    "    else:\n",
    "        bill = (50 * 0.50) + (100 * 0.75) + (100 * 1.20) + ((units - 250) * 1.50)\n",
    "\n",
    "    surcharge = 0.20 * bill\n",
    "\n",
    "\n",
    "    total_bill = bill + surcharge\n",
    "\n",
    "    \n",
    "    print(f\"Total Electricity Bill: Rs. {total_bill:.2f}\")\n",
    "\n",
    "except ValueError:\n",
    "    print(\"Invalid input. Please enter a valid  value for unit charges.\")\n",
    "except Exception as e:\n",
    "    print(f\"An error occurred: {e}\")\n"
   ]
  },
  {
   "cell_type": "markdown",
   "id": "b1c818c7",
   "metadata": {},
   "source": [
    " # 3.  Write a Python Program with Exception handling to input the number and print the weekday.\n",
    "    \n",
    "    "
   ]
  },
  {
   "cell_type": "code",
   "execution_count": 48,
   "id": "3520ea13",
   "metadata": {},
   "outputs": [
    {
     "name": "stdout",
     "output_type": "stream",
     "text": [
      "Enter a number (1-7) to represent a weekday: 1\n",
      "The weekday is: Sunday\n"
     ]
    }
   ],
   "source": [
    "try:\n",
    "    day_number = int(input(\"Enter a number (1-7) to represent a weekday: \"))\n",
    "\n",
    "\n",
    "    if 1 <= day_number <= 7:\n",
    "        \n",
    "        weekdays = [\"Sunday\", \"Monday\", \"Tuesday\", \"Wednesday\", \"Thursday\", \"Friday\", \"Saturday\"]\n",
    "\n",
    "    \n",
    "        selected_weekday = weekdays[day_number - 1]\n",
    "\n",
    "        \n",
    "        print(f\"The weekday is: {selected_weekday}\")\n",
    "    else:\n",
    "        print(\"Invalid input. Please enter a number between 1 and 7.\")\n",
    "except ValueError:\n",
    "    print(\"Invalid input. Please enter a valid numeric value.\")\n",
    "except Exception as e:\n",
    "    print(f\"An error occurred: {e}\")\n"
   ]
  },
  {
   "cell_type": "markdown",
   "id": "d820e932",
   "metadata": {},
   "source": [
    "# 4.Write a Python program to implement word count using command line arguments.\n",
    "\n",
    "\n",
    "\n",
    "1) Create a text document \"apple.txt\" whch contains text for wordcount.\n",
    "\n",
    "ii)Create a wordcount program which calls the \"apple.txt\" document by opening the file.\n",
    "\n",
    "\n",
    "iii) If the word is present again in the \"aaple.txt\",the wordcount is incremented by 1 until all the words are counted in the document.\n",
    "\n",
    "iv) Close the file.\n",
    "\n",
    "v)Create a command.py program which imports the wordcount.py program.\n",
    "\n",
    "vi)Count the number of words using command line arguments.\n",
    "\n",
    "vii) Print cach word and its count."
   ]
  },
  {
   "cell_type": "code",
   "execution_count": 53,
   "id": "2490fa43",
   "metadata": {},
   "outputs": [
    {
     "name": "stdout",
     "output_type": "stream",
     "text": [
      "Usage: python wordcount.py <filename>\n"
     ]
    },
    {
     "ename": "SystemExit",
     "evalue": "1",
     "output_type": "error",
     "traceback": [
      "An exception has occurred, use %tb to see the full traceback.\n",
      "\u001b[1;31mSystemExit\u001b[0m\u001b[1;31m:\u001b[0m 1\n"
     ]
    }
   ],
   "source": [
    "import sys\n",
    "\n",
    "def count_words(filename):\n",
    "    try:\n",
    "        with open(filename, 'r') as file:\n",
    "            text = file.read()\n",
    "            words = text.split()\n",
    "            word_count = {}\n",
    "            \n",
    "            for word in words:\n",
    "                # Remove punctuation and convert to lowercase for accurate word count\n",
    "                cleaned_word = word.strip('.,!?\").').lower()\n",
    "                \n",
    "                if cleaned_word:\n",
    "                    if cleaned_word in word_count:\n",
    "                        word_count[cleaned_word] += 1\n",
    "                    else:\n",
    "                        word_count[cleaned_word] = 1\n",
    "            \n",
    "            return word_count\n",
    "    except FileNotFoundError:\n",
    "        print(f\"Error: The file '{filename}' was not found.\")\n",
    "        sys.exit(1)\n",
    "\n",
    "if __name__ == \"__main__\":\n",
    "    if len(sys.argv) != 2:\n",
    "        print(\"Usage: python wordcount.py <filename>\")\n",
    "        sys.exit(1)\n",
    "    \n",
    "    filename = sys.argv[1]\n",
    "    word_count = count_words(filename)\n",
    "    \n",
    "    for word, count in word_count.items():\n",
    "        print(f\"{word}: {count}\")\n"
   ]
  },
  {
   "cell_type": "code",
   "execution_count": null,
   "id": "f8bb3769",
   "metadata": {},
   "outputs": [],
   "source": [
    "# 5.Write a Python program for finding the most frequent words in a text read from a file.\n",
    "\n",
    "i) Initially open the text file in read mode.\n",
    "\n",
    "ii) Make all the letters in the document into lowercase letters and split the words in each\n",
    "\n",
    "line.\n",
    "\n",
    "iii) Get the words in an order.\n",
    "\n",
    "iv) Sort the words for finding the most frequent words in the file."
   ]
  },
  {
   "cell_type": "code",
   "execution_count": 12,
   "id": "51aee7a8",
   "metadata": {},
   "outputs": [
    {
     "name": "stdout",
     "output_type": "stream",
     "text": [
      "Most frequent words in the file:\n",
      "hello: 1\n",
      "world: 1\n",
      "mphasis: 1\n"
     ]
    }
   ],
   "source": [
    "from collections import Counter\n",
    "\n",
    "def most_frequent_words(file_path):\n",
    "    try:\n",
    "        \n",
    "        with open(file_path, 'r') as file:\n",
    "            \n",
    "            text = file.read().lower()\n",
    "\n",
    "            \n",
    "            words = text.split()\n",
    "\n",
    "            \n",
    "            word_counts = Counter(words)\n",
    "\n",
    "    \n",
    "            sorted_words = sorted(word_counts.items(), key=lambda x: x[1], reverse=True)\n",
    "\n",
    "            return sorted_words\n",
    "\n",
    "    except FileNotFoundError:\n",
    "        print(\"Error: File not found.\")\n",
    "    except Exception as e:\n",
    "        print(f\"Error: {e}\")\n",
    "\n",
    "if __name__ == \"__main__\":\n",
    "    file_path = \"sample.txt\"  \n",
    "    result = most_frequent_words(file_path)\n",
    "\n",
    "    if result:\n",
    "        print(\"Most frequent words in the file:\")\n",
    "        for word, count in result:\n",
    "            print(f\"{word}: {count}\")\n"
   ]
  },
  {
   "cell_type": "code",
   "execution_count": null,
   "id": "9e47793b",
   "metadata": {},
   "outputs": [],
   "source": [
    "# 6.File Processing with Command-Line Arguments- Scenario: You are developing a command-line utility that processes text files. Users can specify input and output file paths as command-line arguments. Your program should handle exceptions gracefully.\n",
    "\n",
    "\n",
    "\n",
    "i)Design a Python program that takes two command-line arguments; the input file path and the output file path. Ensure that the program checks if both arguments are provided and that the input file exists.\n",
    "\n",
    "ii)Implement error handling to deal with scenarios such as missing input files. invalid file paths, or permission issues when writing to the output file.\n",
    "\n",
    "iii)If an error occurs during file processing, display a user-friendly error message. and exit the program with a non-zero exit code.\n",
    "\n",
    "iv). Write test cases that cover various scenarios, including providing valid and invalid file paths as command-line arguments\n"
   ]
  },
  {
   "cell_type": "code",
   "execution_count": 2,
   "id": "d96f63e0",
   "metadata": {},
   "outputs": [
    {
     "ename": "NameError",
     "evalue": "name 'input_file_path' is not defined",
     "output_type": "error",
     "traceback": [
      "\u001b[1;31m---------------------------------------------------------------------------\u001b[0m",
      "\u001b[1;31mNameError\u001b[0m                                 Traceback (most recent call last)",
      "Cell \u001b[1;32mIn[2], line 33\u001b[0m\n\u001b[0;32m     30\u001b[0m     input_file_path \u001b[38;5;241m=\u001b[39m sys\u001b[38;5;241m.\u001b[39margv[\u001b[38;5;241m1\u001b[39m]\n\u001b[0;32m     31\u001b[0m     output_file_path \u001b[38;5;241m=\u001b[39m sys\u001b[38;5;241m.\u001b[39margv[\u001b[38;5;241m2\u001b[39m]\n\u001b[1;32m---> 33\u001b[0m process_text_file(input_file_path, output_file_path)\n",
      "\u001b[1;31mNameError\u001b[0m: name 'input_file_path' is not defined"
     ]
    }
   ],
   "source": [
    "import sys\n",
    "\n",
    "def process_text_file(input_file_path, output_file_path):\n",
    "    try:\n",
    "        \n",
    "        if not input_file_path or not output_file_path:\n",
    "            raise ValueError(\"Both input and output file paths are required.\")\n",
    "        \n",
    "        \n",
    "        try:\n",
    "            with open(input_file_path, 'r') as input_file:\n",
    "                data = input_file.read()\n",
    "        except FileNotFoundError:\n",
    "            raise FileNotFoundError(f\"Input file '{input_file_path}' not found.\")\n",
    "        \n",
    "        \n",
    "        with open(output_file_path, 'w') as output_file:\n",
    "            output_file.write(data)\n",
    "        \n",
    "        print(f\"File processing complete. Output written to '{output_file_path}'\")\n",
    "    except Exception as e:\n",
    "        print(f\"Error: {str(e)}\")\n",
    "        sys.exit(1)\n",
    "\n",
    "\n",
    "    if len(sys.argv) != 3:\n",
    "        print(\"Usage: python program.py <input_file_path> <output_file_path>\")\n",
    "        sys.exit(1)\n",
    "    \n",
    "    input_file_path = sys.argv[1]\n",
    "    output_file_path = sys.argv[2]\n",
    "    \n",
    "process_text_file(input_file_path, output_file_path)"
   ]
  },
  {
   "cell_type": "code",
   "execution_count": null,
   "id": "4ea0fb25",
   "metadata": {},
   "outputs": [],
   "source": []
  }
 ],
 "metadata": {
  "kernelspec": {
   "display_name": "Python 3 (ipykernel)",
   "language": "python",
   "name": "python3"
  },
  "language_info": {
   "codemirror_mode": {
    "name": "ipython",
    "version": 3
   },
   "file_extension": ".py",
   "mimetype": "text/x-python",
   "name": "python",
   "nbconvert_exporter": "python",
   "pygments_lexer": "ipython3",
   "version": "3.11.4"
  }
 },
 "nbformat": 4,
 "nbformat_minor": 5
}
