{
 "cells": [
  {
   "cell_type": "code",
   "execution_count": 11,
   "id": "a4def123",
   "metadata": {},
   "outputs": [
    {
     "name": "stdout",
     "output_type": "stream",
     "text": [
      "<mysql.connector.connection_cext.CMySQLConnection object at 0x0000018A0BC2F090>\n"
     ]
    }
   ],
   "source": [
    "import mysql.connector\n",
    "\n",
    "conn= mysql.connector.connect(user='root',\n",
    "                             password='Mysql@123',\n",
    "                             host='127.0.0.1',\n",
    "                             database='mla'\n",
    "                             )\n",
    "print(conn)\n"
   ]
  },
  {
   "cell_type": "code",
   "execution_count": null,
   "id": "34c248cd",
   "metadata": {},
   "outputs": [],
   "source": [
    "curs = conn.cursor()"
   ]
  },
  {
   "cell_type": "code",
   "execution_count": 2,
   "id": "01bd4091",
   "metadata": {},
   "outputs": [
    {
     "ename": "NameError",
     "evalue": "name 'curs' is not defined",
     "output_type": "error",
     "traceback": [
      "\u001b[1;31m---------------------------------------------------------------------------\u001b[0m",
      "\u001b[1;31mNameError\u001b[0m                                 Traceback (most recent call last)",
      "Cell \u001b[1;32mIn[2], line 1\u001b[0m\n\u001b[1;32m----> 1\u001b[0m curs\n",
      "\u001b[1;31mNameError\u001b[0m: name 'curs' is not defined"
     ]
    }
   ],
   "source": [
    "curs\n",
    "\n"
   ]
  },
  {
   "cell_type": "code",
   "execution_count": 5,
   "id": "39accd05",
   "metadata": {
    "scrolled": true
   },
   "outputs": [
    {
     "ename": "NameError",
     "evalue": "name 'curs' is not defined",
     "output_type": "error",
     "traceback": [
      "\u001b[1;31m---------------------------------------------------------------------------\u001b[0m",
      "\u001b[1;31mNameError\u001b[0m                                 Traceback (most recent call last)",
      "Cell \u001b[1;32mIn[5], line 1\u001b[0m\n\u001b[1;32m----> 1\u001b[0m curs\n",
      "\u001b[1;31mNameError\u001b[0m: name 'curs' is not defined"
     ]
    }
   ],
   "source": []
  },
  {
   "cell_type": "markdown",
   "id": "053653f3",
   "metadata": {},
   "source": []
  },
  {
   "cell_type": "code",
   "execution_count": null,
   "id": "3711eb87",
   "metadata": {},
   "outputs": [],
   "source": []
  },
  {
   "cell_type": "code",
   "execution_count": 3,
   "id": "1042f714",
   "metadata": {},
   "outputs": [
    {
     "name": "stdout",
     "output_type": "stream",
     "text": [
      "<mysql.connector.connection_cext.CMySQLConnection object at 0x0000018A0B5F7750>\n"
     ]
    }
   ],
   "source": [
    "import mysql.connector\n",
    "\n",
    "conn= mysql.connector.connect(user='root',\n",
    "                             password='Mysql@123',\n",
    "                             host='127.0.0.1',\n",
    "                             database='mla'\n",
    "                             )\n",
    "print(conn)\n"
   ]
  },
  {
   "cell_type": "code",
   "execution_count": 4,
   "id": "e83fca6b",
   "metadata": {},
   "outputs": [],
   "source": [
    "curs = conn.cursor()\n"
   ]
  },
  {
   "cell_type": "code",
   "execution_count": 9,
   "id": "462d4e73",
   "metadata": {},
   "outputs": [
    {
     "data": {
      "text/plain": [
       "<mysql.connector.cursor_cext.CMySQLCursor at 0x18a0b5f5e90>"
      ]
     },
     "execution_count": 9,
     "metadata": {},
     "output_type": "execute_result"
    }
   ],
   "source": [
    "curs\n"
   ]
  },
  {
   "cell_type": "code",
   "execution_count": 10,
   "id": "e50a27ec",
   "metadata": {},
   "outputs": [
    {
     "ename": "SyntaxError",
     "evalue": "unterminated string literal (detected at line 9) (44068381.py, line 9)",
     "output_type": "error",
     "traceback": [
      "\u001b[1;36m  Cell \u001b[1;32mIn[10], line 9\u001b[1;36m\u001b[0m\n\u001b[1;33m    3. Implement a feature to update an employee's salary\u001b[0m\n\u001b[1;37m                                                ^\u001b[0m\n\u001b[1;31mSyntaxError\u001b[0m\u001b[1;31m:\u001b[0m unterminated string literal (detected at line 9)\n"
     ]
    }
   ],
   "source": [
    "# 4.You are developing an employee management system for a company. The database should store employee information, including name, salary, department, and hire date. Managers should be able to view and update employee details.\n",
    "\n",
    "1. Design the database schema for the employee management system.\n",
    "\n",
    "2. Write Python code to connect to the database and retrieve a list of employees in a\n",
    "\n",
    "specific department.\n",
    "\n",
    "3. Implement a feature to update an employee's salary"
   ]
  },
  {
   "cell_type": "code",
   "execution_count": 12,
   "id": "9b1955ad",
   "metadata": {},
   "outputs": [
    {
     "ename": "ProgrammingError",
     "evalue": "2055: Cursor is not connected",
     "output_type": "error",
     "traceback": [
      "\u001b[1;31m---------------------------------------------------------------------------\u001b[0m",
      "\u001b[1;31mReferenceError\u001b[0m                            Traceback (most recent call last)",
      "File \u001b[1;32m~\\anaconda3\\Lib\\site-packages\\mysql\\connector\\cursor_cext.py:299\u001b[0m, in \u001b[0;36mCMySQLCursor.execute\u001b[1;34m(self, operation, params, multi)\u001b[0m\n\u001b[0;32m    298\u001b[0m \u001b[38;5;28;01mtry\u001b[39;00m:\n\u001b[1;32m--> 299\u001b[0m     \u001b[38;5;28;01mif\u001b[39;00m \u001b[38;5;129;01mnot\u001b[39;00m \u001b[38;5;28mself\u001b[39m\u001b[38;5;241m.\u001b[39m_cnx \u001b[38;5;129;01mor\u001b[39;00m \u001b[38;5;28mself\u001b[39m\u001b[38;5;241m.\u001b[39m_cnx\u001b[38;5;241m.\u001b[39mis_closed():\n\u001b[0;32m    300\u001b[0m         \u001b[38;5;28;01mraise\u001b[39;00m ProgrammingError\n",
      "\u001b[1;31mReferenceError\u001b[0m: weakly-referenced object no longer exists",
      "\nThe above exception was the direct cause of the following exception:\n",
      "\u001b[1;31mProgrammingError\u001b[0m                          Traceback (most recent call last)",
      "Cell \u001b[1;32mIn[12], line 10\u001b[0m\n\u001b[0;32m      1\u001b[0m employees_table \u001b[38;5;241m=\u001b[39m \u001b[38;5;124m'''\u001b[39m\n\u001b[0;32m      2\u001b[0m \n\u001b[0;32m      3\u001b[0m \u001b[38;5;124mcreate table employees(\u001b[39m\n\u001b[1;32m   (...)\u001b[0m\n\u001b[0;32m      8\u001b[0m \u001b[38;5;124m    hire_date DATE NOT NULL)\u001b[39m\n\u001b[0;32m      9\u001b[0m \u001b[38;5;124m'''\u001b[39m\n\u001b[1;32m---> 10\u001b[0m curs\u001b[38;5;241m.\u001b[39mexecute(employees_table)\n",
      "File \u001b[1;32m~\\anaconda3\\Lib\\site-packages\\mysql\\connector\\cursor_cext.py:302\u001b[0m, in \u001b[0;36mCMySQLCursor.execute\u001b[1;34m(self, operation, params, multi)\u001b[0m\n\u001b[0;32m    300\u001b[0m         \u001b[38;5;28;01mraise\u001b[39;00m ProgrammingError\n\u001b[0;32m    301\u001b[0m \u001b[38;5;28;01mexcept\u001b[39;00m (ProgrammingError, \u001b[38;5;167;01mReferenceError\u001b[39;00m) \u001b[38;5;28;01mas\u001b[39;00m err:\n\u001b[1;32m--> 302\u001b[0m     \u001b[38;5;28;01mraise\u001b[39;00m ProgrammingError(\u001b[38;5;124m\"\u001b[39m\u001b[38;5;124mCursor is not connected\u001b[39m\u001b[38;5;124m\"\u001b[39m, \u001b[38;5;241m2055\u001b[39m) \u001b[38;5;28;01mfrom\u001b[39;00m \u001b[38;5;21;01merr\u001b[39;00m\n\u001b[0;32m    303\u001b[0m \u001b[38;5;28mself\u001b[39m\u001b[38;5;241m.\u001b[39m_cnx\u001b[38;5;241m.\u001b[39mhandle_unread_result()\n\u001b[0;32m    305\u001b[0m stmt \u001b[38;5;241m=\u001b[39m \u001b[38;5;124m\"\u001b[39m\u001b[38;5;124m\"\u001b[39m\n",
      "\u001b[1;31mProgrammingError\u001b[0m: 2055: Cursor is not connected"
     ]
    }
   ],
   "source": [
    "employees_table = '''\n",
    "\n",
    "create table employees(\n",
    "    employee_id INTEGER PRIMARY KEY,\n",
    "    name TEXT NOT NULL,\n",
    "    salary REAL NOT NULL,\n",
    "    department TEXT NOT NULL,\n",
    "    hire_date DATE NOT NULL)\n",
    "'''\n",
    "curs.execute(employees_table)\n"
   ]
  },
  {
   "cell_type": "code",
   "execution_count": null,
   "id": "836b25b9",
   "metadata": {},
   "outputs": [],
   "source": [
    "employees_table = '''\n",
    "\n",
    "create table employees(\n",
    "    employee_id INTEGER PRIMARY KEY,\n",
    "    name TEXT NOT NULL,\n",
    "    salary REAL NOT NULL,\n",
    "    department TEXT NOT NULL,\n",
    "    hire_date DATE NOT NULL)\n",
    "'''\n",
    "curs.execute(employees_table)"
   ]
  },
  {
   "cell_type": "code",
   "execution_count": 1,
   "id": "1edf870e",
   "metadata": {},
   "outputs": [
    {
     "name": "stdout",
     "output_type": "stream",
     "text": [
      "<mysql.connector.connection_cext.CMySQLConnection object at 0x000002537FC36490>\n"
     ]
    }
   ],
   "source": [
    "import mysql.connector\n",
    "\n",
    "conn= mysql.connector.connect(user='root',\n",
    "                             password='Mysql@123',\n",
    "                             host='127.0.0.1',\n",
    "                             database='employment'\n",
    "                             )\n",
    "print(conn)\n"
   ]
  },
  {
   "cell_type": "code",
   "execution_count": 3,
   "id": "7f4accdd",
   "metadata": {},
   "outputs": [],
   "source": [
    "curs=conn.cursor()\n"
   ]
  },
  {
   "cell_type": "code",
   "execution_count": 4,
   "id": "ad33ab34",
   "metadata": {},
   "outputs": [
    {
     "data": {
      "text/plain": [
       "<mysql.connector.cursor_cext.CMySQLCursor at 0x2537fc42490>"
      ]
     },
     "execution_count": 4,
     "metadata": {},
     "output_type": "execute_result"
    }
   ],
   "source": [
    "curs\n"
   ]
  },
  {
   "cell_type": "markdown",
   "id": "d231a9ba",
   "metadata": {},
   "source": [
    "# 4.You are developing an employee management system for a company. The database should store employee information, including name, salary, department, and hire date. Managers should be able to view and update employee details.\n",
    "\n",
    "1. Design the database schema for the employee management system.\n",
    "\n",
    "2. Write Python code to connect to the database and retrieve a list of employees in a\n",
    "\n",
    "specific department.\n",
    "\n",
    "3. Implement a feature to update an employee's salary.\n",
    "\n"
   ]
  },
  {
   "cell_type": "code",
   "execution_count": 21,
   "id": "c10dbae0",
   "metadata": {},
   "outputs": [
    {
     "ename": "ProgrammingError",
     "evalue": "1050 (42S01): Table 'neelam' already exists",
     "output_type": "error",
     "traceback": [
      "\u001b[1;31m---------------------------------------------------------------------------\u001b[0m",
      "\u001b[1;31mMySQLInterfaceError\u001b[0m                       Traceback (most recent call last)",
      "File \u001b[1;32m~\\anaconda3\\Lib\\site-packages\\mysql\\connector\\connection_cext.py:633\u001b[0m, in \u001b[0;36mCMySQLConnection.cmd_query\u001b[1;34m(self, query, raw, buffered, raw_as_string)\u001b[0m\n\u001b[0;32m    632\u001b[0m         query \u001b[38;5;241m=\u001b[39m query\u001b[38;5;241m.\u001b[39mencode(\u001b[38;5;124m\"\u001b[39m\u001b[38;5;124mutf-8\u001b[39m\u001b[38;5;124m\"\u001b[39m)\n\u001b[1;32m--> 633\u001b[0m     \u001b[38;5;28mself\u001b[39m\u001b[38;5;241m.\u001b[39m_cmysql\u001b[38;5;241m.\u001b[39mquery(\n\u001b[0;32m    634\u001b[0m         query,\n\u001b[0;32m    635\u001b[0m         raw\u001b[38;5;241m=\u001b[39mraw,\n\u001b[0;32m    636\u001b[0m         buffered\u001b[38;5;241m=\u001b[39mbuffered,\n\u001b[0;32m    637\u001b[0m         raw_as_string\u001b[38;5;241m=\u001b[39mraw_as_string,\n\u001b[0;32m    638\u001b[0m         query_attrs\u001b[38;5;241m=\u001b[39m\u001b[38;5;28mself\u001b[39m\u001b[38;5;241m.\u001b[39mquery_attrs,\n\u001b[0;32m    639\u001b[0m     )\n\u001b[0;32m    640\u001b[0m \u001b[38;5;28;01mexcept\u001b[39;00m MySQLInterfaceError \u001b[38;5;28;01mas\u001b[39;00m err:\n",
      "\u001b[1;31mMySQLInterfaceError\u001b[0m: Table 'neelam' already exists",
      "\nThe above exception was the direct cause of the following exception:\n",
      "\u001b[1;31mProgrammingError\u001b[0m                          Traceback (most recent call last)",
      "Cell \u001b[1;32mIn[21], line 11\u001b[0m\n\u001b[0;32m      1\u001b[0m neelam_table \u001b[38;5;241m=\u001b[39m \u001b[38;5;124m'''\u001b[39m\n\u001b[0;32m      2\u001b[0m \n\u001b[0;32m      3\u001b[0m \u001b[38;5;124mcreate table neelam(\u001b[39m\n\u001b[1;32m   (...)\u001b[0m\n\u001b[0;32m      7\u001b[0m \u001b[38;5;124m    department TEXT NOT NULL)\u001b[39m\n\u001b[0;32m      8\u001b[0m \u001b[38;5;124m'''\u001b[39m\n\u001b[1;32m---> 11\u001b[0m curs\u001b[38;5;241m.\u001b[39mexecute(neelam_table)\n",
      "File \u001b[1;32m~\\anaconda3\\Lib\\site-packages\\mysql\\connector\\cursor_cext.py:330\u001b[0m, in \u001b[0;36mCMySQLCursor.execute\u001b[1;34m(self, operation, params, multi)\u001b[0m\n\u001b[0;32m    325\u001b[0m             \u001b[38;5;28;01mraise\u001b[39;00m ProgrammingError(\n\u001b[0;32m    326\u001b[0m                 \u001b[38;5;124m\"\u001b[39m\u001b[38;5;124mNot all parameters were used in the SQL statement\u001b[39m\u001b[38;5;124m\"\u001b[39m\n\u001b[0;32m    327\u001b[0m             )\n\u001b[0;32m    329\u001b[0m \u001b[38;5;28;01mtry\u001b[39;00m:\n\u001b[1;32m--> 330\u001b[0m     result \u001b[38;5;241m=\u001b[39m \u001b[38;5;28mself\u001b[39m\u001b[38;5;241m.\u001b[39m_cnx\u001b[38;5;241m.\u001b[39mcmd_query(\n\u001b[0;32m    331\u001b[0m         stmt,\n\u001b[0;32m    332\u001b[0m         raw\u001b[38;5;241m=\u001b[39m\u001b[38;5;28mself\u001b[39m\u001b[38;5;241m.\u001b[39m_raw,\n\u001b[0;32m    333\u001b[0m         buffered\u001b[38;5;241m=\u001b[39m\u001b[38;5;28mself\u001b[39m\u001b[38;5;241m.\u001b[39m_buffered,\n\u001b[0;32m    334\u001b[0m         raw_as_string\u001b[38;5;241m=\u001b[39m\u001b[38;5;28mself\u001b[39m\u001b[38;5;241m.\u001b[39m_raw_as_string,\n\u001b[0;32m    335\u001b[0m     )\n\u001b[0;32m    336\u001b[0m \u001b[38;5;28;01mexcept\u001b[39;00m MySQLInterfaceError \u001b[38;5;28;01mas\u001b[39;00m err:\n\u001b[0;32m    337\u001b[0m     \u001b[38;5;28;01mraise\u001b[39;00m get_mysql_exception(\n\u001b[0;32m    338\u001b[0m         msg\u001b[38;5;241m=\u001b[39merr\u001b[38;5;241m.\u001b[39mmsg, errno\u001b[38;5;241m=\u001b[39merr\u001b[38;5;241m.\u001b[39merrno, sqlstate\u001b[38;5;241m=\u001b[39merr\u001b[38;5;241m.\u001b[39msqlstate\n\u001b[0;32m    339\u001b[0m     ) \u001b[38;5;28;01mfrom\u001b[39;00m \u001b[38;5;21;01merr\u001b[39;00m\n",
      "File \u001b[1;32m~\\anaconda3\\Lib\\site-packages\\mysql\\connector\\opentelemetry\\context_propagation.py:77\u001b[0m, in \u001b[0;36mwith_context_propagation.<locals>.wrapper\u001b[1;34m(cnx, *args, **kwargs)\u001b[0m\n\u001b[0;32m     75\u001b[0m \u001b[38;5;250m\u001b[39m\u001b[38;5;124;03m\"\"\"Context propagation decorator.\"\"\"\u001b[39;00m\n\u001b[0;32m     76\u001b[0m \u001b[38;5;28;01mif\u001b[39;00m \u001b[38;5;129;01mnot\u001b[39;00m OTEL_ENABLED \u001b[38;5;129;01mor\u001b[39;00m \u001b[38;5;129;01mnot\u001b[39;00m cnx\u001b[38;5;241m.\u001b[39motel_context_propagation:\n\u001b[1;32m---> 77\u001b[0m     \u001b[38;5;28;01mreturn\u001b[39;00m method(cnx, \u001b[38;5;241m*\u001b[39margs, \u001b[38;5;241m*\u001b[39m\u001b[38;5;241m*\u001b[39mkwargs)\n\u001b[0;32m     79\u001b[0m current_span \u001b[38;5;241m=\u001b[39m trace\u001b[38;5;241m.\u001b[39mget_current_span()\n\u001b[0;32m     80\u001b[0m tp_header \u001b[38;5;241m=\u001b[39m \u001b[38;5;28;01mNone\u001b[39;00m\n",
      "File \u001b[1;32m~\\anaconda3\\Lib\\site-packages\\mysql\\connector\\connection_cext.py:641\u001b[0m, in \u001b[0;36mCMySQLConnection.cmd_query\u001b[1;34m(self, query, raw, buffered, raw_as_string)\u001b[0m\n\u001b[0;32m    633\u001b[0m     \u001b[38;5;28mself\u001b[39m\u001b[38;5;241m.\u001b[39m_cmysql\u001b[38;5;241m.\u001b[39mquery(\n\u001b[0;32m    634\u001b[0m         query,\n\u001b[0;32m    635\u001b[0m         raw\u001b[38;5;241m=\u001b[39mraw,\n\u001b[1;32m   (...)\u001b[0m\n\u001b[0;32m    638\u001b[0m         query_attrs\u001b[38;5;241m=\u001b[39m\u001b[38;5;28mself\u001b[39m\u001b[38;5;241m.\u001b[39mquery_attrs,\n\u001b[0;32m    639\u001b[0m     )\n\u001b[0;32m    640\u001b[0m \u001b[38;5;28;01mexcept\u001b[39;00m MySQLInterfaceError \u001b[38;5;28;01mas\u001b[39;00m err:\n\u001b[1;32m--> 641\u001b[0m     \u001b[38;5;28;01mraise\u001b[39;00m get_mysql_exception(\n\u001b[0;32m    642\u001b[0m         err\u001b[38;5;241m.\u001b[39merrno, msg\u001b[38;5;241m=\u001b[39merr\u001b[38;5;241m.\u001b[39mmsg, sqlstate\u001b[38;5;241m=\u001b[39merr\u001b[38;5;241m.\u001b[39msqlstate\n\u001b[0;32m    643\u001b[0m     ) \u001b[38;5;28;01mfrom\u001b[39;00m \u001b[38;5;21;01merr\u001b[39;00m\n\u001b[0;32m    644\u001b[0m \u001b[38;5;28;01mexcept\u001b[39;00m \u001b[38;5;167;01mAttributeError\u001b[39;00m \u001b[38;5;28;01mas\u001b[39;00m err:\n\u001b[0;32m    645\u001b[0m     addr \u001b[38;5;241m=\u001b[39m (\n\u001b[0;32m    646\u001b[0m         \u001b[38;5;28mself\u001b[39m\u001b[38;5;241m.\u001b[39m_unix_socket \u001b[38;5;28;01mif\u001b[39;00m \u001b[38;5;28mself\u001b[39m\u001b[38;5;241m.\u001b[39m_unix_socket \u001b[38;5;28;01melse\u001b[39;00m \u001b[38;5;124mf\u001b[39m\u001b[38;5;124m\"\u001b[39m\u001b[38;5;132;01m{\u001b[39;00m\u001b[38;5;28mself\u001b[39m\u001b[38;5;241m.\u001b[39m_host\u001b[38;5;132;01m}\u001b[39;00m\u001b[38;5;124m:\u001b[39m\u001b[38;5;132;01m{\u001b[39;00m\u001b[38;5;28mself\u001b[39m\u001b[38;5;241m.\u001b[39m_port\u001b[38;5;132;01m}\u001b[39;00m\u001b[38;5;124m\"\u001b[39m\n\u001b[0;32m    647\u001b[0m     )\n",
      "\u001b[1;31mProgrammingError\u001b[0m: 1050 (42S01): Table 'neelam' already exists"
     ]
    }
   ],
   "source": [
    "neelam_table = '''\n",
    "\n",
    "create table neelam(\n",
    "    employee_id INTEGER PRIMARY KEY,\n",
    "    name TEXT NOT NULL,\n",
    "    salary REAL NOT NULL,\n",
    "    department TEXT NOT NULL)\n",
    "'''\n",
    "\n",
    "\n",
    "curs.execute(neelam_table)\n"
   ]
  },
  {
   "cell_type": "code",
   "execution_count": 43,
   "id": "6d9665f4",
   "metadata": {},
   "outputs": [
    {
     "name": "stdout",
     "output_type": "stream",
     "text": [
      "2 is inserted now\n"
     ]
    }
   ],
   "source": [
    "cus_insert = \"insert into neelam(employee_id,name,salary,department) values (%s,%s,%s,%s)\"\n",
    "\n",
    "cus_val = [ (123,'govind',100000,'python'),\n",
    "           ( 246,'hello',32000,'cse')\n",
    "          ]\n",
    "\n",
    "           \n",
    "curs.executemany(cus_insert, cus_val)\n",
    "\n",
    "conn.commit()\n",
    "\n",
    "print(curs.rowcount,'is inserted now')\n"
   ]
  },
  {
   "cell_type": "code",
   "execution_count": 4,
   "id": "d1548ae9",
   "metadata": {},
   "outputs": [
    {
     "ename": "NameError",
     "evalue": "name 'curs' is not defined",
     "output_type": "error",
     "traceback": [
      "\u001b[1;31m---------------------------------------------------------------------------\u001b[0m",
      "\u001b[1;31mNameError\u001b[0m                                 Traceback (most recent call last)",
      "Cell \u001b[1;32mIn[4], line 9\u001b[0m\n\u001b[0;32m      1\u001b[0m cus_insert \u001b[38;5;241m=\u001b[39m \u001b[38;5;124m\"\u001b[39m\u001b[38;5;124minsert into neelam(employee_id,name,salary,department) values (\u001b[39m\u001b[38;5;132;01m%s\u001b[39;00m\u001b[38;5;124m,\u001b[39m\u001b[38;5;132;01m%s\u001b[39;00m\u001b[38;5;124m,\u001b[39m\u001b[38;5;132;01m%s\u001b[39;00m\u001b[38;5;124m,\u001b[39m\u001b[38;5;132;01m%s\u001b[39;00m\u001b[38;5;124m)\u001b[39m\u001b[38;5;124m\"\u001b[39m\n\u001b[0;32m      3\u001b[0m cus_val \u001b[38;5;241m=\u001b[39m [ (\u001b[38;5;241m123\u001b[39m,\u001b[38;5;124m'\u001b[39m\u001b[38;5;124mgovind\u001b[39m\u001b[38;5;124m'\u001b[39m,\u001b[38;5;241m100000\u001b[39m,\u001b[38;5;124m'\u001b[39m\u001b[38;5;124mpython\u001b[39m\u001b[38;5;124m'\u001b[39m),\n\u001b[0;32m      4\u001b[0m            ( \u001b[38;5;241m246\u001b[39m,\u001b[38;5;124m'\u001b[39m\u001b[38;5;124mhello\u001b[39m\u001b[38;5;124m'\u001b[39m,\u001b[38;5;241m32000\u001b[39m,\u001b[38;5;124m'\u001b[39m\u001b[38;5;124mcse\u001b[39m\u001b[38;5;124m'\u001b[39m),\n\u001b[0;32m      5\u001b[0m            (\u001b[38;5;241m589\u001b[39m,\u001b[38;5;124m'\u001b[39m\u001b[38;5;124mhm\u001b[39m\u001b[38;5;124m'\u001b[39m,\u001b[38;5;241m25000\u001b[39m,\u001b[38;5;124m'\u001b[39m\u001b[38;5;124mece\u001b[39m\u001b[38;5;124m'\u001b[39m)\n\u001b[0;32m      6\u001b[0m           ]\n\u001b[1;32m----> 9\u001b[0m curs\u001b[38;5;241m.\u001b[39mexecutemany(cus_insert, cus_val)\n\u001b[0;32m     11\u001b[0m conn\u001b[38;5;241m.\u001b[39mcommit()\n\u001b[0;32m     13\u001b[0m \u001b[38;5;28mprint\u001b[39m(curs\u001b[38;5;241m.\u001b[39mrowcount,\u001b[38;5;124m'\u001b[39m\u001b[38;5;124mis inserted now\u001b[39m\u001b[38;5;124m'\u001b[39m)\n",
      "\u001b[1;31mNameError\u001b[0m: name 'curs' is not defined"
     ]
    }
   ],
   "source": [
    "cus_insert = \"insert into neelam(employee_id,name,salary,department) values (%s,%s,%s,%s)\"\n",
    "\n",
    "cus_val = [ (123,'govind',100000,'python'),\n",
    "           ( 246,'hello',32000,'cse'),\n",
    "           (589,'hm',25000,'ece')\n",
    "          ]\n",
    "\n",
    "           \n",
    "curs.executemany(cus_insert, cus_val)\n",
    "\n",
    "conn.commit()\n",
    "\n",
    "print(curs.rowcount,'is inserted now')\n",
    "\n",
    "    "
   ]
  },
  {
   "cell_type": "code",
   "execution_count": 1,
   "id": "c8169174",
   "metadata": {},
   "outputs": [
    {
     "name": "stdout",
     "output_type": "stream",
     "text": [
      "<mysql.connector.connection_cext.CMySQLConnection object at 0x000001898B0B9590>\n"
     ]
    }
   ],
   "source": [
    "import mysql.connector\n",
    "\n",
    "conn= mysql.connector.connect(user='root',\n",
    "                             password='Mysql@123',\n",
    "                             host='127.0.0.1',\n",
    "                             database='employment'\n",
    "                             )\n",
    "print(conn)\n"
   ]
  },
  {
   "cell_type": "code",
   "execution_count": 4,
   "id": "445b6e6d",
   "metadata": {},
   "outputs": [],
   "source": [
    "curs=conn.cursor()\n"
   ]
  },
  {
   "cell_type": "raw",
   "id": "d36ffecd",
   "metadata": {},
   "source": [
    "curs\n",
    "\n"
   ]
  },
  {
   "cell_type": "markdown",
   "id": "22f6585c",
   "metadata": {},
   "source": [
    "# 1. Implement Inventory Management in Python with MySQL.\n",
    "\n",
    "a) Inventory management, a critical element of the supply chain, is the tracking of inventory from manufacturers to warehouses and from these facilities to a point of sale. The goal of inventory management is to have the right products in the right place at the right time.\n",
    "\n",
    "b) The required Database is Inventory, and the required Tables are Purchases, Sales and\n",
    "\n",
    "inventory\n",
    "CREATE DATABASE Inventory;\n",
    "\n"
   ]
  },
  {
   "cell_type": "code",
   "execution_count": null,
   "id": "da7b4a1b",
   "metadata": {},
   "outputs": [],
   "source": [
    "inventory_table = '''\n",
    "      \n",
    "Create table inventory(id INT AUTO_INCREMENT PRIMARY KEY,product_name VARCHAR(255) NOT NULL,\n",
    "purchase_date DATE NOT NULL,quantity INT NOT NULL )     \n",
    "\n",
    "'''\n",
    "    \n",
    "curs.execute(inventory_table)\n"
   ]
  },
  {
   "cell_type": "code",
   "execution_count": 2,
   "id": "c253e7b2",
   "metadata": {},
   "outputs": [
    {
     "name": "stdout",
     "output_type": "stream",
     "text": [
      "<mysql.connector.connection_cext.CMySQLConnection object at 0x000001ECB6EC5B50>\n"
     ]
    }
   ],
   "source": [
    "import mysql.connector\n",
    "\n",
    "conn= mysql.connector.connect(user='root',\n",
    "                             password='Mysql@123',\n",
    "                             host='127.0.0.1',\n",
    "                             database='employment'\n",
    "                             )\n",
    "print(conn)\n"
   ]
  },
  {
   "cell_type": "code",
   "execution_count": 4,
   "id": "5fe5a7bc",
   "metadata": {},
   "outputs": [
    {
     "ename": "NameError",
     "evalue": "name 'curs' is not defined",
     "output_type": "error",
     "traceback": [
      "\u001b[1;31m---------------------------------------------------------------------------\u001b[0m",
      "\u001b[1;31mNameError\u001b[0m                                 Traceback (most recent call last)",
      "Cell \u001b[1;32mIn[4], line 10\u001b[0m\n\u001b[0;32m      1\u001b[0m inventory_table\u001b[38;5;241m=\u001b[39m \u001b[38;5;124m'''\u001b[39m\n\u001b[0;32m      2\u001b[0m \n\u001b[0;32m      3\u001b[0m \u001b[38;5;124mcreate table inventory(\u001b[39m\n\u001b[1;32m   (...)\u001b[0m\n\u001b[0;32m      7\u001b[0m \n\u001b[0;32m      8\u001b[0m \u001b[38;5;124m'''\u001b[39m\n\u001b[1;32m---> 10\u001b[0m curs\u001b[38;5;241m.\u001b[39mexecute(inventory_table)\n",
      "\u001b[1;31mNameError\u001b[0m: name 'curs' is not defined"
     ]
    }
   ],
   "source": [
    "inventory_table= '''\n",
    "\n",
    "create table inventory(\n",
    "      product_id integer primary key,\n",
    "      name text not null,\n",
    "      quantity int not null )\n",
    "\n",
    "'''\n",
    "\n",
    "curs.execute(inventory_table)\n"
   ]
  },
  {
   "cell_type": "code",
   "execution_count": 25,
   "id": "9d84caa7",
   "metadata": {},
   "outputs": [],
   "source": [
    "telugu_table= '''\n",
    "\n",
    "create table telugu(\n",
    "      product_id integer primary key,\n",
    "      name text not null,\n",
    "      quantity int not null )\n",
    "\n",
    "'''\n",
    "\n",
    "curs.execute(telugu_table)"
   ]
  },
  {
   "cell_type": "code",
   "execution_count": 5,
   "id": "3bf5d77e",
   "metadata": {},
   "outputs": [],
   "source": [
    "curs= conn.cursor()\n",
    "\n"
   ]
  },
  {
   "cell_type": "code",
   "execution_count": 6,
   "id": "b12bcc13",
   "metadata": {},
   "outputs": [
    {
     "data": {
      "text/plain": [
       "<mysql.connector.cursor_cext.CMySQLCursor at 0x1ecb6eb4210>"
      ]
     },
     "execution_count": 6,
     "metadata": {},
     "output_type": "execute_result"
    }
   ],
   "source": [
    "curs\n"
   ]
  },
  {
   "cell_type": "code",
   "execution_count": 27,
   "id": "18450dae",
   "metadata": {},
   "outputs": [
    {
     "ename": "NameError",
     "evalue": "name 'telugu_table' is not defined",
     "output_type": "error",
     "traceback": [
      "\u001b[1;31m---------------------------------------------------------------------------\u001b[0m",
      "\u001b[1;31mNameError\u001b[0m                                 Traceback (most recent call last)",
      "Cell \u001b[1;32mIn[27], line 1\u001b[0m\n\u001b[1;32m----> 1\u001b[0m curs\u001b[38;5;241m.\u001b[39mexecute(telugu_table)\n",
      "\u001b[1;31mNameError\u001b[0m: name 'telugu_table' is not defined"
     ]
    }
   ],
   "source": [
    "curs.execute(telugu_table)\n"
   ]
  },
  {
   "cell_type": "code",
   "execution_count": 28,
   "id": "f44ed1ff",
   "metadata": {},
   "outputs": [
    {
     "name": "stdout",
     "output_type": "stream",
     "text": [
      "<mysql.connector.connection_cext.CMySQLConnection object at 0x000001ECB7AF2ED0>\n"
     ]
    }
   ],
   "source": [
    "import mysql.connector\n",
    "\n",
    "conn= mysql.connector.connect(user='root',\n",
    "                             password='Mysql@123',\n",
    "                             host='127.0.0.1',\n",
    "                             database='invent'\n",
    "                             )\n",
    "print(conn)\n"
   ]
  },
  {
   "cell_type": "code",
   "execution_count": 29,
   "id": "ca3211c4",
   "metadata": {},
   "outputs": [],
   "source": [
    "curs= conn.cursor()\n"
   ]
  },
  {
   "cell_type": "code",
   "execution_count": 30,
   "id": "24e034d0",
   "metadata": {},
   "outputs": [
    {
     "data": {
      "text/plain": [
       "<mysql.connector.cursor_cext.CMySQLCursor at 0x1ecb6eb8110>"
      ]
     },
     "execution_count": 30,
     "metadata": {},
     "output_type": "execute_result"
    }
   ],
   "source": [
    "curs"
   ]
  },
  {
   "cell_type": "code",
   "execution_count": 31,
   "id": "caaf773d",
   "metadata": {},
   "outputs": [],
   "source": [
    "chrome_table= '''\n",
    "\n",
    "create table chrome(\n",
    "      product_id integer primary key,\n",
    "      name text not null,\n",
    "      quantity int not null )\n",
    "\n",
    "'''\n",
    "\n",
    "curs.execute(chrome_table)"
   ]
  },
  {
   "cell_type": "code",
   "execution_count": 34,
   "id": "94b2b8a1",
   "metadata": {},
   "outputs": [],
   "source": [
    "sales_table= '''\n",
    "\n",
    "create table sales(\n",
    "       sale_id integer primary key,\n",
    "       name varchar(40) not null,\n",
    "       quantity int not null )\n",
    "       \n",
    "'''    \n",
    "\n",
    "curs.execute(sales_table)"
   ]
  },
  {
   "cell_type": "code",
   "execution_count": 35,
   "id": "6af30f00",
   "metadata": {},
   "outputs": [],
   "source": [
    "purchase_table = '''\n",
    "\n",
    "create table purchase(\n",
    "        purchase_id integer primary key,\n",
    "        name varchar(50) not null,\n",
    "        quantity int not null )\n",
    "        \n",
    "'''\n",
    "\n",
    "curs.execute(purchase_table)\n",
    "\n",
    "        "
   ]
  },
  {
   "cell_type": "markdown",
   "id": "c3997754",
   "metadata": {},
   "source": [
    "# 2.scenario: You are building a customer order processing system for an e-commerce company. The system needs to interact with a MySQL database to store customer orders, products, and order details.\n",
    "\n",
    "\n",
    "\n",
    "1. Design a MySQL database schema for the order processing system, including tables for customers, products, and orders.\n",
    "\n",
    "2. Write a Python program that connects to the database and allows customers to place new orders.\n",
    "\n",
    "3. Implement a feature that calculates the total cost of an order and updates product quantities in the database.\n",
    "\n",
    "4. How would you handle cases where a product is no longer available when a customer places an order?\n",
    "\n",
    "5. Develop a function to generate order reports for the company's finance department"
   ]
  },
  {
   "cell_type": "code",
   "execution_count": 1,
   "id": "5ec927e3",
   "metadata": {},
   "outputs": [
    {
     "name": "stdout",
     "output_type": "stream",
     "text": [
      "<mysql.connector.connection_cext.CMySQLConnection object at 0x000001685CB85110>\n"
     ]
    }
   ],
   "source": [
    "import mysql.connector\n",
    "\n",
    "conn= mysql.connector.connect(user='root',\n",
    "                             password='Mysql@123',\n",
    "                             host='127.0.0.1',\n",
    "                             database='customer'\n",
    "                              )\n",
    "print(conn)\n"
   ]
  },
  {
   "cell_type": "code",
   "execution_count": 2,
   "id": "fd95a6e9",
   "metadata": {},
   "outputs": [],
   "source": [
    "curs = conn.cursor()\n"
   ]
  },
  {
   "cell_type": "code",
   "execution_count": 3,
   "id": "e0d6dc39",
   "metadata": {},
   "outputs": [
    {
     "data": {
      "text/plain": [
       "<mysql.connector.cursor_cext.CMySQLCursor at 0x1685cbda2d0>"
      ]
     },
     "execution_count": 3,
     "metadata": {},
     "output_type": "execute_result"
    }
   ],
   "source": [
    "curs\n"
   ]
  },
  {
   "cell_type": "markdown",
   "id": "ee676fb7",
   "metadata": {},
   "source": [
    "# 1. Module Import and Management Scenario: You are developing a complex Python project with multiple modules. To manage the project effectively, you need to import and use various modules. Additionally, you want to organize your code using namespaces and avoid naming conflicts.\n",
    "\n",
    "\n",
    "\n",
    "Design a Python program that demonstrates the following:\n",
    "\n",
    "1. Import multiple modules within your project.\n",
    "\n",
    "2. Use the import statement to access functions, classes, and variables from imported\n",
    "\n",
    "modules.\n",
    "\n",
    "3. Create your custom module and use it in your main program. 4. Handle naming conflicts and ensure proper namespacing.\n",
    "\n",
    "5. Implement error handling for missing modules or incorrect module usage."
   ]
  },
  {
   "cell_type": "code",
   "execution_count": 4,
   "id": "0dfd42fe",
   "metadata": {},
   "outputs": [
    {
     "name": "stdout",
     "output_type": "stream",
     "text": [
      "module 1\n",
      "module 2\n",
      "custom hai\n"
     ]
    }
   ],
   "source": [
    "def hello():\n",
    "    print('module 1')\n",
    "\n",
    "def hai():\n",
    "    print('module 2')\n",
    "    \n",
    "def custom():\n",
    "    print('custom hai')\n",
    "    \n",
    "    \n",
    "\n",
    "import module1\n",
    "import module2\n",
    "import custom as cm\n",
    "\n",
    "\n",
    "\n",
    "try:\n",
    "\n",
    "    \n",
    "     module1.hello()\n",
    "     module2.hai()\n",
    "     cm.custom()\n",
    "     \n",
    "\n",
    "    \n",
    "\n",
    "    \n",
    "except ImportError as e:\n",
    "    print(f\"Import error: {e}\")\n",
    "except AttributeError as e:\n",
    "    print(f\"Attribute error: {e}\")\n",
    "except Exception as e:\n",
    "    print(f\"An unexpected error occurred: {e}\")\n",
    "\n",
    "    \n"
   ]
  },
  {
   "cell_type": "markdown",
   "id": "21f07736",
   "metadata": {},
   "source": [
    "# 2.Virtual Environment Management\n",
    "\n",
    "Scenario: You are working on multiple Python projects with different dependencies and versions. To avoid conflicts and ensure project isolation, you decide to use virtual environments.\n",
    "\n",
    "Create a Python program that demonstrates the following:\n",
    "\n",
    "1. Create a virtual environment for a specific project.\n",
    "\n",
    "2. Activate and deactivate virtual environments. 3. Install, upgrade, and uninstall packages within a virtual environment.\n",
    "\n",
    "4. List the installed packages in a virtual environment.\n",
    "\n",
    "5. Implement error handling for virtual environment operations"
   ]
  },
  {
   "cell_type": "code",
   "execution_count": null,
   "id": "de79e6ab",
   "metadata": {},
   "outputs": [],
   "source": [
    "import subprocess\n",
    "import sys\n",
    "import os\n",
    "\n",
    "def create__virtual_env(env_name):\n",
    "    try:\n",
    "        subprocess.run([sys.executable, '-m', 'venv', env_name])\n",
    "        print(f\"Virtual environment '{env_name}' created successfully.\")\n",
    "    except subprocess.CalledProcessError as e:\n",
    "        print(f\"Error: Failed to create the virtual environment. {e}\")\n",
    "\n",
    "def activate__virtual_env(env_name):\n",
    "    try:\n",
    "        activate_script = os.path.join(env_name, 'Scripts' if os.name == 'nt' else 'bin', 'activate')\n",
    "        subprocess.run([activate_script], shell=True)\n",
    "        print(f\"Activated virtual environment '{env_name}'.\")\n",
    "    except FileNotFoundError:\n",
    "        print(f\"Error: Virtual environment '{env_name}' not found.\")\n",
    "\n",
    "def deactivate__virtual_env():\n",
    "    try:\n",
    "        subprocess.run(['deactivate'], shell=True)\n",
    "        print(\"Deactivated the virtual environment.\")\n",
    "    except subprocess.CalledProcessError as e:\n",
    "        print(f\"Error: Failed to deactivate the virtual environment. {e}\")\n",
    "\n",
    "def install_package(env_name, package_name):\n",
    "    try:\n",
    "        subprocess.run([f'{env_name}/bin/pip', 'install', package_name])\n",
    "        print(f\"Installed '{package_name}' in '{env_name}'.\")\n",
    "    except subprocess.CalledProcessError as e:\n",
    "        print(f\"Error: Failed to install the package. {e}\")\n",
    "\n",
    "def upgrade_package(env_name, package_name):\n",
    "    try:\n",
    "        subprocess.run([f'{env_name}/bin/pip', 'install', '--upgrade', package_name])\n",
    "        print(f\"Upgraded '{package_name}' in '{env_name}'.\")\n",
    "    except subprocess.CalledProcessError as e:\n",
    "        print(f\"Error: Failed to upgrade the package. {e}\")\n",
    "\n",
    "def uninstall_package(env_name, package_name):\n",
    "    try:\n",
    "        subprocess.run([f'{env_name}/bin/pip', 'uninstall', '-y', package_name])\n",
    "        print(f\"Uninstalled '{package_name}' from '{env_name}'.\")\n",
    "    except subprocess.CalledProcessError as e:\n",
    "        print(f\"Error: Failed to uninstall the package. {e}\")\n",
    "\n",
    "def list_installed_packages(env_name):\n",
    "    try:\n",
    "        result = subprocess.run([f'{env_name}/bin/pip', 'list'], capture_output=True, text=True)\n",
    "        print(f\"Installed packages in '{env_name}':\\n{result.stdout}\")\n",
    "    except subprocess.CalledProcessError as e:\n",
    "        print(f\"Error: Failed to list installed packages. {e}\")\n",
    "\n",
    "\n",
    "env_name = \"_virtual_env\"\n",
    "package_name = \"numpy\"\n",
    "\n",
    "create__virtual_env(env_name)\n",
    "activate__virtual_env(env_name)\n",
    "install_package(env_name, package_name)\n",
    "list_installed_packages(env_name)\n",
    "upgrade_package(env_name, package_name)\n",
    "list_installed_packages(env_name)\n",
    "uninstall_package(env_name, package_name)\n",
    "list_installed_packages(env_name)\n",
    "deactivate_virtual_env()\n",
    "\n"
   ]
  },
  {
   "cell_type": "code",
   "execution_count": null,
   "id": "389b3ed5",
   "metadata": {},
   "outputs": [],
   "source": []
  },
  {
   "cell_type": "markdown",
   "id": "b83eb93a",
   "metadata": {},
   "source": [
    "# 3. Module Dependency Resolution\n",
    "\n",
    "\n",
    "\n",
    "Scenario: You are developing a Python application that relies on third-party packages. Managing dependencies and ensuring compatibility is crucial for your project's success.\n",
    "\n",
    "Design a Python program that demonstrates the following:\n",
    "\n",
    "1 Use a requirements txt file to specify project dependencies. 2. Automatically install all project dependencies from the requirements.txt file.\n",
    "\n",
    "3. Ensure that the versions of installed packages are compatible.\n",
    "\n",
    "4. Implement error handling for dependency resolution and installation."
   ]
  },
  {
   "cell_type": "code",
   "execution_count": null,
   "id": "5e09384e",
   "metadata": {},
   "outputs": [],
   "source": [
    "\n",
    "import subprocess\n",
    "\n",
    "\n",
    "def install_dependencies():\n",
    "    try:\n",
    "        \n",
    "        subprocess.call([\"pip\", \"install\", \"-r\", \"requirements.txt\"])\n",
    "        print(\"Dependencies installed successfully.\")\n",
    "    except Exception as e:\n",
    "        print(f\"Error installing dependencies: {e}\")\n",
    "\n",
    "\n",
    "install_dependencies()\n",
    "\n",
    "\n",
    "# requirements.txt\n",
    "requests==2.26.0\n",
    "flask==2.0.1\n",
    "\n",
    "\n",
    "\n",
    "\n"
   ]
  },
  {
   "cell_type": "markdown",
   "id": "d5ffd2e1",
   "metadata": {},
   "source": [
    "# Database   2.\n",
    ".Scenario: You are building a customer order processing system for an e-commerce company. The system needs to interact with a MySQL database to store customer orders, products, and order details.\n",
    "\n",
    "1. Design a MySQL database schema for the order processing system, including tables for customers, products, and orders.\n",
    "\n",
    "2. Write a Python program that connects to the database and allows customers to place new orders.\n",
    "\n",
    "3. Implement a feature that calculates the total cost of an order and updates product quantities in the database.\n",
    "\n",
    "4. How would you handle cases where a product is no longer available when a customer places an order?\n",
    "\n",
    "5. Develop a function to generate order reports for the company's finance department"
   ]
  },
  {
   "cell_type": "code",
   "execution_count": 3,
   "id": "1fdeb0b7",
   "metadata": {},
   "outputs": [
    {
     "name": "stdout",
     "output_type": "stream",
     "text": [
      "<mysql.connector.connection_cext.CMySQLConnection object at 0x00000267F86EB610>\n"
     ]
    }
   ],
   "source": [
    "import mysql.connector\n",
    "\n",
    "conn= mysql.connector.connect(user='root',\n",
    "                             password='Mysql@123',\n",
    "                             host='127.0.0.1',\n",
    "                             database='customer'\n",
    "                              )\n",
    "print(conn)\n"
   ]
  },
  {
   "cell_type": "code",
   "execution_count": 4,
   "id": "e37fece4",
   "metadata": {},
   "outputs": [
    {
     "name": "stdout",
     "output_type": "stream",
     "text": [
      "Error: name 'cursor' is not defined\n"
     ]
    },
    {
     "ename": "NameError",
     "evalue": "name 'db_connection' is not defined",
     "output_type": "error",
     "traceback": [
      "\u001b[1;31m---------------------------------------------------------------------------\u001b[0m",
      "\u001b[1;31mNameError\u001b[0m                                 Traceback (most recent call last)",
      "Cell \u001b[1;32mIn[4], line 4\u001b[0m, in \u001b[0;36mplace_order\u001b[1;34m(customer_id, product_id, quantity)\u001b[0m\n\u001b[0;32m      2\u001b[0m \u001b[38;5;28;01mtry\u001b[39;00m:\n\u001b[1;32m----> 4\u001b[0m     cursor\u001b[38;5;241m.\u001b[39mexecute(\u001b[38;5;124m\"\u001b[39m\u001b[38;5;124mSELECT quantity_available, price FROM Products WHERE product_id = \u001b[39m\u001b[38;5;132;01m%s\u001b[39;00m\u001b[38;5;124m\"\u001b[39m, (product_id,))\n\u001b[0;32m      5\u001b[0m     product_info \u001b[38;5;241m=\u001b[39m cursor\u001b[38;5;241m.\u001b[39mfetchone()\n",
      "\u001b[1;31mNameError\u001b[0m: name 'cursor' is not defined",
      "\nDuring handling of the above exception, another exception occurred:\n",
      "\u001b[1;31mNameError\u001b[0m                                 Traceback (most recent call last)",
      "Cell \u001b[1;32mIn[4], line 30\u001b[0m\n\u001b[0;32m     27\u001b[0m         \u001b[38;5;28mprint\u001b[39m(\u001b[38;5;124m\"\u001b[39m\u001b[38;5;124mError:\u001b[39m\u001b[38;5;124m\"\u001b[39m, e)\n\u001b[0;32m     28\u001b[0m         db_connection\u001b[38;5;241m.\u001b[39mrollback()\n\u001b[1;32m---> 30\u001b[0m place_order(customer_id\u001b[38;5;241m=\u001b[39m\u001b[38;5;241m1\u001b[39m, product_id\u001b[38;5;241m=\u001b[39m\u001b[38;5;241m1\u001b[39m, quantity\u001b[38;5;241m=\u001b[39m\u001b[38;5;241m2\u001b[39m)\n\u001b[0;32m     33\u001b[0m cursor\u001b[38;5;241m.\u001b[39mclose()\n\u001b[0;32m     34\u001b[0m db_connection\u001b[38;5;241m.\u001b[39mclose()\n",
      "Cell \u001b[1;32mIn[4], line 28\u001b[0m, in \u001b[0;36mplace_order\u001b[1;34m(customer_id, product_id, quantity)\u001b[0m\n\u001b[0;32m     26\u001b[0m \u001b[38;5;28;01mexcept\u001b[39;00m \u001b[38;5;167;01mException\u001b[39;00m \u001b[38;5;28;01mas\u001b[39;00m e:\n\u001b[0;32m     27\u001b[0m     \u001b[38;5;28mprint\u001b[39m(\u001b[38;5;124m\"\u001b[39m\u001b[38;5;124mError:\u001b[39m\u001b[38;5;124m\"\u001b[39m, e)\n\u001b[1;32m---> 28\u001b[0m     db_connection\u001b[38;5;241m.\u001b[39mrollback()\n",
      "\u001b[1;31mNameError\u001b[0m: name 'db_connection' is not defined"
     ]
    }
   ],
   "source": [
    "\n",
    "\n",
    "def place_order(customer_id, product_id, quantity):\n",
    "    try:\n",
    "        \n",
    "        cursor.execute(\"SELECT quantity_available, price FROM Products WHERE product_id = %s\", (product_id,))\n",
    "        product_info = cursor.fetchone()\n",
    "        if not product_info or product_info[0] < quantity:\n",
    "            print(\"Product not available or insufficient quantity.\")\n",
    "            return\n",
    "\n",
    "        \n",
    "        subtotal = quantity * product_info[1]\n",
    "\n",
    "        cursor.execute(\"INSERT INTO Order_Details (order_id, product_id, quantity_ordered, subtotal) VALUES (%s, %s, %s, %s)\",\n",
    "                       (order_id, product_id, quantity, subtotal))\n",
    "\n",
    "    \n",
    "        new_quantity = product_info[0] - quantity\n",
    "        cursor.execute(\"UPDATE Products SET quantity_available = %s WHERE product_id = %s\", (new_quantity, product_id))\n",
    "\n",
    "        \n",
    "        cursor.execute(\"UPDATE Orders SET total_cost = total_cost + %s WHERE order_id = %s\", (subtotal, order_id))\n",
    "\n",
    "        db_connection.commit()\n",
    "        print(\"Order placed successfully!\")\n",
    "\n",
    "    except Exception as e:\n",
    "        print(\"Error:\", e)\n",
    "        db_connection.rollback()\n",
    "\n",
    "place_order(customer_id=1, product_id=1, quantity=2)\n",
    "\n",
    "\n",
    "cursor.close()\n",
    "db_connection.close()\n"
   ]
  },
  {
   "cell_type": "code",
   "execution_count": 1,
   "id": "2d00817c",
   "metadata": {},
   "outputs": [
    {
     "name": "stdout",
     "output_type": "stream",
     "text": [
      "Error: name 'cursor' is not defined\n"
     ]
    }
   ],
   "source": [
    "def generate_order_report(order_id):\n",
    "    try:\n",
    "        cursor.execute(\"SELECT o.order_id, c.name, p.name, od.quantity_ordered, p.price, od.subtotal \"\n",
    "                       \"FROM Orders o \"\n",
    "                       \"JOIN Customers c ON o.customer_id = c.customer_id \"\n",
    "                       \"JOIN Order_Details od ON o.order_id = od.order_id \"\n",
    "                       \"JOIN Products p ON od.product_id = p.product_id \"\n",
    "                       \"WHERE o.order_id = %s\", (order_id,))\n",
    "        \n",
    "        report_data = cursor.fetchall()\n",
    "        \n",
    "        if report_data:\n",
    "            total_cost = sum(item[5] for item in report_data)\n",
    "            print(f\"Order ID: {order_id}\")\n",
    "            print(f\"Customer: {report_data[0][1]}\")\n",
    "            print(\"Order Details:\")\n",
    "            for item in report_data:\n",
    "                print(f\"  - Product: {item[2]}, Quantity: {item[3]}, Subtotal: {item[5]}\")\n",
    "            print(f\"Total Cost: {total_cost}\")\n",
    "        else:\n",
    "            print(\"Order not found.\")\n",
    "\n",
    "    except Exception as e:\n",
    "        print(\"Error:\", e)\n",
    "\n",
    "generate_order_report(order_id=1)\n"
   ]
  },
  {
   "cell_type": "markdown",
   "id": "69b4ac5c",
   "metadata": {},
   "source": [
    "# 3. You are tasked with developing a Python program that connects to a MySQL database, retrieves data from a table, performs some operations on the data, and updates the database with the modified data. Please write Python code to accomplish this task.\n",
    "\n",
    "Instructions:\n",
    "\n",
    "1. Assume that you have a MySQL database server running with the following details\n",
    "\n",
    "Host: localhost\n",
    "\n",
    "Port: 3306\n",
    "\n",
    "ii. Username your username \n",
    "\n",
    "iv. Password; your password\n",
    "\n",
    "v. Database Name: your database vi. Table Name: your table\n",
    "\n",
    "vil. The table has the following columns: id (int), name (varchar),\n",
    "\n",
    "quantity (int).\n",
    "\n",
    "Your Python program should Connect to the MySQL database.\n",
    "\n",
    "Retrieve all records from the your table table. Calculate the total quantity of all records retrieved.\n",
    "\n",
    "iv. Update the quantity column of each record by doubling its value.\n",
    "\n",
    "Commit the changes to the database vi. Close the database connection.\n",
    "\n",
    "3. Handle any potential errors that may occur during the database connection and\n",
    "\n",
    "data manipulation, such as connection failures or SQL errors. 4. Provide comments in your code to explain each step."
   ]
  },
  {
   "cell_type": "code",
   "execution_count": 2,
   "id": "2c3c39e1",
   "metadata": {},
   "outputs": [
    {
     "name": "stdout",
     "output_type": "stream",
     "text": [
      "<mysql.connector.connection_cext.CMySQLConnection object at 0x00000233DDDC3D10>\n"
     ]
    }
   ],
   "source": [
    "import mysql.connector\n",
    "\n",
    "conn= mysql.connector.connect(user='root',\n",
    "                             password='Mysql@123',\n",
    "                             host='127.0.0.1',\n",
    "                             database='hello'\n",
    "                              )\n",
    "print(conn)\n"
   ]
  },
  {
   "cell_type": "code",
   "execution_count": 3,
   "id": "ee3ae3b6",
   "metadata": {},
   "outputs": [],
   "source": [
    "curs = conn.cursor()\n"
   ]
  },
  {
   "cell_type": "code",
   "execution_count": 4,
   "id": "9fb55df4",
   "metadata": {},
   "outputs": [
    {
     "data": {
      "text/plain": [
       "<mysql.connector.cursor_cext.CMySQLCursor at 0x233dca6eb10>"
      ]
     },
     "execution_count": 4,
     "metadata": {},
     "output_type": "execute_result"
    }
   ],
   "source": [
    "curs\n"
   ]
  },
  {
   "cell_type": "code",
   "execution_count": 24,
   "id": "261c2a46",
   "metadata": {},
   "outputs": [
    {
     "ename": "IndentationError",
     "evalue": "unindent does not match any outer indentation level (<tokenize>, line 26)",
     "output_type": "error",
     "traceback": [
      "\u001b[1;36m  File \u001b[1;32m<tokenize>:26\u001b[1;36m\u001b[0m\n\u001b[1;33m    create table wow(''''\u001b[0m\n\u001b[1;37m    ^\u001b[0m\n\u001b[1;31mIndentationError\u001b[0m\u001b[1;31m:\u001b[0m unindent does not match any outer indentation level\n"
     ]
    }
   ],
   "source": [
    "import mysql.connector\n",
    "\n",
    "try:\n",
    "\n",
    "    db_config = {\n",
    "        \"host\": \"localhost\",\n",
    "        \"port\": 3306,\n",
    "        \"user\": \"root\",\n",
    "        \"password\": \"Mysql@123\",\n",
    "        \"database\": \"hello\"\n",
    "    }\n",
    "\n",
    "    \n",
    "    connection = mysql.connector.connect(**db_config)\n",
    "\n",
    "    \n",
    "    cursor = connection.cursor()\n",
    "\n",
    "    \n",
    "    cursor.execute(\"SELECT id, name, quantity FROM wow_table\")\n",
    "    records = cursor.fetchall()\n",
    "\n",
    "    \n",
    "    total_quantity = sum(record[2] for record in records)\n",
    "    \n",
    "  create table wow(''''\n",
    "       sale_id integer primary key,\n",
    "       name varchar(40) not null,\n",
    "       quantity int not null )\n",
    "       \n",
    "'''\n",
    "       \n",
    "\n",
    "    \n",
    "    updated_records = [(record[0], record[2] * 2) for record in records]\n",
    "    update_query = \"UPDATE wow_table SET quantity = %s WHERE id = %s\"\n",
    "    cursor.executemany(update_query, updated_records)\n",
    "\n",
    "    \n",
    "    connection.commit()\n",
    "\n",
    "    \n",
    "    cursor.close()\n",
    "    connection.close()\n",
    "\n",
    "    print(\"Total quantity before doubling:\", total_quantity)\n",
    "    print(\"Database updated successfully.\")\n",
    "\n",
    "except mysql.connector.Error as e:\n",
    "    print(f\"Error: {e}\")\n",
    "except Exception as e:\n",
    "    print(f\"An unexpected error occurred: {e}\")\n"
   ]
  },
  {
   "cell_type": "code",
   "execution_count": null,
   "id": "1da702b9",
   "metadata": {},
   "outputs": [],
   "source": []
  },
  {
   "cell_type": "code",
   "execution_count": null,
   "id": "d3744937",
   "metadata": {},
   "outputs": [],
   "source": []
  }
 ],
 "metadata": {
  "kernelspec": {
   "display_name": "Python 3 (ipykernel)",
   "language": "python",
   "name": "python3"
  },
  "language_info": {
   "codemirror_mode": {
    "name": "ipython",
    "version": 3
   },
   "file_extension": ".py",
   "mimetype": "text/x-python",
   "name": "python",
   "nbconvert_exporter": "python",
   "pygments_lexer": "ipython3",
   "version": "3.11.4"
  }
 },
 "nbformat": 4,
 "nbformat_minor": 5
}
