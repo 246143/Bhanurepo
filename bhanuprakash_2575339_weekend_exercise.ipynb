{
 "cells": [
  {
   "cell_type": "markdown",
   "id": "a9c7aa7f",
   "metadata": {},
   "source": [
    "# 12. Build a command-line calculator that accepts a mathematical expression as a string argument and evaluates it, then prints the result."
   ]
  },
  {
   "cell_type": "code",
   "execution_count": 1,
   "id": "2375e9f4",
   "metadata": {},
   "outputs": [],
   "source": [
    "import sys\n",
    "\n",
    "def calculate(expression):\n",
    "    try:\n",
    "        result = eval(expression)\n",
    "        return result\n",
    "    except Exception as e:\n",
    "        return f\"Error: {e}\"\n",
    "\n",
    "\n",
    "    if len(sys.argv) != 2:\n",
    "        print(\"Usage: python calculator.py <expression>\")\n",
    "    else:\n",
    "        expression = sys.argv[1]\n",
    "        result = calculate(expression)\n",
    "        print(f\"Result: {result}\")\n",
    "\n"
   ]
  },
  {
   "cell_type": "code",
   "execution_count": 3,
   "id": "9fcc74ac",
   "metadata": {},
   "outputs": [
    {
     "name": "stdout",
     "output_type": "stream",
     "text": [
      "30\n"
     ]
    }
   ],
   "source": [
    "a=10\n",
    "b= 20\n",
    "c = a+b\n",
    "print(c)\n"
   ]
  },
  {
   "cell_type": "code",
   "execution_count": 4,
   "id": "71db4692",
   "metadata": {},
   "outputs": [
    {
     "data": {
      "text/plain": [
       "30"
      ]
     },
     "execution_count": 4,
     "metadata": {},
     "output_type": "execute_result"
    }
   ],
   "source": [
    "c\n"
   ]
  },
  {
   "cell_type": "markdown",
   "id": "2c3398c3",
   "metadata": {},
   "source": [
    "# 14. Write a Python script that takes two integer command-line arguments and prints their sum."
   ]
  },
  {
   "cell_type": "code",
   "execution_count": 1,
   "id": "c9a1540f",
   "metadata": {},
   "outputs": [
    {
     "name": "stdout",
     "output_type": "stream",
     "text": [
      "Both arguments must be integers\n"
     ]
    },
    {
     "ename": "AttributeError",
     "evalue": "'tuple' object has no attribute 'tb_frame'",
     "output_type": "error",
     "traceback": [
      "\u001b[1;31m---------------------------------------------------------------------------\u001b[0m",
      "\u001b[1;31mValueError\u001b[0m                                Traceback (most recent call last)",
      "Cell \u001b[1;32mIn[1], line 9\u001b[0m\n\u001b[0;32m      8\u001b[0m \u001b[38;5;28;01mtry\u001b[39;00m:\n\u001b[1;32m----> 9\u001b[0m     num1 \u001b[38;5;241m=\u001b[39m \u001b[38;5;28mint\u001b[39m(sys\u001b[38;5;241m.\u001b[39margv[\u001b[38;5;241m1\u001b[39m])\n\u001b[0;32m     10\u001b[0m     num2 \u001b[38;5;241m=\u001b[39m \u001b[38;5;28mint\u001b[39m(sys\u001b[38;5;241m.\u001b[39margv[\u001b[38;5;241m2\u001b[39m])\n",
      "\u001b[1;31mValueError\u001b[0m: invalid literal for int() with base 10: '-f'",
      "\nDuring handling of the above exception, another exception occurred:\n",
      "\u001b[1;31mSystemExit\u001b[0m                                Traceback (most recent call last)",
      "    \u001b[1;31m[... skipping hidden 1 frame]\u001b[0m\n",
      "Cell \u001b[1;32mIn[1], line 13\u001b[0m\n\u001b[0;32m     12\u001b[0m     \u001b[38;5;28mprint\u001b[39m(\u001b[38;5;124m\"\u001b[39m\u001b[38;5;124mBoth arguments must be integers\u001b[39m\u001b[38;5;124m\"\u001b[39m)\n\u001b[1;32m---> 13\u001b[0m     sys\u001b[38;5;241m.\u001b[39mexit(\u001b[38;5;241m1\u001b[39m)\n\u001b[0;32m     16\u001b[0m sum_result \u001b[38;5;241m=\u001b[39m num1 \u001b[38;5;241m+\u001b[39m num2\n",
      "\u001b[1;31mSystemExit\u001b[0m: 1",
      "\nDuring handling of the above exception, another exception occurred:\n",
      "\u001b[1;31mAttributeError\u001b[0m                            Traceback (most recent call last)",
      "    \u001b[1;31m[... skipping hidden 1 frame]\u001b[0m\n",
      "File \u001b[1;32m~\\anaconda3\\Lib\\site-packages\\IPython\\core\\interactiveshell.py:2092\u001b[0m, in \u001b[0;36mInteractiveShell.showtraceback\u001b[1;34m(self, exc_tuple, filename, tb_offset, exception_only, running_compiled_code)\u001b[0m\n\u001b[0;32m   2089\u001b[0m \u001b[38;5;28;01mif\u001b[39;00m exception_only:\n\u001b[0;32m   2090\u001b[0m     stb \u001b[38;5;241m=\u001b[39m [\u001b[38;5;124m'\u001b[39m\u001b[38;5;124mAn exception has occurred, use \u001b[39m\u001b[38;5;124m%\u001b[39m\u001b[38;5;124mtb to see \u001b[39m\u001b[38;5;124m'\u001b[39m\n\u001b[0;32m   2091\u001b[0m            \u001b[38;5;124m'\u001b[39m\u001b[38;5;124mthe full traceback.\u001b[39m\u001b[38;5;130;01m\\n\u001b[39;00m\u001b[38;5;124m'\u001b[39m]\n\u001b[1;32m-> 2092\u001b[0m     stb\u001b[38;5;241m.\u001b[39mextend(\u001b[38;5;28mself\u001b[39m\u001b[38;5;241m.\u001b[39mInteractiveTB\u001b[38;5;241m.\u001b[39mget_exception_only(etype,\n\u001b[0;32m   2093\u001b[0m                                                      value))\n\u001b[0;32m   2094\u001b[0m \u001b[38;5;28;01melse\u001b[39;00m:\n\u001b[0;32m   2095\u001b[0m     \u001b[38;5;28;01mtry\u001b[39;00m:\n\u001b[0;32m   2096\u001b[0m         \u001b[38;5;66;03m# Exception classes can customise their traceback - we\u001b[39;00m\n\u001b[0;32m   2097\u001b[0m         \u001b[38;5;66;03m# use this in IPython.parallel for exceptions occurring\u001b[39;00m\n\u001b[0;32m   2098\u001b[0m         \u001b[38;5;66;03m# in the engines. This should return a list of strings.\u001b[39;00m\n",
      "File \u001b[1;32m~\\anaconda3\\Lib\\site-packages\\IPython\\core\\ultratb.py:644\u001b[0m, in \u001b[0;36mListTB.get_exception_only\u001b[1;34m(self, etype, value)\u001b[0m\n\u001b[0;32m    636\u001b[0m \u001b[38;5;28;01mdef\u001b[39;00m \u001b[38;5;21mget_exception_only\u001b[39m(\u001b[38;5;28mself\u001b[39m, etype, value):\n\u001b[0;32m    637\u001b[0m \u001b[38;5;250m    \u001b[39m\u001b[38;5;124;03m\"\"\"Only print the exception type and message, without a traceback.\u001b[39;00m\n\u001b[0;32m    638\u001b[0m \n\u001b[0;32m    639\u001b[0m \u001b[38;5;124;03m    Parameters\u001b[39;00m\n\u001b[1;32m   (...)\u001b[0m\n\u001b[0;32m    642\u001b[0m \u001b[38;5;124;03m    value : exception value\u001b[39;00m\n\u001b[0;32m    643\u001b[0m \u001b[38;5;124;03m    \"\"\"\u001b[39;00m\n\u001b[1;32m--> 644\u001b[0m     \u001b[38;5;28;01mreturn\u001b[39;00m ListTB\u001b[38;5;241m.\u001b[39mstructured_traceback(\u001b[38;5;28mself\u001b[39m, etype, value)\n",
      "File \u001b[1;32m~\\anaconda3\\Lib\\site-packages\\IPython\\core\\ultratb.py:511\u001b[0m, in \u001b[0;36mListTB.structured_traceback\u001b[1;34m(self, etype, evalue, etb, tb_offset, context)\u001b[0m\n\u001b[0;32m    508\u001b[0m     chained_exc_ids\u001b[38;5;241m.\u001b[39madd(\u001b[38;5;28mid\u001b[39m(exception[\u001b[38;5;241m1\u001b[39m]))\n\u001b[0;32m    509\u001b[0m     chained_exceptions_tb_offset \u001b[38;5;241m=\u001b[39m \u001b[38;5;241m0\u001b[39m\n\u001b[0;32m    510\u001b[0m     out_list \u001b[38;5;241m=\u001b[39m (\n\u001b[1;32m--> 511\u001b[0m         \u001b[38;5;28mself\u001b[39m\u001b[38;5;241m.\u001b[39mstructured_traceback(\n\u001b[0;32m    512\u001b[0m             etype, evalue, (etb, chained_exc_ids),\n\u001b[0;32m    513\u001b[0m             chained_exceptions_tb_offset, context)\n\u001b[0;32m    514\u001b[0m         \u001b[38;5;241m+\u001b[39m chained_exception_message\n\u001b[0;32m    515\u001b[0m         \u001b[38;5;241m+\u001b[39m out_list)\n\u001b[0;32m    517\u001b[0m \u001b[38;5;28;01mreturn\u001b[39;00m out_list\n",
      "File \u001b[1;32m~\\anaconda3\\Lib\\site-packages\\IPython\\core\\ultratb.py:1310\u001b[0m, in \u001b[0;36mAutoFormattedTB.structured_traceback\u001b[1;34m(self, etype, value, tb, tb_offset, number_of_lines_of_context)\u001b[0m\n\u001b[0;32m   1308\u001b[0m \u001b[38;5;28;01melse\u001b[39;00m:\n\u001b[0;32m   1309\u001b[0m     \u001b[38;5;28mself\u001b[39m\u001b[38;5;241m.\u001b[39mtb \u001b[38;5;241m=\u001b[39m tb\n\u001b[1;32m-> 1310\u001b[0m \u001b[38;5;28;01mreturn\u001b[39;00m FormattedTB\u001b[38;5;241m.\u001b[39mstructured_traceback(\n\u001b[0;32m   1311\u001b[0m     \u001b[38;5;28mself\u001b[39m, etype, value, tb, tb_offset, number_of_lines_of_context)\n",
      "File \u001b[1;32m~\\anaconda3\\Lib\\site-packages\\IPython\\core\\ultratb.py:1199\u001b[0m, in \u001b[0;36mFormattedTB.structured_traceback\u001b[1;34m(self, etype, value, tb, tb_offset, number_of_lines_of_context)\u001b[0m\n\u001b[0;32m   1196\u001b[0m mode \u001b[38;5;241m=\u001b[39m \u001b[38;5;28mself\u001b[39m\u001b[38;5;241m.\u001b[39mmode\n\u001b[0;32m   1197\u001b[0m \u001b[38;5;28;01mif\u001b[39;00m mode \u001b[38;5;129;01min\u001b[39;00m \u001b[38;5;28mself\u001b[39m\u001b[38;5;241m.\u001b[39mverbose_modes:\n\u001b[0;32m   1198\u001b[0m     \u001b[38;5;66;03m# Verbose modes need a full traceback\u001b[39;00m\n\u001b[1;32m-> 1199\u001b[0m     \u001b[38;5;28;01mreturn\u001b[39;00m VerboseTB\u001b[38;5;241m.\u001b[39mstructured_traceback(\n\u001b[0;32m   1200\u001b[0m         \u001b[38;5;28mself\u001b[39m, etype, value, tb, tb_offset, number_of_lines_of_context\n\u001b[0;32m   1201\u001b[0m     )\n\u001b[0;32m   1202\u001b[0m \u001b[38;5;28;01melif\u001b[39;00m mode \u001b[38;5;241m==\u001b[39m \u001b[38;5;124m'\u001b[39m\u001b[38;5;124mMinimal\u001b[39m\u001b[38;5;124m'\u001b[39m:\n\u001b[0;32m   1203\u001b[0m     \u001b[38;5;28;01mreturn\u001b[39;00m ListTB\u001b[38;5;241m.\u001b[39mget_exception_only(\u001b[38;5;28mself\u001b[39m, etype, value)\n",
      "File \u001b[1;32m~\\anaconda3\\Lib\\site-packages\\IPython\\core\\ultratb.py:1052\u001b[0m, in \u001b[0;36mVerboseTB.structured_traceback\u001b[1;34m(self, etype, evalue, etb, tb_offset, number_of_lines_of_context)\u001b[0m\n\u001b[0;32m   1043\u001b[0m \u001b[38;5;28;01mdef\u001b[39;00m \u001b[38;5;21mstructured_traceback\u001b[39m(\n\u001b[0;32m   1044\u001b[0m     \u001b[38;5;28mself\u001b[39m,\n\u001b[0;32m   1045\u001b[0m     etype: \u001b[38;5;28mtype\u001b[39m,\n\u001b[1;32m   (...)\u001b[0m\n\u001b[0;32m   1049\u001b[0m     number_of_lines_of_context: \u001b[38;5;28mint\u001b[39m \u001b[38;5;241m=\u001b[39m \u001b[38;5;241m5\u001b[39m,\n\u001b[0;32m   1050\u001b[0m ):\n\u001b[0;32m   1051\u001b[0m \u001b[38;5;250m    \u001b[39m\u001b[38;5;124;03m\"\"\"Return a nice text document describing the traceback.\"\"\"\u001b[39;00m\n\u001b[1;32m-> 1052\u001b[0m     formatted_exception \u001b[38;5;241m=\u001b[39m \u001b[38;5;28mself\u001b[39m\u001b[38;5;241m.\u001b[39mformat_exception_as_a_whole(etype, evalue, etb, number_of_lines_of_context,\n\u001b[0;32m   1053\u001b[0m                                                            tb_offset)\n\u001b[0;32m   1055\u001b[0m     colors \u001b[38;5;241m=\u001b[39m \u001b[38;5;28mself\u001b[39m\u001b[38;5;241m.\u001b[39mColors  \u001b[38;5;66;03m# just a shorthand + quicker name lookup\u001b[39;00m\n\u001b[0;32m   1056\u001b[0m     colorsnormal \u001b[38;5;241m=\u001b[39m colors\u001b[38;5;241m.\u001b[39mNormal  \u001b[38;5;66;03m# used a lot\u001b[39;00m\n",
      "File \u001b[1;32m~\\anaconda3\\Lib\\site-packages\\IPython\\core\\ultratb.py:953\u001b[0m, in \u001b[0;36mVerboseTB.format_exception_as_a_whole\u001b[1;34m(self, etype, evalue, etb, number_of_lines_of_context, tb_offset)\u001b[0m\n\u001b[0;32m    950\u001b[0m \u001b[38;5;28;01massert\u001b[39;00m \u001b[38;5;28misinstance\u001b[39m(tb_offset, \u001b[38;5;28mint\u001b[39m)\n\u001b[0;32m    951\u001b[0m head \u001b[38;5;241m=\u001b[39m \u001b[38;5;28mself\u001b[39m\u001b[38;5;241m.\u001b[39mprepare_header(etype, \u001b[38;5;28mself\u001b[39m\u001b[38;5;241m.\u001b[39mlong_header)\n\u001b[0;32m    952\u001b[0m records \u001b[38;5;241m=\u001b[39m (\n\u001b[1;32m--> 953\u001b[0m     \u001b[38;5;28mself\u001b[39m\u001b[38;5;241m.\u001b[39mget_records(etb, number_of_lines_of_context, tb_offset) \u001b[38;5;28;01mif\u001b[39;00m etb \u001b[38;5;28;01melse\u001b[39;00m []\n\u001b[0;32m    954\u001b[0m )\n\u001b[0;32m    956\u001b[0m frames \u001b[38;5;241m=\u001b[39m []\n\u001b[0;32m    957\u001b[0m skipped \u001b[38;5;241m=\u001b[39m \u001b[38;5;241m0\u001b[39m\n",
      "File \u001b[1;32m~\\anaconda3\\Lib\\site-packages\\IPython\\core\\ultratb.py:1021\u001b[0m, in \u001b[0;36mVerboseTB.get_records\u001b[1;34m(self, etb, number_of_lines_of_context, tb_offset)\u001b[0m\n\u001b[0;32m   1019\u001b[0m \u001b[38;5;28;01mwhile\u001b[39;00m cf \u001b[38;5;129;01mis\u001b[39;00m \u001b[38;5;129;01mnot\u001b[39;00m \u001b[38;5;28;01mNone\u001b[39;00m:\n\u001b[0;32m   1020\u001b[0m     \u001b[38;5;28;01mtry\u001b[39;00m:\n\u001b[1;32m-> 1021\u001b[0m         source_file \u001b[38;5;241m=\u001b[39m inspect\u001b[38;5;241m.\u001b[39mgetsourcefile(etb\u001b[38;5;241m.\u001b[39mtb_frame)\n\u001b[0;32m   1022\u001b[0m         lines, first \u001b[38;5;241m=\u001b[39m inspect\u001b[38;5;241m.\u001b[39mgetsourcelines(etb\u001b[38;5;241m.\u001b[39mtb_frame)\n\u001b[0;32m   1023\u001b[0m     \u001b[38;5;28;01mexcept\u001b[39;00m \u001b[38;5;167;01mOSError\u001b[39;00m:\n",
      "\u001b[1;31mAttributeError\u001b[0m: 'tuple' object has no attribute 'tb_frame'"
     ]
    }
   ],
   "source": [
    "import sys\n",
    "\n",
    "\n",
    "if len(sys.argv) != 3:\n",
    "    print(\"Usage: python script_name.py <integer1> <integer2>\")\n",
    "    sys.exit(1)\n",
    "\n",
    "try:\n",
    "    num1 = int(sys.argv[1])\n",
    "    num2 = int(sys.argv[2])\n",
    "except ValueError:\n",
    "    print(\"Both arguments must be integers\")\n",
    "    sys.exit(1)\n",
    "\n",
    "\n",
    "sum_result = num1 + num2\n",
    "print(f\"The sum of {num1} and {num2} is: {sum_result}\")"
   ]
  },
  {
   "cell_type": "markdown",
   "id": "23348751",
   "metadata": {},
   "source": [
    "# 6. Read a text file containing a list of names or numbers, sort the data, and write the sorted data back to a new file."
   ]
  },
  {
   "cell_type": "code",
   "execution_count": 1,
   "id": "f6e5c54d",
   "metadata": {},
   "outputs": [
    {
     "name": "stdout",
     "output_type": "stream",
     "text": [
      "Data sorted and written to output.txt\n"
     ]
    }
   ],
   "source": [
    "def sort_and_write(input_file, output_file):\n",
    "    try:\n",
    "        # Read data from the input file\n",
    "        with open(input_file, 'r') as file:\n",
    "            data = file.readlines()\n",
    "\n",
    "        # Sort the data\n",
    "        sorted_data = sorted(data)\n",
    "\n",
    "        # Write the sorted data to the output file\n",
    "        with open(output_file, 'w') as file:\n",
    "            file.writelines(sorted_data)\n",
    "\n",
    "        print(f\"Data sorted and written to {output_file}\")\n",
    "\n",
    "    except FileNotFoundError:\n",
    "        print(\"Error: Input file not found.\")\n",
    "    except Exception as e:\n",
    "        print(f\"Error: {e}\")\n",
    "\n",
    "\n",
    "    input_file = \"input.txt\"  \n",
    "    output_file = \"output.txt\"  \n",
    "\n",
    "    sort_and_write(input_file, output_file)\n"
   ]
  },
  {
   "cell_type": "markdown",
   "id": "4c00cfef",
   "metadata": {},
   "source": [
    "# 7. Write a Python script that compares two text files and identifies the differences between them, including added, modified, and deleted lines"
   ]
  },
  {
   "cell_type": "code",
   "execution_count": 2,
   "id": "893ecb29",
   "metadata": {},
   "outputs": [
    {
     "name": "stdout",
     "output_type": "stream",
     "text": [
      "Added Lines:\n",
      "85\n",
      "\n",
      "97\n",
      "\n",
      "458\n",
      "\n",
      "45\n",
      "\n",
      "hai mphasis\n",
      "\n",
      "Modified Lines:\n",
      "\n",
      "Deleted Lines:\n",
      "12\n",
      "\n",
      "24\n",
      "\n",
      "56\n",
      "\n",
      "78\n",
      "\n",
      "hello\n",
      "\n"
     ]
    }
   ],
   "source": [
    "import difflib\n",
    "\n",
    "def compare_files(file1_path, file2_path):\n",
    "    try:\n",
    "        \n",
    "        with open(file1_path, 'r', encoding='utf-8') as file1:\n",
    "            file1_lines = file1.readlines()\n",
    "\n",
    "        with open(file2_path, 'r', encoding='utf-8') as file2:\n",
    "            file2_lines = file2.readlines()\n",
    "\n",
    "        \n",
    "        differ = difflib.Differ()\n",
    "        differences = list(differ.compare(file1_lines, file2_lines))\n",
    "\n",
    "        \n",
    "        added_lines = [line for line in differences if line.startswith('+ ')]\n",
    "        modified_lines = [line for line in differences if line.startswith('? ')]\n",
    "        deleted_lines = [line for line in differences if line.startswith('- ')]\n",
    "\n",
    "        return added_lines, modified_lines, deleted_lines\n",
    "\n",
    "    except FileNotFoundError:\n",
    "        return \"Error: One or both files not found.\"\n",
    "    except Exception as e:\n",
    "        return f\"Error: {e}\"\n",
    "\n",
    "\n",
    "    file1_path = \"file1.txt\"  \n",
    "    file2_path = \"file2.txt\"  \n",
    "\n",
    "    added, modified, deleted = compare_files(file1_path, file2_path)\n",
    "\n",
    "    if isinstance(added, list):\n",
    "        print(\"Added Lines:\")\n",
    "        for line in added:\n",
    "            print(line[2:])\n",
    "\n",
    "        print(\"\\nModified Lines:\")\n",
    "        for line in modified:\n",
    "            print(line[2:])\n",
    "\n",
    "        print(\"\\nDeleted Lines:\")\n",
    "        for line in deleted:\n",
    "            print(line[2:])\n",
    "    else:\n",
    "        print(added)\n"
   ]
  },
  {
   "cell_type": "markdown",
   "id": "0648e39b",
   "metadata": {},
   "source": [
    "# 10. Write a python program to Combine the contents of multiple text files into a single file using Python. Each file should be appended to the end of the resulting file"
   ]
  },
  {
   "cell_type": "code",
   "execution_count": 4,
   "id": "5dafffe2",
   "metadata": {},
   "outputs": [
    {
     "name": "stdout",
     "output_type": "stream",
     "text": [
      "Files combined into 'combined.txt'\n"
     ]
    }
   ],
   "source": [
    "def combine_files(input_files, output_file):\n",
    "    try:\n",
    "        with open(output_file, 'w', encoding='utf-8') as output:\n",
    "            for input_file in input_files:\n",
    "                with open(input_file, 'r', encoding='utf-8') as input:\n",
    "                    output.write(input.read())\n",
    "                    output.write(\"\\n\")  # Add a newline between files\n",
    "                \n",
    "        print(f\"Files combined into '{output_file}'\")\n",
    "\n",
    "    except FileNotFoundError:\n",
    "        print(\"Error: One or more input files not found.\")\n",
    "    except Exception as e:\n",
    "        print(f\"Error: {e}\")\n",
    "\n",
    "if __name__ == \"__main__\":\n",
    "    input_files = [\"file1.txt\", \"file2.txt\", \"file3.txt\"]  # Replace with the list of input file paths\n",
    "    output_file = \"combined.txt\"  # Replace with the desired output file name\n",
    "\n",
    "    combine_files(input_files, output_file)\n"
   ]
  },
  {
   "cell_type": "markdown",
   "id": "d4a7a36c",
   "metadata": {},
   "source": [
    "# 8. Develop a Python program that compresses a large text file using a compression algorithm (eg, gzip) and then decompresses it back to its original form."
   ]
  },
  {
   "cell_type": "code",
   "execution_count": 5,
   "id": "50c6ad8b",
   "metadata": {},
   "outputs": [
    {
     "name": "stdout",
     "output_type": "stream",
     "text": [
      "File 'input.txt' compressed to 'compressed.gz'\n",
      "File 'compressed.gz' decompressed to 'decompressed.txt'\n"
     ]
    }
   ],
   "source": [
    "import gzip\n",
    "import shutil\n",
    "\n",
    "def compress_file(input_file, compressed_file):\n",
    "    try:\n",
    "        with open(input_file, 'rb') as file_in:\n",
    "            with gzip.open(compressed_file, 'wb') as file_out:\n",
    "                shutil.copyfileobj(file_in, file_out)\n",
    "\n",
    "        print(f\"File '{input_file}' compressed to '{compressed_file}'\")\n",
    "\n",
    "    except FileNotFoundError:\n",
    "        print(\"Error: Input file not found.\")\n",
    "    except Exception as e:\n",
    "        print(f\"Error: {e}\")\n",
    "\n",
    "def decompress_file(compressed_file, output_file):\n",
    "    try:\n",
    "        with gzip.open(compressed_file, 'rb') as file_in:\n",
    "            with open(output_file, 'wb') as file_out:\n",
    "                shutil.copyfileobj(file_in, file_out)\n",
    "\n",
    "        print(f\"File '{compressed_file}' decompressed to '{output_file}'\")\n",
    "\n",
    "    except FileNotFoundError:\n",
    "        print(\"Error: Compressed file not found.\")\n",
    "    except Exception as e:\n",
    "        print(f\"Error: {e}\")\n",
    "\n",
    "if __name__ == \"__main__\":\n",
    "    input_file = \"input.txt\" \n",
    "    compressed_file = \"compressed.gz\"  \n",
    "    decompressed_file = \"decompressed.txt\"  \n",
    "\n",
    "    \n",
    "    compress_file(input_file, compressed_file)\n",
    "\n",
    "    \n",
    "    decompress_file(compressed_file, decompressed_file)\n"
   ]
  },
  {
   "cell_type": "markdown",
   "id": "0f753e78",
   "metadata": {},
   "source": [
    "# 9. Read a binary file (e.g., an image or audio file) in Python and perform an operation, such as resizing an image or modifying audio data."
   ]
  },
  {
   "cell_type": "code",
   "execution_count": 16,
   "id": "4bbd4205",
   "metadata": {},
   "outputs": [
    {
     "ename": "PermissionError",
     "evalue": "[Errno 13] Permission denied: 'inputimage.jpg'",
     "output_type": "error",
     "traceback": [
      "\u001b[1;31m---------------------------------------------------------------------------\u001b[0m",
      "\u001b[1;31mPermissionError\u001b[0m                           Traceback (most recent call last)",
      "Cell \u001b[1;32mIn[16], line 4\u001b[0m\n\u001b[0;32m      1\u001b[0m \u001b[38;5;28;01mfrom\u001b[39;00m \u001b[38;5;21;01mPIL\u001b[39;00m \u001b[38;5;28;01mimport\u001b[39;00m Image\n\u001b[1;32m----> 4\u001b[0m \u001b[38;5;28;01mwith\u001b[39;00m \u001b[38;5;28mopen\u001b[39m(\u001b[38;5;124m'\u001b[39m\u001b[38;5;124minputimage.jpg\u001b[39m\u001b[38;5;124m'\u001b[39m, \u001b[38;5;124m'\u001b[39m\u001b[38;5;124mrb\u001b[39m\u001b[38;5;124m'\u001b[39m) \u001b[38;5;28;01mas\u001b[39;00m file:\n\u001b[0;32m      6\u001b[0m     image \u001b[38;5;241m=\u001b[39m Image\u001b[38;5;241m.\u001b[39mopen(file)\n\u001b[0;32m      9\u001b[0m     new_size \u001b[38;5;241m=\u001b[39m (\u001b[38;5;241m300\u001b[39m, \u001b[38;5;241m300\u001b[39m)  \n",
      "File \u001b[1;32m~\\anaconda3\\Lib\\site-packages\\IPython\\core\\interactiveshell.py:284\u001b[0m, in \u001b[0;36m_modified_open\u001b[1;34m(file, *args, **kwargs)\u001b[0m\n\u001b[0;32m    277\u001b[0m \u001b[38;5;28;01mif\u001b[39;00m file \u001b[38;5;129;01min\u001b[39;00m {\u001b[38;5;241m0\u001b[39m, \u001b[38;5;241m1\u001b[39m, \u001b[38;5;241m2\u001b[39m}:\n\u001b[0;32m    278\u001b[0m     \u001b[38;5;28;01mraise\u001b[39;00m \u001b[38;5;167;01mValueError\u001b[39;00m(\n\u001b[0;32m    279\u001b[0m         \u001b[38;5;124mf\u001b[39m\u001b[38;5;124m\"\u001b[39m\u001b[38;5;124mIPython won\u001b[39m\u001b[38;5;124m'\u001b[39m\u001b[38;5;124mt let you open fd=\u001b[39m\u001b[38;5;132;01m{\u001b[39;00mfile\u001b[38;5;132;01m}\u001b[39;00m\u001b[38;5;124m by default \u001b[39m\u001b[38;5;124m\"\u001b[39m\n\u001b[0;32m    280\u001b[0m         \u001b[38;5;124m\"\u001b[39m\u001b[38;5;124mas it is likely to crash IPython. If you know what you are doing, \u001b[39m\u001b[38;5;124m\"\u001b[39m\n\u001b[0;32m    281\u001b[0m         \u001b[38;5;124m\"\u001b[39m\u001b[38;5;124myou can use builtins\u001b[39m\u001b[38;5;124m'\u001b[39m\u001b[38;5;124m open.\u001b[39m\u001b[38;5;124m\"\u001b[39m\n\u001b[0;32m    282\u001b[0m     )\n\u001b[1;32m--> 284\u001b[0m \u001b[38;5;28;01mreturn\u001b[39;00m io_open(file, \u001b[38;5;241m*\u001b[39margs, \u001b[38;5;241m*\u001b[39m\u001b[38;5;241m*\u001b[39mkwargs)\n",
      "\u001b[1;31mPermissionError\u001b[0m: [Errno 13] Permission denied: 'inputimage.jpg'"
     ]
    }
   ],
   "source": [
    "from PIL import Image\n",
    "\n",
    "\n",
    "with open('inputimage.jpg', 'rb') as file:\n",
    "    \n",
    "    image = Image.open(file)\n",
    "    \n",
    "    \n",
    "    new_size = (300, 300)  \n",
    "\n",
    "    resizedimage = image.resize(new_size)\n",
    "    \n",
    "    \n",
    "    resizedimage.save('outputimage.jpg')\n"
   ]
  },
  {
   "cell_type": "markdown",
   "id": "35df185b",
   "metadata": {},
   "source": [
    "# 15. Create a custom Python module that includes functions to calculate the factorial of a number and to check if a number is prime. Import and use this module in another Python script."
   ]
  },
  {
   "cell_type": "code",
   "execution_count": 8,
   "id": "1ef766e6",
   "metadata": {},
   "outputs": [],
   "source": [
    "def factorial(n):\n",
    "    \"\"\"Calculate the factorial of a number.\"\"\"\n",
    "    if n < 0:\n",
    "        return None \n",
    "    elif n == 0:\n",
    "        return 1\n",
    "    else:\n",
    "        result = 1\n",
    "        for i in range(1, n + 1):\n",
    "            result *= i\n",
    "        return result\n",
    "\n",
    "def is_prime(n):\n",
    "    \"\"\"Check if a number is prime.\"\"\"\n",
    "    if n <= 1:\n",
    "        return False\n",
    "    elif n <= 3:\n",
    "        return True\n",
    "    elif n % 2 == 0 or n % 3 == 0:\n",
    "        return False\n",
    "    i = 5\n",
    "    while i * i <= n:\n",
    "        if n % i == 0 or n % (i + 2) == 0:\n",
    "            return False\n",
    "        i += 6\n",
    "    return True\n",
    "\n",
    "\n"
   ]
  },
  {
   "cell_type": "code",
   "execution_count": 6,
   "id": "d9c6a28e",
   "metadata": {},
   "outputs": [
    {
     "name": "stdout",
     "output_type": "stream",
     "text": [
      "The factorial of 5 is 120\n",
      "17 is a prime number.\n"
     ]
    }
   ],
   "source": [
    "import mathoperations\n",
    "\n",
    "\n",
    "number = 5\n",
    "fact_result = mathoperations.factorial(number)\n",
    "if fact_result is not None:\n",
    "    print(f\"The factorial of {number} is {fact_result}\")\n",
    "else:\n",
    "    print(\"Factorial is not defined for negative numbers.\")\n",
    "\n",
    "\n",
    "num = 17\n",
    "if mathoperations.is_prime(num):\n",
    "    print(f\"{num} is a prime number.\")\n",
    "else:\n",
    "    print(f\"{num} is not a prime number.\")\n"
   ]
  },
  {
   "cell_type": "markdown",
   "id": "780869b4",
   "metadata": {},
   "source": [
    "# 16. Create a Python module named calculator.py that contains functions for each of the four operations (addition, subtraction, multiplication, and division). Each function should take two arguments, perform the respective operation, and return the result."
   ]
  },
  {
   "cell_type": "code",
   "execution_count": null,
   "id": "a425ee4a",
   "metadata": {},
   "outputs": [],
   "source": [
    "\n"
   ]
  },
  {
   "cell_type": "code",
   "execution_count": 17,
   "id": "72e548b8",
   "metadata": {},
   "outputs": [
    {
     "name": "stdout",
     "output_type": "stream",
     "text": [
      "Addition: 8\n",
      "Subtraction: 6\n",
      "Multiplication: 42\n",
      "Division: 4.0\n",
      "Addition: 8\n",
      "Subtraction: 6\n",
      "Multiplication: 42\n",
      "Division: 4.0\n"
     ]
    }
   ],
   "source": [
    "\n",
    "import calculator\n",
    "\n",
    "def add(x , y):\n",
    "    \"\"\"Addition function.\"\"\"\n",
    "    return x + y\n",
    "\n",
    "def subtract(x, y):\n",
    "    \"\"\"Subtraction function.\"\"\"\n",
    "    return x - y\n",
    "\n",
    "def multiply(x, y):\n",
    "    \"\"\"Multiplication function.\"\"\"\n",
    "    return x * y\n",
    "\n",
    "def divide(x, y):\n",
    "    \"\"\"Division function.\"\"\"\n",
    "    if y == 0:\n",
    "        raise ValueError(\"Division by zero is not allowed\")\n",
    "    return x / y\n",
    "\n",
    "\n",
    "result_add = calculator.add(5, 3)\n",
    "result_subtract = calculator.subtract(10, 4)\n",
    "result_multiply = calculator.multiply(6, 7)\n",
    "result_divide = calculator.divide(8, 2)\n",
    "\n",
    "print(\"Addition:\", result_add)\n",
    "print(\"Subtraction:\", result_subtract)\n",
    "print(\"Multiplication:\", result_multiply)\n",
    "print(\"Division:\", result_divide)\n"
   ]
  },
  {
   "cell_type": "markdown",
   "id": "5e60b658",
   "metadata": {},
   "source": [
    "# 11. Create a Python script that accepts a text file as a command-line argument and counts thenumber of words, lines, and characters in the file."
   ]
  },
  {
   "cell_type": "code",
   "execution_count": 23,
   "id": "12f1bbe2",
   "metadata": {},
   "outputs": [
    {
     "name": "stdout",
     "output_type": "stream",
     "text": [
      "Usage: python script.py filename\n"
     ]
    }
   ],
   "source": [
    "import sys\n",
    "\n",
    "def count_file_stats(filename):\n",
    "    try:\n",
    "        with open(filename, 'r') as file:\n",
    "            content = file.read()\n",
    "\n",
    "            \n",
    "            lines = content.split('\\n')\n",
    "            num_lines = len(lines)\n",
    "\n",
    "            \n",
    "            words = content.split()\n",
    "            num_words = len(words)\n",
    "\n",
    "            \n",
    "            num_chars = len(content)\n",
    "\n",
    "            print(f\"Number of lines: {num_lines}\")\n",
    "            print(f\"Number of words: {num_words}\")\n",
    "            print(f\"Number of characters: {num_chars}\")\n",
    "\n",
    "    except FileNotFoundError:\n",
    "        print(f\"File '{filename}' not found.\")\n",
    "    except Exception as e:\n",
    "        print(f\"An error occurred: {e}\")\n",
    "\n",
    "if __name__ == \"__main__\":\n",
    "    if len(sys.argv) != 2:\n",
    "        print(\"Usage: python script.py filename\")\n",
    "    else:\n",
    "        filename = sys.argv[1]\n",
    "        count_file_stats(filename)\n"
   ]
  },
  {
   "cell_type": "code",
   "execution_count": 24,
   "id": "d45dc7d6",
   "metadata": {},
   "outputs": [],
   "source": [
    "a= 10\n",
    "b=20\n",
    "c= a+ b\n"
   ]
  },
  {
   "cell_type": "code",
   "execution_count": 25,
   "id": "9a0d2e3e",
   "metadata": {},
   "outputs": [
    {
     "name": "stdout",
     "output_type": "stream",
     "text": [
      "30\n"
     ]
    }
   ],
   "source": [
    "print(c)"
   ]
  },
  {
   "cell_type": "markdown",
   "id": "7b3d04a0",
   "metadata": {},
   "source": [
    "# 2. Create a Python function that checks if two given strings are anagrams of each other"
   ]
  },
  {
   "cell_type": "code",
   "execution_count": 28,
   "id": "4b12a5df",
   "metadata": {},
   "outputs": [
    {
     "name": "stdout",
     "output_type": "stream",
     "text": [
      "'govind pavan dharshan' and 'dharshan pavan govind' are anagrams: True\n"
     ]
    }
   ],
   "source": [
    "def are_anagrams(str1, str2):\n",
    "    \n",
    "    str1 = str1.replace(\" \", \"\").lower()\n",
    "    str2 = str2.replace(\" \", \"\").lower()\n",
    "\n",
    "    \n",
    "    if len(str1) != len(str2):\n",
    "        return False\n",
    "\n",
    "    \n",
    "    char_count1 = {}\n",
    "    char_count2 = {}\n",
    "\n",
    "    for char in str1:\n",
    "        char_count1[char] = char_count1.get(char, 0) + 1\n",
    "\n",
    "    for char in str2:\n",
    "        char_count2[char] = char_count2.get(char, 0) + 1\n",
    "\n",
    "    \n",
    "    return char_count1 == char_count2\n",
    "\n",
    "\n",
    "str1 = \"govind pavan dharshan\"\n",
    "str2 = \"dharshan pavan govind\"\n",
    "result = are_anagrams(str1, str2)\n",
    "print(f\"'{str1}' and '{str2}' are anagrams: {result}\")  \n"
   ]
  },
  {
   "cell_type": "markdown",
   "id": "41330a94",
   "metadata": {},
   "source": [
    "# 3. Create a Python function that checks if two given strings are anagrams of each other"
   ]
  },
  {
   "cell_type": "code",
   "execution_count": 30,
   "id": "52c8d20d",
   "metadata": {},
   "outputs": [
    {
     "name": "stdout",
     "output_type": "stream",
     "text": [
      "'bhanu' and 'unahb' are anagrams: True\n"
     ]
    }
   ],
   "source": [
    "def are_anagrams(str1, str2):\n",
    "    \n",
    "    str1 = str1.replace(\" \", \"\").lower()\n",
    "    str2 = str2.replace(\" \", \"\").lower()\n",
    "\n",
    "    \n",
    "    if len(str1) != len(str2):\n",
    "        return False\n",
    "\n",
    "    \n",
    "    char_count1 = {}\n",
    "    char_count2 = {}\n",
    "\n",
    "    for char in str1:\n",
    "        char_count1[char] = char_count1.get(char, 0) + 1\n",
    "\n",
    "    for char in str2:\n",
    "        char_count2[char] = char_count2.get(char, 0) + 1\n",
    "\n",
    "    \n",
    "    return char_count1 == char_count2\n",
    "\n",
    "\n",
    "str1 = \"bhanu\"\n",
    "str2 = \"unahb\"\n",
    "result = are_anagrams(str1, str2)\n",
    "print(f\"'{str1}' and '{str2}' are anagrams: {result}\")  "
   ]
  },
  {
   "cell_type": "markdown",
   "id": "15335d51",
   "metadata": {},
   "source": [
    "# 13. Implement a Python script that takes a CSV file and two column names as command-line arguments. The script should calculate the average of values in one column and store the result in another column in the same file."
   ]
  },
  {
   "cell_type": "code",
   "execution_count": 2,
   "id": "d00ca9a3",
   "metadata": {},
   "outputs": [
    {
     "name": "stdout",
     "output_type": "stream",
     "text": [
      "Usage: python script.py input_file output_file source_column target_column\n"
     ]
    }
   ],
   "source": [
    "import pandas as pd\n",
    "import sys\n",
    "\n",
    "def calculate_average(input_file, output_file, source_column, target_column):\n",
    "    try:\n",
    "        \n",
    "        df = pd.read_csv(input_file)\n",
    "\n",
    "    \n",
    "        avg_value = df[source_column].mean()\n",
    "\n",
    "        \n",
    "        df[target_column] = avg_value\n",
    "\n",
    "\n",
    "        df.to_csv(output_file, index=False)\n",
    "\n",
    "        print(f\"Average of '{source_column}' column calculated and saved to '{target_column}' column in '{output_file}'\")\n",
    "\n",
    "    except FileNotFoundError:\n",
    "        print(f\"File '{input_file}' not found.\")\n",
    "    except Exception as e:\n",
    "        print(f\"An error occurred: {e}\")\n",
    "\n",
    "if __name__ == \"__main__\":\n",
    "    if len(sys.argv) != 5:\n",
    "        print(\"Usage: python script.py input_file output_file source_column target_column\")\n",
    "    else:\n",
    "        input_file = sys.argv[1]\n",
    "        output_file = sys.argv[2]\n",
    "        source_column = sys.argv[3]\n",
    "        target_column = sys.argv[4]\n",
    "        calculate_average(input_file, output_file, source_column, target_column)\n"
   ]
  },
  {
   "cell_type": "markdown",
   "id": "6bd97a64",
   "metadata": {},
   "source": [
    "# 1. Case Study: Online Shopping Cart Exception Handling\n",
    "\n",
    "You are working as a Python developer for an e-commerce company, and your team is responsible for building and maintaining the shopping cart module of the website. Customers can add items to their cart, view the cart contents, and proceed to checkout\n",
    "\n",
    "Recently, there have been reports of unexpected crashes and errors when customers interact with\n",
    "\n",
    "their shopping carts. Your task is to investigate these issues and improve the exception handling in the\n",
    "\n",
    "shopping cart code to make it more robust.\n",
    "\n",
    "Requirements and Scenarios:\n",
    "\n",
    "Scenario 1-Adding Items to Cart:\n",
    "\n",
    "When a customer adds an item to their cart, they provide the product ID and quantity. Handle\n",
    "\n",
    "exceptions that may occur during this process, such as:\n",
    "\n",
    "Product ID not found in the product catalog. Invalid quantity (e.g., negative quantity or non-integer input).\n",
    "\n",
    "Scenario 2-Viewing Cart Contents:\n",
    "\n",
    "When a customer views their cart, display the list of items and their quantities. Handle exceptions that\n",
    "\n",
    "may occur during this process, such as:\n",
    "\n",
    "L'Empty cart (no items added). i. Unexpected errors (eg, network issues when fetching cart data).\n",
    "\n",
    "Scenario 3-Proceeding to Checkout:\n",
    "\n",
    "When a customer proceeds to checkout, validate the cart and process the payment. Handle exceptions\n",
    "\n",
    "that may occur during this process, such as\n",
    "\n",
    "Insufficient stock for some items in the cart il Payment gateway errors.\n",
    "\n",
    "Customer payment method declined.\n",
    "\n",
    "Your Tasks:\n",
    "\n",
    "1. Review the existing shopping cart code to identify potential areas where exceptions may occur. 2. Enhance the exception handling in the code by adding appropriate try, except, and finally blocks to handle exceptions gracefully. Provide helpful error messages to the user where\n",
    "\n",
    "applicable 3. Ensure that the program continues to run smoothly even when exceptions occur, and\n",
    "\n",
    "customers receive informative feedback. 4. Test the shopping cart thoroughly with different scenarios to ensure that it handles exceptions\n",
    "\n",
    "correctly"
   ]
  },
  {
   "cell_type": "code",
   "execution_count": 14,
   "id": "630de0f0",
   "metadata": {},
   "outputs": [
    {
     "ename": "IndentationError",
     "evalue": "expected an indented block after function definition on line 27 (1441051775.py, line 29)",
     "output_type": "error",
     "traceback": [
      "\u001b[1;36m  Cell \u001b[1;32mIn[14], line 29\u001b[1;36m\u001b[0m\n\u001b[1;33m    if not self.product_exists(product_id):\u001b[0m\n\u001b[1;37m    ^\u001b[0m\n\u001b[1;31mIndentationError\u001b[0m\u001b[1;31m:\u001b[0m expected an indented block after function definition on line 27\n"
     ]
    }
   ],
   "source": [
    "class ProductNotFoundException(Exception):\n",
    "    pass\n",
    "\n",
    "class InvalidQuantityException(Exception):\n",
    "    pass\n",
    "\n",
    "class EmptyCartException(Exception):\n",
    "    pass\n",
    "\n",
    "class InsufficientStockException(Exception):\n",
    "    pass\n",
    "\n",
    "class PaymentGatewayException(Exception):\n",
    "    pass\n",
    "\n",
    "class PaymentDeclinedException(Exception):\n",
    "    pass\n",
    "\n",
    "class shoppingcart:\n",
    "    def __init__(self):\n",
    "        self.cart = []\n",
    "        \n",
    "        \n",
    "\n",
    "    def add_to_cart(self, product_id, quantity):\n",
    "        try:\n",
    "            def product_exsits(product_id):\n",
    "                                         \n",
    "            if not self.product_exists(product_id):\n",
    "                raise ProductNotFoundException(f\"Product with ID {product_id} not found.\")\n",
    "\n",
    "            \n",
    "            if not self.is_valid_quantity(quantity):\n",
    "                raise InvalidQuantityException(\"Invalid quantity provided.\")\n",
    "\n",
    "            \n",
    "            self.cart.append({\"product_id\": product_id, \"quantity\": quantity})\n",
    "        except (ProductNotFoundException, InvalidQuantityException) as e:\n",
    "            print(f\"Error: {e}\")\n",
    "\n",
    "    def view_cart(self):\n",
    "        try:\n",
    "            \n",
    "            if not self.cart:\n",
    "                raise EmptyCartException(\"Your cart is empty.\")\n",
    "            \n",
    "            \n",
    "            for item in self.cart:\n",
    "                print(f\"Product ID: {item['product_id']}, Quantity: {item['quantity']}\")\n",
    "        except EmptyCartException as e:\n",
    "            print(f\"Error: {e}\")\n",
    "        except Exception as e:\n",
    "            print(f\"An unexpected error occurred: {e}\")\n",
    "\n",
    "    def checkout(self):\n",
    "        try:\n",
    "        \n",
    "            if not self.cart:\n",
    "                raise EmptyCartException(\"Your cart is empty.\")\n",
    "\n",
    "            \n",
    "            if not self.has_sufficient_stock():\n",
    "                raise InsufficientStockException(\"Insufficient stock for some items in your cart.\")\n",
    "            \n",
    "            \n",
    "            try:\n",
    "                self.process_payment()\n",
    "            except PaymentGatewayException as e:\n",
    "                raise PaymentDeclinedException(f\"Payment failed: {e}\")\n",
    "            \n",
    "        \n",
    "            self.complete_checkout()\n",
    "        except (EmptyCartException, InsufficientStockException, PaymentDeclinedException) as e:\n",
    "            print(f\"Error: {e}\")\n",
    "        except Exception as e:\n",
    "            print(f\"An unexpected error occurred: {e}\")\n",
    "\n",
    "\n",
    "\n",
    "\n",
    "if __name__ == \"__main__\":\n",
    "    cart = shoppingcart()# Ad\n",
    "\n",
    "    cart.add_to_cart(\"product123\", 5)  \n",
    "    cart.add_to_cart(\"invalid_product\", 3) \n",
    "    cart.add_to_cart(\"product456\", -2)  \n",
    "    cart.view_cart()  \n",
    "    cart.checkout()  \n"
   ]
  },
  {
   "cell_type": "markdown",
   "id": "6cec03bc",
   "metadata": {},
   "source": [
    "# 4. Case Study: Online Bookstore Database Connectivity\n",
    "\n",
    "You are a Python developer working on the backend of an online bookstore website. The website's database stores information about books, customers, orders, and inventory. Your task is to develop and maintain the database connectivity and interaction components.\n",
    "\n",
    "Requirements and Scenarios:\n",
    "\n",
    "Scenario 1-Customer Registration:\n",
    "\n",
    "When a new customer registers on the website, their information (name, email, password) should be stored in the database\n",
    "\n",
    "Handle exceptions that may occur during the registration process, such as\n",
    "\n",
    "1. Duplicate email addresses. 2. Database connection errors.\n",
    "\n",
    "Scenario 2-Book Inventory Management:\n",
    "\n",
    "Implement functionality to add new books to the inventory, update existing book details, and delete books.\n",
    "\n",
    "Handle exceptions that may occur during these operations, such as:\n",
    "\n",
    "1 Invalid book data 2. Database errors when updating or deleting books.\n",
    "\n",
    "Scenario 3-Customer Orders:\n",
    "\n",
    "Allow customers place orders for books. Each order includes customer details and a list of ordered books.\n",
    "\n",
    "Handle exceptions that may occur during order placement, such as:\n",
    "\n",
    "1. Insufficient stock for some books 2. Database errors when recording orders:\n",
    "\n",
    "Scenario 4-Order History:\n",
    "\n",
    "Customers should be able to view their order history, which includes details of past orders\n",
    "\n",
    "Handle exceptions that may occur when retrieving order history, such as\n",
    "\n",
    "1. No orders found for the customer. 2 Database connection issues"
   ]
  },
  {
   "cell_type": "code",
   "execution_count": 16,
   "id": "1b72c3ae",
   "metadata": {},
   "outputs": [
    {
     "ename": "ModuleNotFoundError",
     "evalue": "No module named 'your_database_models'",
     "output_type": "error",
     "traceback": [
      "\u001b[1;31m---------------------------------------------------------------------------\u001b[0m",
      "\u001b[1;31mModuleNotFoundError\u001b[0m                       Traceback (most recent call last)",
      "Cell \u001b[1;32mIn[16], line 3\u001b[0m\n\u001b[0;32m      1\u001b[0m \u001b[38;5;28;01mfrom\u001b[39;00m \u001b[38;5;21;01msqlalchemy\u001b[39;00m \u001b[38;5;28;01mimport\u001b[39;00m create_engine\n\u001b[0;32m      2\u001b[0m \u001b[38;5;28;01mfrom\u001b[39;00m \u001b[38;5;21;01msqlalchemy\u001b[39;00m\u001b[38;5;21;01m.\u001b[39;00m\u001b[38;5;21;01morm\u001b[39;00m \u001b[38;5;28;01mimport\u001b[39;00m sessionmaker\n\u001b[1;32m----> 3\u001b[0m \u001b[38;5;28;01mfrom\u001b[39;00m \u001b[38;5;21;01myour_database_models\u001b[39;00m \u001b[38;5;28;01mimport\u001b[39;00m Customer, db_connect\n\u001b[0;32m      5\u001b[0m \u001b[38;5;28;01mdef\u001b[39;00m \u001b[38;5;21mregister_customer\u001b[39m(name, email, password):\n\u001b[0;32m      6\u001b[0m     \u001b[38;5;28;01mtry\u001b[39;00m:\n",
      "\u001b[1;31mModuleNotFoundError\u001b[0m: No module named 'your_database_models'"
     ]
    }
   ],
   "source": [
    "from sqlalchemy import create_engine\n",
    "from sqlalchemy.orm import sessionmaker\n",
    "from your_database_models import Customer, db_connect\n",
    "\n",
    "def register_customer(name, email, password):\n",
    "    try:\n",
    "        engine = db_connect()  # Create a database connection\n",
    "        Session = sessionmaker(bind=engine)\n",
    "        session = Session()\n",
    "\n",
    "        # Check if the email is already registered\n",
    "        if session.query(Customer).filter_by(email=email).first():\n",
    "            raise Exception(\"Email address already registered\")\n",
    "\n",
    "        # Create a new customer\n",
    "        new_customer = Customer(name=name, email=email, password=password)\n",
    "        session.add(new_customer)\n",
    "        session.commit()\n",
    "\n",
    "        print(\"Customer registered successfully\")\n",
    "    \n",
    "    except Exception as e:\n",
    "        print(f\"Registration failed: {e}\")\n",
    "\n",
    "    finally:\n",
    "        session.close()\n",
    "\n",
    "# Usage:\n",
    "# register_customer(\"John Doe\", \"john@example.com\", \"password\")\n",
    "from sqlalchemy.exc import IntegrityError\n",
    "from your_database_models import Book, db_connect\n",
    "\n",
    "def add_book(title, author, price, stock):\n",
    "    try:\n",
    "        engine = db_connect()\n",
    "        Session = sessionmaker(bind=engine)\n",
    "        session = Session()\n",
    "\n",
    "        new_book = Book(title=title, author=author, price=price, stock=stock)\n",
    "        session.add(new_book)\n",
    "        session.commit()\n",
    "\n",
    "        print(\"Book added successfully\")\n",
    "\n",
    "    except IntegrityError as e:\n",
    "        print(\"Error: Invalid book data or book already exists\")\n",
    "\n",
    "    except Exception as e:\n",
    "        print(f\"Error: {e}\")\n",
    "\n",
    "    finally:\n",
    "        session.close()\n",
    "\n",
    "# Usage:\n",
    "# add_book(\"The Great Gatsby\", \"F. Scott Fitzgerald\", 15.99, 100)\n",
    "from sqlalchemy import and_\n",
    "from sqlalchemy.orm.exc import NoResultFound\n",
    "from your_database_models import Order, OrderItem, Book, db_connect\n",
    "\n",
    "def place_order(customer_id, book_ids_and_quantities):\n",
    "    try:\n",
    "        engine = db_connect()\n",
    "        Session = sessionmaker(bind=engine)\n",
    "        session = Session()\n",
    "\n",
    "        # Check if there's sufficient stock for all books\n",
    "        for book_id, quantity in book_ids_and_quantities:\n",
    "            book = session.query(Book).filter_by(id=book_id).first()\n",
    "            if not book or book.stock < quantity:\n",
    "                raise Exception(f\"Insufficient stock for book {book_id}\")\n",
    "\n",
    "        # Create a new order\n",
    "        new_order = Order(customer_id=customer_id)\n",
    "        session.add(new_order)\n",
    "        session.commit()\n",
    "\n",
    "        # Record order items\n",
    "        for book_id, quantity in book_ids_and_quantities:\n",
    "            book = session.query(Book).filter_by(id=book_id).first()\n",
    "            order_item = OrderItem(order=new_order, book=book, quantity=quantity)\n",
    "            session.add(order_item)\n",
    "            book.stock -= quantity  # Update stock\n",
    "            session.commit()\n",
    "\n",
    "        print(\"Order placed successfully\")\n",
    "\n",
    "    except Exception as e:\n",
    "        print(f\"Order placement failed: {e}\")\n",
    "\n",
    "    finally:\n",
    "        session.close()\n",
    "\n",
    "# Usage:\n",
    "# place_order(1, [(1, 2), (2, 1)])\n",
    "from sqlalchemy.orm.exc import NoResultFound\n",
    "from your_database_models import Order, db_connect\n",
    "\n",
    "def get_order_history(customer_id):\n",
    "    try:\n",
    "        engine = db_connect()\n",
    "        Session = sessionmaker(bind=engine)\n",
    "        session = Session()\n",
    "\n",
    "        orders = session.query(Order).filter_by(customer_id=customer_id).all()\n",
    "        \n",
    "        if not orders:\n",
    "            raise Exception(\"No orders found for this customer\")\n",
    "\n",
    "        # Process and return the order history\n",
    "\n",
    "    except Exception as e:\n",
    "        print(f\"Error: {e}\")\n",
    "\n",
    "    finally:\n",
    "        session.close()\n",
    "\n",
    "# Usage:\n",
    "# get_order_history(1)\n",
    "\n"
   ]
  },
  {
   "cell_type": "code",
   "execution_count": null,
   "id": "29a28c55",
   "metadata": {},
   "outputs": [],
   "source": []
  }
 ],
 "metadata": {
  "kernelspec": {
   "display_name": "Python 3 (ipykernel)",
   "language": "python",
   "name": "python3"
  },
  "language_info": {
   "codemirror_mode": {
    "name": "ipython",
    "version": 3
   },
   "file_extension": ".py",
   "mimetype": "text/x-python",
   "name": "python",
   "nbconvert_exporter": "python",
   "pygments_lexer": "ipython3",
   "version": "3.11.4"
  }
 },
 "nbformat": 4,
 "nbformat_minor": 5
}
